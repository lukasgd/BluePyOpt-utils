{
 "cells": [
  {
   "cell_type": "markdown",
   "id": "3922b16f",
   "metadata": {
    "tags": [
     "papermill-error-cell-tag"
    ]
   },
   "source": [
    "<span style=\"color:red; font-family:Helvetica Neue, Helvetica, Arial, sans-serif; font-size:2em;\">An Exception was encountered at '<a href=\"#papermill-error-cell\">In [18]</a>'.</span>"
   ]
  },
  {
   "cell_type": "markdown",
   "id": "302bed9f",
   "metadata": {
    "papermill": {
     "duration": 0.030238,
     "end_time": "2022-08-11T17:59:49.629744",
     "exception": false,
     "start_time": "2022-08-11T17:59:49.599506",
     "status": "completed"
    },
    "pycharm": {
     "name": "#%% md\n"
    },
    "tags": []
   },
   "source": [
    "# Simulating optimized cells in Arbor and cross-validation with Neuron\n",
    "\n",
    "This notebook demonstrates how to run a simulation of a simple single compartmental cell with fixed/optimized parameters in Arbor. We follow the standard BluePyOpt flow of setting up an electrophysiological experiment and export the cell model to a mixed JSON/ACC-format. We then cross-validate voltage traces obtained with Arbor with those from a Neuron simulation."
   ]
  },
  {
   "cell_type": "code",
   "execution_count": 1,
   "id": "d9f84e60",
   "metadata": {
    "execution": {
     "iopub.execute_input": "2022-08-11T17:59:49.648636Z",
     "iopub.status.busy": "2022-08-11T17:59:49.648242Z",
     "iopub.status.idle": "2022-08-11T17:59:49.656839Z",
     "shell.execute_reply": "2022-08-11T17:59:49.656245Z"
    },
    "papermill": {
     "duration": 0.018526,
     "end_time": "2022-08-11T17:59:49.658140",
     "exception": false,
     "start_time": "2022-08-11T17:59:49.639614",
     "status": "completed"
    },
    "tags": [
     "parameters"
    ]
   },
   "outputs": [],
   "source": [
    "# Choose subset of L5PC mechanisms to run (all regional mechs get re-mapped to soma)\n",
    "mechanism_defs = dict(\n",
    "    all=['pas'],\n",
    "    somatic=['hh'])\n",
    "\n",
    "extra_params = dict(\n",
    "    v_init='global',\n",
    "    # celsius='global',\n",
    "    cm=['all'],\n",
    "    Ra=['all'],\n",
    "    g_pas=['all'],  # add 'pas' to mechs on all above\n",
    "    e_pas=['all'],  # add 'pas' to mechs on all above\n",
    ")\n",
    "\n",
    "param_values_json = None\n",
    "\n",
    "default_dt = 0.025\n",
    "\n",
    "fine_dt = 0.001\n",
    "\n",
    "voltage_residual_rel_l1_tolerance = 5e-2\n",
    "\n",
    "run_spike_time_analysis = True\n",
    "\n",
    "run_fine_dt = True"
   ]
  },
  {
   "cell_type": "code",
   "execution_count": 2,
   "id": "c417ceed",
   "metadata": {
    "execution": {
     "iopub.execute_input": "2022-08-11T17:59:49.669650Z",
     "iopub.status.busy": "2022-08-11T17:59:49.669126Z",
     "iopub.status.idle": "2022-08-11T17:59:49.672937Z",
     "shell.execute_reply": "2022-08-11T17:59:49.672402Z"
    },
    "papermill": {
     "duration": 0.01131,
     "end_time": "2022-08-11T17:59:49.674550",
     "exception": false,
     "start_time": "2022-08-11T17:59:49.663240",
     "status": "completed"
    },
    "tags": [
     "injected-parameters"
    ]
   },
   "outputs": [],
   "source": [
    "# Parameters\n",
    "mechanism_defs = {\"all\": [\"pas\"], \"axonal\": [\"Ca_LVAst\", \"CaDynamics_E2\", \"SK_E2\"]}\n",
    "extra_params = {\n",
    "    \"v_init\": \"global\",\n",
    "    \"celsius\": \"global\",\n",
    "    \"g_pas\": [\"all\"],\n",
    "    \"e_pas\": [\"all\"],\n",
    "    \"cm\": [\"all\"],\n",
    "    \"Ra\": [\"all\"],\n",
    "    \"ek\": [\"axonal\"],\n",
    "}\n",
    "param_values_json = \"../../../BluePyOpt-utils/validation/all-regions/param_values.json\"\n",
    "default_dt = 0.025\n",
    "run_spike_time_analysis = False\n",
    "run_fine_dt = True\n",
    "voltage_residual_rel_l1_tolerance = 0.05\n"
   ]
  },
  {
   "cell_type": "code",
   "execution_count": 3,
   "id": "13940f4f",
   "metadata": {
    "execution": {
     "iopub.execute_input": "2022-08-11T17:59:49.686150Z",
     "iopub.status.busy": "2022-08-11T17:59:49.685750Z",
     "iopub.status.idle": "2022-08-11T17:59:50.325820Z",
     "shell.execute_reply": "2022-08-11T17:59:50.325291Z"
    },
    "papermill": {
     "duration": 0.647248,
     "end_time": "2022-08-11T17:59:50.327029",
     "exception": false,
     "start_time": "2022-08-11T17:59:49.679781",
     "status": "completed"
    },
    "pycharm": {
     "name": "#%%\n"
    },
    "tags": []
   },
   "outputs": [],
   "source": [
    "%matplotlib inline\n",
    "import matplotlib.pyplot as plt\n",
    "%load_ext autoreload\n",
    "%autoreload"
   ]
  },
  {
   "cell_type": "markdown",
   "id": "20babb89",
   "metadata": {
    "papermill": {
     "duration": 0.005544,
     "end_time": "2022-08-11T17:59:50.338045",
     "exception": false,
     "start_time": "2022-08-11T17:59:50.332501",
     "status": "completed"
    },
    "pycharm": {
     "name": "#%% md\n"
    },
    "tags": []
   },
   "source": [
    "First we need to compile the L5PC mechanisms and import the module that contains all the functionality to create electrical cell models"
   ]
  },
  {
   "cell_type": "code",
   "execution_count": 4,
   "id": "c77bc1c3",
   "metadata": {
    "execution": {
     "iopub.execute_input": "2022-08-11T17:59:50.351428Z",
     "iopub.status.busy": "2022-08-11T17:59:50.351080Z",
     "iopub.status.idle": "2022-08-11T17:59:51.028087Z",
     "shell.execute_reply": "2022-08-11T17:59:51.027218Z"
    },
    "papermill": {
     "duration": 0.684795,
     "end_time": "2022-08-11T17:59:51.029296",
     "exception": false,
     "start_time": "2022-08-11T17:59:50.344501",
     "status": "completed"
    },
    "pycharm": {
     "name": "#%%\n"
    },
    "tags": []
   },
   "outputs": [
    {
     "name": "stdout",
     "output_type": "stream",
     "text": [
      "/home/lukasd/src/arbor/dev/BluePyOpt/examples/l5pc\r\n",
      "Mod files: \"mechanisms/CaDynamics_E2.mod\" \"mechanisms/Ca_HVA.mod\" \"mechanisms/Ca_LVAst.mod\" \"mechanisms/Ih.mod\" \"mechanisms/Im.mod\" \"mechanisms/K_Pst.mod\" \"mechanisms/K_Tst.mod\" \"mechanisms/Nap_Et2.mod\" \"mechanisms/NaTa_t.mod\" \"mechanisms/NaTs2_t.mod\" \"mechanisms/SK_E2.mod\" \"mechanisms/SKv3_1.mod\"\r\n",
      "\r\n"
     ]
    },
    {
     "name": "stdout",
     "output_type": "stream",
     "text": [
      "COBJS=''\r\n"
     ]
    },
    {
     "name": "stdout",
     "output_type": "stream",
     "text": [
      " -> \u001b[32mCompiling\u001b[0m mod_func.c\r\n",
      "x86_64-linux-gnu-gcc -O2   -I.   -I/home/lukasd/src/arbor/dev/venv/lib/python3.8/site-packages/neuron/.data/include  -I/nrnwheel/openmpi/include -fPIC -c mod_func.c -o mod_func.o\r\n",
      " => \u001b[32mLINKING\u001b[0m shared library ./libnrnmech.so\r\n",
      "x86_64-linux-gnu-g++ -O2 -DVERSION_INFO='8.0.2' -std=c++11 -shared -fPIC  -I /home/lukasd/src/arbor/dev/venv/lib/python3.8/site-packages/neuron/.data/include -o ./libnrnmech.so -Wl,-soname,libnrnmech.so \\\r\n",
      "  ./mod_func.o ./CaDynamics_E2.o ./Ca_HVA.o ./Ca_LVAst.o ./Ih.o ./Im.o ./K_Pst.o ./K_Tst.o ./Nap_Et2.o ./NaTa_t.o ./NaTs2_t.o ./SK_E2.o ./SKv3_1.o  -L/home/lukasd/src/arbor/dev/venv/lib/python3.8/site-packages/neuron/.data/lib -lnrniv -Wl,-rpath,/home/lukasd/src/arbor/dev/venv/lib/python3.8/site-packages/neuron/.data/lib   \r\n"
     ]
    },
    {
     "name": "stdout",
     "output_type": "stream",
     "text": [
      "rm -f ./.libs/libnrnmech.so ; mkdir -p ./.libs ; cp ./libnrnmech.so ./.libs/libnrnmech.so\r\n"
     ]
    },
    {
     "name": "stdout",
     "output_type": "stream",
     "text": [
      "Successfully created x86_64/special\r\n"
     ]
    }
   ],
   "source": [
    "!nrnivmodl mechanisms\n",
    "import bluepyopt as bpop\n",
    "import bluepyopt.ephys as ephys"
   ]
  },
  {
   "cell_type": "code",
   "execution_count": 5,
   "id": "5423e847",
   "metadata": {
    "execution": {
     "iopub.execute_input": "2022-08-11T17:59:51.042504Z",
     "iopub.status.busy": "2022-08-11T17:59:51.041952Z",
     "iopub.status.idle": "2022-08-11T17:59:51.180171Z",
     "shell.execute_reply": "2022-08-11T17:59:51.179329Z"
    },
    "papermill": {
     "duration": 0.146728,
     "end_time": "2022-08-11T17:59:51.181395",
     "exception": false,
     "start_time": "2022-08-11T17:59:51.034667",
     "status": "completed"
    },
    "tags": []
   },
   "outputs": [],
   "source": [
    "import os\n",
    "import sys\n",
    "import tempfile\n",
    "from dataclasses import dataclass\n",
    "import typing\n",
    "import warnings\n",
    "import multiprocessing\n",
    "\n",
    "import numpy\n",
    "import pandas\n",
    "import scipy.integrate\n",
    "import scipy.interpolate\n",
    "\n",
    "import arbor\n",
    "\n",
    "from IPython.display import display"
   ]
  },
  {
   "cell_type": "markdown",
   "id": "6bb9e803",
   "metadata": {
    "papermill": {
     "duration": 0.005378,
     "end_time": "2022-08-11T17:59:51.193853",
     "exception": false,
     "start_time": "2022-08-11T17:59:51.188475",
     "status": "completed"
    },
    "pycharm": {
     "name": "#%% md\n"
    },
    "tags": []
   },
   "source": [
    "If you want to see a lot of information about the internals, \n",
    "the verbose level can be set to 'debug' by commenting out\n",
    "the following lines"
   ]
  },
  {
   "cell_type": "code",
   "execution_count": 6,
   "id": "7a36f866",
   "metadata": {
    "execution": {
     "iopub.execute_input": "2022-08-11T17:59:51.206440Z",
     "iopub.status.busy": "2022-08-11T17:59:51.206221Z",
     "iopub.status.idle": "2022-08-11T17:59:51.208694Z",
     "shell.execute_reply": "2022-08-11T17:59:51.208322Z"
    },
    "papermill": {
     "duration": 0.010114,
     "end_time": "2022-08-11T17:59:51.209686",
     "exception": false,
     "start_time": "2022-08-11T17:59:51.199572",
     "status": "completed"
    },
    "pycharm": {
     "name": "#%%\n"
    },
    "tags": []
   },
   "outputs": [],
   "source": [
    "# import logging\n",
    "# logger = logging.getLogger()\n",
    "# logger.setLevel(logging.DEBUG)"
   ]
  },
  {
   "cell_type": "markdown",
   "id": "aabc763c",
   "metadata": {
    "papermill": {
     "duration": 0.006841,
     "end_time": "2022-08-11T17:59:51.222036",
     "exception": false,
     "start_time": "2022-08-11T17:59:51.215195",
     "status": "completed"
    },
    "pycharm": {
     "name": "#%% md\n"
    },
    "tags": []
   },
   "source": [
    "## Setting up the cell model\n",
    "\n",
    "We use a single-compartimental cell model with the same morphology as in the `simplecell` example, but mechanisms from the `l5pc` model. They are instantiated with different options for axon replacement policy and (by default randomly sampled) mechanism parameter values."
   ]
  },
  {
   "cell_type": "code",
   "execution_count": 7,
   "id": "bb13fdb4",
   "metadata": {
    "collapsed": false,
    "execution": {
     "iopub.execute_input": "2022-08-11T17:59:51.234940Z",
     "iopub.status.busy": "2022-08-11T17:59:51.234648Z",
     "iopub.status.idle": "2022-08-11T17:59:51.237902Z",
     "shell.execute_reply": "2022-08-11T17:59:51.237470Z"
    },
    "jupyter": {
     "outputs_hidden": false
    },
    "papermill": {
     "duration": 0.011215,
     "end_time": "2022-08-11T17:59:51.238948",
     "exception": false,
     "start_time": "2022-08-11T17:59:51.227733",
     "status": "completed"
    },
    "pycharm": {
     "name": "#%%\n"
    },
    "tags": []
   },
   "outputs": [],
   "source": [
    "# parameter randomization\n",
    "import json\n",
    "import random\n",
    "\n",
    "# os.chdir('../../../BluePyOpt/examples/l5pc')\n",
    "import l5pc_model"
   ]
  },
  {
   "cell_type": "markdown",
   "id": "f2cf34f8",
   "metadata": {
    "papermill": {
     "duration": 0.005479,
     "end_time": "2022-08-11T17:59:51.249620",
     "exception": false,
     "start_time": "2022-08-11T17:59:51.244141",
     "status": "completed"
    },
    "pycharm": {
     "name": "#%% md\n"
    },
    "tags": []
   },
   "source": [
    "## Creating the protocols\n",
    "\n",
    "A protocol consists of a set of stimuli and recordings. These responses will later be used to compare voltage traces from simulations between Arbor and Neuron for different parameter values and axon replacement configurations.\n",
    "\n",
    "For the protocols, we apply stimuli centrally at the soma and probe the membrane voltage at a slightly displaced location. For this purpose, we introduce locations in Arbor, which are specified by a relative position `pos` on a `branch` of the morphology."
   ]
  },
  {
   "cell_type": "code",
   "execution_count": 8,
   "id": "b981b8eb",
   "metadata": {
    "execution": {
     "iopub.execute_input": "2022-08-11T17:59:51.262650Z",
     "iopub.status.busy": "2022-08-11T17:59:51.262418Z",
     "iopub.status.idle": "2022-08-11T17:59:51.267576Z",
     "shell.execute_reply": "2022-08-11T17:59:51.267146Z"
    },
    "papermill": {
     "duration": 0.012983,
     "end_time": "2022-08-11T17:59:51.268640",
     "exception": false,
     "start_time": "2022-08-11T17:59:51.255657",
     "status": "completed"
    },
    "tags": []
   },
   "outputs": [],
   "source": [
    "# Arbor location\n",
    "class ArbLocation(ephys.locations.Location):\n",
    "    def __init__(self, name, branch, pos, comment=''):\n",
    "        super().__init__(_arb_label(name), comment)\n",
    "        self.branch = branch\n",
    "        self.pos = pos\n",
    "\n",
    "    def instantiate(self):\n",
    "        return _arb_unlabel(self.name), '(location %s %s)' % (self.branch, self.pos)\n",
    "\n",
    "\n",
    "# Helper functions\n",
    "def _arb_label(name):\n",
    "    return '\"%s\"' % name\n",
    "\n",
    "\n",
    "def _arb_unlabel(name):\n",
    "    return name[1:-1]\n",
    "\n",
    "\n",
    "# Make locations available to Arbor by instantiating them on the label dictionary \n",
    "def instantiate_locations(labels, locations):\n",
    "    labels.append(\n",
    "        arbor.label_dict(\n",
    "            dict([loc.instantiate() for loc in locations.values()])))\n",
    "\n",
    "\n",
    "# Define locations on branch 0 of the morphology (soma)\n",
    "arb_locations = dict(\n",
    "    stim_loc=ArbLocation(\n",
    "        name='stim_loc',\n",
    "        branch=0,\n",
    "        pos=0.5\n",
    "    ),\n",
    "    probe_loc=ArbLocation(\n",
    "        name='probe_loc',\n",
    "        branch=0,\n",
    "        pos=0.75\n",
    "    )\n",
    ")"
   ]
  },
  {
   "cell_type": "code",
   "execution_count": 9,
   "id": "bf24c28d",
   "metadata": {
    "execution": {
     "iopub.execute_input": "2022-08-11T17:59:51.280657Z",
     "iopub.status.busy": "2022-08-11T17:59:51.280379Z",
     "iopub.status.idle": "2022-08-11T17:59:51.283839Z",
     "shell.execute_reply": "2022-08-11T17:59:51.283153Z"
    },
    "papermill": {
     "duration": 0.011321,
     "end_time": "2022-08-11T17:59:51.285311",
     "exception": false,
     "start_time": "2022-08-11T17:59:51.273990",
     "status": "completed"
    },
    "pycharm": {
     "name": "#%%\n"
    },
    "tags": []
   },
   "outputs": [],
   "source": [
    "nrn_locations = dict(\n",
    "    stim_loc=ephys.locations.NrnSeclistCompLocation(\n",
    "        name='soma',\n",
    "        seclist_name='somatic',\n",
    "        sec_index=0,\n",
    "        comp_x=0.5),\n",
    "    probe_loc=ephys.locations.NrnSeclistCompLocation(\n",
    "        name='probe',\n",
    "        seclist_name='somatic',\n",
    "        sec_index=0,\n",
    "        comp_x=0.75)\n",
    ")"
   ]
  },
  {
   "cell_type": "markdown",
   "id": "80b74064",
   "metadata": {
    "papermill": {
     "duration": 0.005816,
     "end_time": "2022-08-11T17:59:51.296871",
     "exception": false,
     "start_time": "2022-08-11T17:59:51.291055",
     "status": "completed"
    },
    "pycharm": {
     "name": "#%% md\n"
    },
    "tags": []
   },
   "source": [
    "We use a modified version of the L5PC protocols with shortened stimulus duration and reduced amplitudes."
   ]
  },
  {
   "cell_type": "code",
   "execution_count": 10,
   "id": "0c9bc0b5",
   "metadata": {
    "execution": {
     "iopub.execute_input": "2022-08-11T17:59:51.310167Z",
     "iopub.status.busy": "2022-08-11T17:59:51.309952Z",
     "iopub.status.idle": "2022-08-11T17:59:51.313877Z",
     "shell.execute_reply": "2022-08-11T17:59:51.313415Z"
    },
    "papermill": {
     "duration": 0.011883,
     "end_time": "2022-08-11T17:59:51.315040",
     "exception": false,
     "start_time": "2022-08-11T17:59:51.303157",
     "status": "completed"
    },
    "tags": []
   },
   "outputs": [],
   "source": [
    "# Protocol prots configuration\n",
    "protocol_steps = []\n",
    "for name, amplitude, duration in [('bAP', 0.19, 5), ('Step1', 0.0458, 50), ('Step3', 0.095, 50)]:\n",
    "    protocol_steps.append(\n",
    "        dict(name=name,\n",
    "             total_duration=120,\n",
    "             stimuli=[\n",
    "                 dict(name='%s.iclamp' % name,\n",
    "                      location='stim_loc',\n",
    "                      amplitude=amplitude,\n",
    "                      delay=40,\n",
    "                      duration=duration)],\n",
    "             recordings=[\n",
    "                 dict(name='%s.soma.v' % name,\n",
    "                      location='probe_loc')]))"
   ]
  },
  {
   "cell_type": "markdown",
   "id": "55e8715e",
   "metadata": {
    "papermill": {
     "duration": 0.005347,
     "end_time": "2022-08-11T17:59:51.326382",
     "exception": false,
     "start_time": "2022-08-11T17:59:51.321035",
     "status": "completed"
    },
    "tags": []
   },
   "source": [
    "The current stimuli, voltage and spike recordings are made available to Arbor by lazily instantiating them on decors/cell models."
   ]
  },
  {
   "cell_type": "code",
   "execution_count": 11,
   "id": "ae9b5a87",
   "metadata": {
    "execution": {
     "iopub.execute_input": "2022-08-11T17:59:51.339129Z",
     "iopub.status.busy": "2022-08-11T17:59:51.338884Z",
     "iopub.status.idle": "2022-08-11T17:59:51.343345Z",
     "shell.execute_reply": "2022-08-11T17:59:51.342946Z"
    },
    "papermill": {
     "duration": 0.012235,
     "end_time": "2022-08-11T17:59:51.344343",
     "exception": false,
     "start_time": "2022-08-11T17:59:51.332108",
     "status": "completed"
    },
    "tags": []
   },
   "outputs": [],
   "source": [
    "# Current stimuli\n",
    "def instantiate_stimuli(decor, stimuli, locations):\n",
    "    for stim in stimuli:\n",
    "        decor.place(locations[stim['location']].name,\n",
    "                    arbor.iclamp(stim['delay'],\n",
    "                                 stim['duration'],\n",
    "                                 current=stim['amplitude']),\n",
    "                    stim['name'])\n",
    "\n",
    "# Spike detection with a voltage threshold of -10 mV\n",
    "# (different from spike_time observables in eFEL that measure 'peak_time')\n",
    "def instantiate_spike_recordings(decor, recordings, locations):\n",
    "    for i, rec in enumerate(recordings):\n",
    "        decor.place(locations[rec['location']].name,\n",
    "                    arbor.spike_detector(-10),\n",
    "                    'spike_detector' + '.%s' % i)\n",
    "\n",
    "# Attach voltage probe sampling at 10 kHz (every 0.1 ms).\n",
    "def instantiate_voltage_recordings(cell_model, recordings, locations):\n",
    "    for i, rec in enumerate(recordings):\n",
    "        # alternatively arbor.cable_probe_membrane_voltage\n",
    "        cell_model.probe('voltage',\n",
    "                         locations[rec['location']].name,\n",
    "                         frequency=10)"
   ]
  },
  {
   "cell_type": "markdown",
   "id": "f11b679b",
   "metadata": {
    "papermill": {
     "duration": 0.005638,
     "end_time": "2022-08-11T17:59:51.356051",
     "exception": false,
     "start_time": "2022-08-11T17:59:51.350413",
     "status": "completed"
    },
    "tags": []
   },
   "source": [
    "The protocols for Neuron are defined analogous to the L5PC model."
   ]
  },
  {
   "cell_type": "code",
   "execution_count": 12,
   "id": "1ab1dbe0",
   "metadata": {
    "execution": {
     "iopub.execute_input": "2022-08-11T17:59:51.369264Z",
     "iopub.status.busy": "2022-08-11T17:59:51.368738Z",
     "iopub.status.idle": "2022-08-11T17:59:51.373104Z",
     "shell.execute_reply": "2022-08-11T17:59:51.372716Z"
    },
    "papermill": {
     "duration": 0.012204,
     "end_time": "2022-08-11T17:59:51.374061",
     "exception": false,
     "start_time": "2022-08-11T17:59:51.361857",
     "status": "completed"
    },
    "pycharm": {
     "name": "#%%\n"
    },
    "tags": []
   },
   "outputs": [],
   "source": [
    "sweep_protocols = []\n",
    "for prot_def in protocol_steps:\n",
    "    stims = []\n",
    "    for stim in prot_def['stimuli']:\n",
    "        stims.append(ephys.stimuli.NrnSquarePulse(step_amplitude=stim['amplitude'],\n",
    "                                                  step_delay=stim['delay'],\n",
    "                                                  step_duration=stim['duration'],\n",
    "                                                  location=nrn_locations[stim['location']],\n",
    "                                                  total_duration=prot_def['total_duration']))\n",
    "\n",
    "    recs = []\n",
    "    for rec in prot_def['recordings']:\n",
    "        recs.append(ephys.recordings.CompRecording(\n",
    "                    name=rec['name'],\n",
    "                    location=nrn_locations[rec['location']],\n",
    "                    variable='v'))\n",
    "\n",
    "    protocol = ephys.protocols.SweepProtocol(prot_def['name'], stims, recs)\n",
    "    sweep_protocols.append(protocol)\n",
    "\n",
    "nrn_protocol = ephys.protocols.SequenceProtocol('multistep', protocols=sweep_protocols)"
   ]
  },
  {
   "cell_type": "markdown",
   "id": "e48c1c41",
   "metadata": {
    "papermill": {
     "duration": 0.006152,
     "end_time": "2022-08-11T17:59:51.385770",
     "exception": false,
     "start_time": "2022-08-11T17:59:51.379618",
     "status": "completed"
    },
    "pycharm": {
     "name": "#%% md\n"
    },
    "tags": []
   },
   "source": [
    "## Running a protocol on an Arbor cable cell\n",
    "\n",
    "To run a protocol in Arbor, we need to export the cell model to a mixed JSON/ACC-format and assemble an Arbor cable cell on which we instantiate the locations, protocol stimuli and recordings. We use this cell to build a `single_cell_model` that sets up the constituents of an Arbor simulation and enables running a sweep protocol.\n",
    "\n",
    "To run the protocols also with Neuron, we follow the standard flow by creating a simulator object."
   ]
  },
  {
   "cell_type": "code",
   "execution_count": 13,
   "id": "1c968ea5",
   "metadata": {
    "execution": {
     "iopub.execute_input": "2022-08-11T17:59:51.400111Z",
     "iopub.status.busy": "2022-08-11T17:59:51.399697Z",
     "iopub.status.idle": "2022-08-11T17:59:51.407043Z",
     "shell.execute_reply": "2022-08-11T17:59:51.406581Z"
    },
    "papermill": {
     "duration": 0.016138,
     "end_time": "2022-08-11T17:59:51.408064",
     "exception": false,
     "start_time": "2022-08-11T17:59:51.391926",
     "status": "completed"
    },
    "tags": []
   },
   "outputs": [],
   "source": [
    "class ArbSequenceProtocol(ephys.protocols.Protocol):\n",
    "    '''Run multiple sweep protocol steps and extract voltage traces/detected spikes'''\n",
    "\n",
    "    def __init__(self, name, protocols, locations):\n",
    "        super().__init__(name)\n",
    "        self.protocols = protocols\n",
    "        self.locations = locations\n",
    "\n",
    "    @staticmethod\n",
    "    def run_sweep_protocol(prot_def, locations, cell, params, dt):\n",
    "        '''Write cell model to ACC/JSON and run sweep protocol step'''\n",
    "        # Export cell model to mixed JSON/ACC-format\n",
    "        with tempfile.TemporaryDirectory() as acc_dir:\n",
    "            ephys.create_acc.output_acc(acc_dir, cell, params)\n",
    "            cell_json, morph, labels, decor = \\\n",
    "                ephys.create_acc.read_acc(\n",
    "                    os.path.join(acc_dir, cell.name + '.json'))\n",
    "\n",
    "        # Instantiate protocols on cable cell components\n",
    "        instantiate_locations(labels, locations)\n",
    "        instantiate_stimuli(decor, prot_def['stimuli'], locations)\n",
    "        instantiate_spike_recordings(decor, prot_def['recordings'], locations)\n",
    "        \n",
    "        # Create cable cell\n",
    "        cable_cell = arbor.cable_cell(morph, labels, decor)\n",
    "        # can output and visualize the cable cell in the Arbor GUI using\n",
    "        # arbor.write_component(cable_cell, '<filename>.acc')\n",
    "\n",
    "        # Create single cell model\n",
    "        arb_cell_model = arbor.single_cell_model(cable_cell)\n",
    "\n",
    "        # Add catalogues with explicit qualifiers\n",
    "        arb_cell_model.properties.catalogue = arbor.catalogue()\n",
    "        arb_cell_model.properties.catalogue.extend(\n",
    "            arbor.default_catalogue(), \"default::\")\n",
    "        arb_cell_model.properties.catalogue.extend(\n",
    "            arbor.bbp_catalogue(), \"BBP::\")\n",
    "    \n",
    "        # Instantiate remaining voltage recording\n",
    "        instantiate_voltage_recordings(arb_cell_model, prot_def['recordings'], locations)\n",
    "\n",
    "        # Run the simulation for the protocol step\n",
    "        arb_cell_model.run(tfinal=prot_def['total_duration'], dt=dt)\n",
    "\n",
    "        # Collect results\n",
    "        arb_resp = dict()\n",
    "        for i, rec in enumerate(prot_def['recordings']):\n",
    "            arb_resp[rec['name']] = \\\n",
    "                dict(time=arb_cell_model.traces[i].time,\n",
    "                     voltage=arb_cell_model.traces[i].value,\n",
    "                     spikes=arb_cell_model.spikes)  # TODO: handle global callback\n",
    "\n",
    "        return arb_resp\n",
    "\n",
    "\n",
    "    def run(self, cell_model, params, dt):\n",
    "        arb_resp = dict()\n",
    "        for prot_def in self.protocols:\n",
    "            arb_resp.update(self.run_sweep_protocol(\n",
    "                prot_def, self.locations, cell_model, params, dt))\n",
    "        return arb_resp\n",
    "\n",
    "\n",
    "arb_protocol = ArbSequenceProtocol('multistep', protocol_steps, arb_locations)"
   ]
  },
  {
   "cell_type": "markdown",
   "id": "6e7baee9",
   "metadata": {
    "papermill": {
     "duration": 0.005902,
     "end_time": "2022-08-11T17:59:51.419501",
     "exception": false,
     "start_time": "2022-08-11T17:59:51.413599",
     "status": "completed"
    },
    "tags": []
   },
   "source": [
    "## Cross-validation of Arbor and Neuron voltage traces\n",
    "\n",
    "To validate Arbor's simulation output with that of Neuron, we run the protocols over a set of parameter values, either loaded from a JSON-file or randomly sampled from the parameter bounds (using `random.uniform(*bounds)`) and both with and without axon replacement.\n",
    "\n",
    "First, we gather L5PC mechanisms and parameters according to `mechanism_defs` and `extra_params` in the top cell of this notebook."
   ]
  },
  {
   "cell_type": "code",
   "execution_count": 14,
   "id": "ff76588b",
   "metadata": {
    "execution": {
     "iopub.execute_input": "2022-08-11T17:59:51.433760Z",
     "iopub.status.busy": "2022-08-11T17:59:51.433494Z",
     "iopub.status.idle": "2022-08-11T17:59:51.443372Z",
     "shell.execute_reply": "2022-08-11T17:59:51.442831Z"
    },
    "papermill": {
     "duration": 0.019054,
     "end_time": "2022-08-11T17:59:51.444446",
     "exception": false,
     "start_time": "2022-08-11T17:59:51.425392",
     "status": "completed"
    },
    "tags": []
   },
   "outputs": [
    {
     "data": {
      "text/plain": [
       "['g_pas.all',\n",
       " 'e_pas.all',\n",
       " 'cm.all',\n",
       " 'Ra.all',\n",
       " 'v_init',\n",
       " 'celsius',\n",
       " 'ek.somatic',\n",
       " 'gSK_E2bar_SK_E2.somatic',\n",
       " 'gCa_LVAstbar_Ca_LVAst.somatic',\n",
       " 'gamma_CaDynamics_E2.somatic',\n",
       " 'decay_CaDynamics_E2.somatic']"
      ]
     },
     "execution_count": 14,
     "metadata": {},
     "output_type": "execute_result"
    }
   ],
   "source": [
    "mechanisms = l5pc_model.create_mechanisms(\n",
    "    dict(all=mechanism_defs['all'],\n",
    "         somatic=[mech for loc, mechs in mechanism_defs.items() \n",
    "                  if loc != 'all' for mech in mechs]))\n",
    "\n",
    "l5pc_param_configs = l5pc_model.load_parameters()\n",
    "l5pc_param_names = []\n",
    "for p in l5pc_param_configs:\n",
    "    if 'mech' in p and p['mech'] in mechanism_defs.get(p['sectionlist'], []):\n",
    "        l5pc_param_names.append(p['param_name'] + '.' + p['sectionlist'])\n",
    "\n",
    "param_configs = []\n",
    "for p in l5pc_param_configs:\n",
    "    if 'mech' not in p:\n",
    "        if p['param_name'] in extra_params and (p['type'] == 'global' or \\\n",
    "            p['sectionlist'] in extra_params[p['param_name']]):\n",
    "            if p['type'] != 'global' and p['sectionlist'] != 'all':\n",
    "                p['sectionlist'] = 'somatic'  # remap to soma\n",
    "            param_configs.append(p)\n",
    "\n",
    "    elif p['mech'] in mechanism_defs.get(p['sectionlist'], []):\n",
    "        p['sectionlist'] = 'somatic'  # remap to soma\n",
    "        param_configs.append(p)\n",
    "\n",
    "if 'somatic' in mechanism_defs and 'hh' in mechanism_defs['somatic']:\n",
    "    for param_name, bounds in [('gnabar', (0.05, 0.125)),\n",
    "                               ('gkbar', (0.01, 0.075))]:\n",
    "        param_configs.append({\n",
    "            \"param_name\": param_name + \"_hh\",\n",
    "            \"mech\": \"hh\",\n",
    "            \"bounds\": bounds,\n",
    "            \"dist_type\": \"uniform\",\n",
    "            \"type\": \"range\",\n",
    "            \"sectionlist\": \"somatic\"\n",
    "        })\n",
    "\n",
    "parameters = l5pc_model.create_parameters(param_configs)\n",
    "\n",
    "# Print the names of all parameters\n",
    "[p.name for p in parameters]"
   ]
  },
  {
   "cell_type": "markdown",
   "id": "d33011b3",
   "metadata": {
    "papermill": {
     "duration": 0.006157,
     "end_time": "2022-08-11T17:59:51.456584",
     "exception": false,
     "start_time": "2022-08-11T17:59:51.450427",
     "status": "completed"
    },
    "tags": []
   },
   "source": [
    "We either randomly sample or read the values of non-frozen parameters from a file."
   ]
  },
  {
   "cell_type": "code",
   "execution_count": 15,
   "id": "bd0eccf8",
   "metadata": {
    "execution": {
     "iopub.execute_input": "2022-08-11T17:59:51.471149Z",
     "iopub.status.busy": "2022-08-11T17:59:51.470918Z",
     "iopub.status.idle": "2022-08-11T17:59:51.477707Z",
     "shell.execute_reply": "2022-08-11T17:59:51.477246Z"
    },
    "papermill": {
     "duration": 0.015057,
     "end_time": "2022-08-11T17:59:51.478756",
     "exception": false,
     "start_time": "2022-08-11T17:59:51.463699",
     "status": "completed"
    },
    "tags": []
   },
   "outputs": [
    {
     "data": {
      "text/plain": [
       "[{'gSK_E2bar_SK_E2.somatic': 0.04827344902488591,\n",
       "  'gCa_LVAstbar_Ca_LVAst.somatic': 0.0075235086678380825,\n",
       "  'gamma_CaDynamics_E2.somatic': 0.015596840653767825,\n",
       "  'decay_CaDynamics_E2.somatic': 715.5905740778992},\n",
       " {'gSK_E2bar_SK_E2.somatic': 0.015587742693874208,\n",
       "  'gCa_LVAstbar_Ca_LVAst.somatic': 0.004280008376959282,\n",
       "  'gamma_CaDynamics_E2.somatic': 0.01313306786527963,\n",
       "  'decay_CaDynamics_E2.somatic': 624.2353268976092},\n",
       " {'gSK_E2bar_SK_E2.somatic': 0.0793018238143838,\n",
       "  'gCa_LVAstbar_Ca_LVAst.somatic': 0.009314809331469012,\n",
       "  'gamma_CaDynamics_E2.somatic': 0.028080610838737318,\n",
       "  'decay_CaDynamics_E2.somatic': 669.6397300091332},\n",
       " {'gSK_E2bar_SK_E2.somatic': 0.0923208055016421,\n",
       "  'gCa_LVAstbar_Ca_LVAst.somatic': 0.007965921670939716,\n",
       "  'gamma_CaDynamics_E2.somatic': 0.0017571167300321929,\n",
       "  'decay_CaDynamics_E2.somatic': 518.3682190492215},\n",
       " {'gSK_E2bar_SK_E2.somatic': 0.00026715405295911764,\n",
       "  'gCa_LVAstbar_Ca_LVAst.somatic': 0.005409824260276022,\n",
       "  'gamma_CaDynamics_E2.somatic': 0.002832802688083712,\n",
       "  'decay_CaDynamics_E2.somatic': 697.067961448053}]"
      ]
     },
     "execution_count": 15,
     "metadata": {},
     "output_type": "execute_result"
    }
   ],
   "source": [
    "if not hasattr(arbor, \"prune_tag\"):  # skip axon replacement if not yet supported\n",
    "    replace_axon = [False]\n",
    "else:\n",
    "    replace_axon = [False, True]\n",
    "\n",
    "non_frozen_parameters = [param for param in parameters if not param.frozen]\n",
    "param_names = [param.name for param in non_frozen_parameters]\n",
    "\n",
    "if param_values_json is not None:\n",
    "    with open(param_values_json) as f:\n",
    "        params = []\n",
    "        for param_sample in json.load(f):\n",
    "            ps = dict()\n",
    "            for p_name, p_value in param_sample.items():\n",
    "                if p_name in l5pc_param_names:\n",
    "                    ps[p_name.split('.')[0] + '.somatic'] = p_value\n",
    "            params.append(ps)\n",
    "else:\n",
    "    params = [{param.name: random.uniform(*param.bounds)\n",
    "               for param in non_frozen_parameters}\n",
    "               for i in range(10)]\n",
    "params"
   ]
  },
  {
   "cell_type": "markdown",
   "id": "144f388b",
   "metadata": {
    "papermill": {
     "duration": 0.006313,
     "end_time": "2022-08-11T17:59:51.491039",
     "exception": false,
     "start_time": "2022-08-11T17:59:51.484726",
     "status": "completed"
    },
    "tags": []
   },
   "source": [
    " We use a factory to create cell models with different configurations. This enables us to run both Arbor and Neuron simulations for the defined sequence protocols and each combination of axon replacement and parameter values..."
   ]
  },
  {
   "cell_type": "code",
   "execution_count": 16,
   "id": "79877a65",
   "metadata": {
    "execution": {
     "iopub.execute_input": "2022-08-11T17:59:51.506595Z",
     "iopub.status.busy": "2022-08-11T17:59:51.506268Z",
     "iopub.status.idle": "2022-08-11T17:59:56.711650Z",
     "shell.execute_reply": "2022-08-11T17:59:56.708107Z"
    },
    "papermill": {
     "duration": 5.220649,
     "end_time": "2022-08-11T17:59:56.719011",
     "exception": false,
     "start_time": "2022-08-11T17:59:51.498362",
     "status": "completed"
    },
    "tags": []
   },
   "outputs": [
    {
     "name": "stdout",
     "output_type": "stream",
     "text": [
      "CVode 0x3783f80 simple_cell[0].soma[0] advance_tn failed, err=-7.\n"
     ]
    },
    {
     "name": "stderr",
     "output_type": "stream",
     "text": [
      "NEURON: variable step integrator error\n"
     ]
    },
    {
     "name": "stderr",
     "output_type": "stream",
     "text": [
      " near line 0\n"
     ]
    },
    {
     "name": "stderr",
     "output_type": "stream",
     "text": [
      " }\n"
     ]
    },
    {
     "name": "stderr",
     "output_type": "stream",
     "text": [
      " "
     ]
    },
    {
     "name": "stderr",
     "output_type": "stream",
     "text": [
      " "
     ]
    },
    {
     "name": "stderr",
     "output_type": "stream",
     "text": [
      "^\n"
     ]
    },
    {
     "name": "stderr",
     "output_type": "stream",
     "text": [
      "  "
     ]
    },
    {
     "name": "stderr",
     "output_type": "stream",
     "text": [
      "  "
     ]
    },
    {
     "name": "stderr",
     "output_type": "stream",
     "text": [
      "  "
     ]
    },
    {
     "name": "stderr",
     "output_type": "stream",
     "text": [
      "  "
     ]
    },
    {
     "name": "stderr",
     "output_type": "stream",
     "text": [
      "fadvance("
     ]
    },
    {
     "name": "stderr",
     "output_type": "stream",
     "text": [
      ")\n"
     ]
    },
    {
     "name": "stderr",
     "output_type": "stream",
     "text": [
      "  "
     ]
    },
    {
     "name": "stderr",
     "output_type": "stream",
     "text": [
      "  "
     ]
    },
    {
     "name": "stderr",
     "output_type": "stream",
     "text": [
      "  "
     ]
    },
    {
     "name": "stderr",
     "output_type": "stream",
     "text": [
      "advance("
     ]
    },
    {
     "name": "stderr",
     "output_type": "stream",
     "text": [
      ")\n"
     ]
    },
    {
     "name": "stderr",
     "output_type": "stream",
     "text": [
      "  "
     ]
    },
    {
     "name": "stderr",
     "output_type": "stream",
     "text": [
      "  "
     ]
    },
    {
     "name": "stderr",
     "output_type": "stream",
     "text": [
      "step("
     ]
    },
    {
     "name": "stderr",
     "output_type": "stream",
     "text": [
      ")\n"
     ]
    },
    {
     "name": "stderr",
     "output_type": "stream",
     "text": [
      "  "
     ]
    },
    {
     "name": "stderr",
     "output_type": "stream",
     "text": [
      "continuerun("
     ]
    },
    {
     "name": "stderr",
     "output_type": "stream",
     "text": [
      "120"
     ]
    },
    {
     "name": "stderr",
     "output_type": "stream",
     "text": [
      ")\n"
     ]
    },
    {
     "name": "stderr",
     "output_type": "stream",
     "text": [
      "and others\n"
     ]
    },
    {
     "name": "stderr",
     "output_type": "stream",
     "text": [
      "CVode-- At t = 69.7721 and h = 4.18262e-06, the corrector\n",
      "convergence failed repeatedly or with |h| = hmin.\n",
      "\n"
     ]
    }
   ],
   "source": [
    "@dataclass\n",
    "class CellModelFactory:\n",
    "    mechanisms: typing.List[ephys.mechanisms.NrnMODMechanism]\n",
    "    parameters: typing.List[ephys.parameters.NrnParameter]\n",
    "\n",
    "    def create_cell_model(self, do_replace_axon):\n",
    "\n",
    "        morphology = ephys.morphologies.NrnFileMorphology(\n",
    "            '../simplecell/simple.swc', do_replace_axon=do_replace_axon)\n",
    "\n",
    "        return ephys.models.CellModel(\n",
    "            'simple_cell',\n",
    "            morph=morphology,\n",
    "            mechs=self.mechanisms,\n",
    "            params=self.parameters)\n",
    "\n",
    "@dataclass\n",
    "class SimulationRunner:\n",
    "    cell_factory: CellModelFactory\n",
    "    arb_protocol: ArbSequenceProtocol\n",
    "    nrn_protocol: ephys.protocols.SequenceProtocol\n",
    "\n",
    "    def run_all(self, replace_axon_policies, param_list, dt=0.025):\n",
    "        arb_resp = dict()\n",
    "        nrn_resp = dict()\n",
    "\n",
    "        nrn_sim = ephys.simulators.NrnSimulator(dt=dt)\n",
    "\n",
    "        for do_replace_axon in replace_axon_policies:\n",
    "            for param_i in range(len(param_list)):\n",
    "\n",
    "                cell_model = self.cell_factory.create_cell_model(do_replace_axon=do_replace_axon)\n",
    "\n",
    "                # calculate morphology with axon-replacement in Neuron\n",
    "                cell_model.instantiate_morphology(nrn_sim)\n",
    "\n",
    "                key = (do_replace_axon, param_i)\n",
    "                arb_resp[key] = self.arb_protocol.run(cell_model, param_list[param_i], dt=dt)\n",
    "\n",
    "                # need to destroy instantiated cell model first to avoid Hoc serialization error\n",
    "                cell_model.destroy(sim=nrn_sim)\n",
    "\n",
    "                nrn_resp[key] = self.nrn_protocol.run(cell_model, param_list[param_i], nrn_sim)\n",
    "        return arb_resp, nrn_resp\n",
    "\n",
    "\n",
    "cell_factory = CellModelFactory(mechanisms, parameters)\n",
    "simulation_runner = SimulationRunner(cell_factory, arb_protocol, nrn_protocol)\n",
    "arb_responses, nrn_responses = simulation_runner.run_all(replace_axon, params, default_dt)"
   ]
  },
  {
   "cell_type": "markdown",
   "id": "1c8f81f2",
   "metadata": {
    "papermill": {
     "duration": 0.012097,
     "end_time": "2022-08-11T17:59:56.754011",
     "exception": false,
     "start_time": "2022-08-11T17:59:56.741914",
     "status": "completed"
    },
    "tags": []
   },
   "source": [
    "...and to plot the responses for visual validation."
   ]
  },
  {
   "cell_type": "code",
   "execution_count": 17,
   "id": "76a96220",
   "metadata": {
    "execution": {
     "iopub.execute_input": "2022-08-11T17:59:56.769890Z",
     "iopub.status.busy": "2022-08-11T17:59:56.769600Z",
     "iopub.status.idle": "2022-08-11T17:59:56.774833Z",
     "shell.execute_reply": "2022-08-11T17:59:56.774325Z"
    },
    "papermill": {
     "duration": 0.014452,
     "end_time": "2022-08-11T17:59:56.775944",
     "exception": false,
     "start_time": "2022-08-11T17:59:56.761492",
     "status": "completed"
    },
    "tags": []
   },
   "outputs": [],
   "source": [
    "def plot_response_comparison(arb_resp, nrn_resp, title):\n",
    "    num_protocols = len(protocol_steps)\n",
    "    num_recs = max([len(step['recordings']) for step in protocol_steps])\n",
    "    assert num_recs == 1  # add j as a second index with multiple recordings\n",
    "    fig, ax = plt.subplots(num_protocols, num_recs, figsize=(12,7))\n",
    "    for i, step in enumerate(protocol_steps):\n",
    "        for j, rec in enumerate(step['recordings']):\n",
    "            rec_name = rec['name']\n",
    "            ax[i].plot(nrn_resp[rec_name]['time'], nrn_resp[rec_name]['voltage'], label='Neuron ' + rec_name)\n",
    "            ax[i].plot(arb_resp[rec_name]['time'], arb_resp[rec_name]['voltage'], label='Arbor ' + rec_name)\n",
    "            ax[i].set_title(title)\n",
    "            ax[i].legend(loc='upper left')\n",
    "    plt.tight_layout()\n",
    "    plt.show()"
   ]
  },
  {
   "cell_type": "markdown",
   "id": "aadc0cf8",
   "metadata": {
    "papermill": {
     "duration": 0.007429,
     "end_time": "2022-08-11T17:59:56.790359",
     "exception": false,
     "start_time": "2022-08-11T17:59:56.782930",
     "status": "completed"
    },
    "tags": []
   },
   "source": [
    "To analyze the responses, we compare the difference of voltage traces between Arbor and Neuron in the L1-norm. "
   ]
  },
  {
   "cell_type": "markdown",
   "id": "97563154",
   "metadata": {
    "tags": [
     "papermill-error-cell-tag"
    ]
   },
   "source": [
    "<span id=\"papermill-error-cell\" style=\"color:red; font-family:Helvetica Neue, Helvetica, Arial, sans-serif; font-size:2em;\">Execution using papermill encountered an exception here and stopped:</span>"
   ]
  },
  {
   "cell_type": "code",
   "execution_count": 18,
   "id": "d7eb19a3",
   "metadata": {
    "execution": {
     "iopub.execute_input": "2022-08-11T17:59:56.805530Z",
     "iopub.status.busy": "2022-08-11T17:59:56.805222Z",
     "iopub.status.idle": "2022-08-11T18:00:07.339157Z",
     "shell.execute_reply": "2022-08-11T18:00:07.338401Z"
    },
    "papermill": {
     "duration": 10.542826,
     "end_time": "2022-08-11T18:00:07.340011",
     "exception": true,
     "start_time": "2022-08-11T17:59:56.797185",
     "status": "failed"
    },
    "tags": []
   },
   "outputs": [
    {
     "ename": "TypeError",
     "evalue": "'NoneType' object is not subscriptable",
     "output_type": "error",
     "traceback": [
      "\u001b[0;31m---------------------------------------------------------------------------\u001b[0m",
      "\u001b[0;31mRemoteTraceback\u001b[0m                           Traceback (most recent call last)",
      "\u001b[0;31mRemoteTraceback\u001b[0m: \n\"\"\"\nTraceback (most recent call last):\n  File \"/usr/lib/python3.8/multiprocessing/pool.py\", line 125, in worker\n    result = (True, func(*args, **kwds))\n  File \"/usr/lib/python3.8/multiprocessing/pool.py\", line 48, in mapstar\n    return list(map(*args))\n  File \"/tmp/ipykernel_853462/2297768698.py\", line 14, in voltage_trace_residual_l1_norm_sweep_protocol\n    residual_l1_norm, residual_error = voltage_trace_residual_l1_norm(\n  File \"/tmp/ipykernel_853462/2297768698.py\", line 2, in voltage_trace_residual_l1_norm\n    int_resp_func = scipy.interpolate.interp1d(int_resp['time'], int_resp['voltage'], kind='cubic')\nTypeError: 'NoneType' object is not subscriptable\n\"\"\"",
      "\nThe above exception was the direct cause of the following exception:\n",
      "\u001b[0;31mTypeError\u001b[0m                                 Traceback (most recent call last)",
      "Input \u001b[0;32mIn [18]\u001b[0m, in \u001b[0;36m<cell line: 52>\u001b[0;34m()\u001b[0m\n\u001b[1;32m     42\u001b[0m             l1_results\u001b[38;5;241m.\u001b[39mappend(\n\u001b[1;32m     43\u001b[0m                 \u001b[38;5;28mdict\u001b[39m(replace_axon\u001b[38;5;241m=\u001b[39mkey[\u001b[38;5;241m0\u001b[39m],\n\u001b[1;32m     44\u001b[0m                      param_i\u001b[38;5;241m=\u001b[39mkey[\u001b[38;5;241m1\u001b[39m],\n\u001b[1;32m     45\u001b[0m                      \u001b[38;5;241m*\u001b[39m\u001b[38;5;241m*\u001b[39mparams[key[\u001b[38;5;241m1\u001b[39m]],\n\u001b[1;32m     46\u001b[0m                      protocol\u001b[38;5;241m=\u001b[39mstep,\n\u001b[1;32m     47\u001b[0m                      \u001b[38;5;241m*\u001b[39m\u001b[38;5;241m*\u001b[39ml1_task_result))\n\u001b[1;32m     49\u001b[0m     \u001b[38;5;28;01mreturn\u001b[39;00m pandas\u001b[38;5;241m.\u001b[39mDataFrame(l1_results)\n\u001b[0;32m---> 52\u001b[0m l1_results \u001b[38;5;241m=\u001b[39m \u001b[43manalyze_voltage_traces_l1\u001b[49m\u001b[43m(\u001b[49m\u001b[43marb_responses\u001b[49m\u001b[43m,\u001b[49m\u001b[43m \u001b[49m\u001b[43mnrn_responses\u001b[49m\u001b[43m)\u001b[49m\n\u001b[1;32m     53\u001b[0m pandas\u001b[38;5;241m.\u001b[39moptions\u001b[38;5;241m.\u001b[39mdisplay\u001b[38;5;241m.\u001b[39mfloat_format \u001b[38;5;241m=\u001b[39m \u001b[38;5;124m'\u001b[39m\u001b[38;5;132;01m{:,.3g}\u001b[39;00m\u001b[38;5;124m'\u001b[39m\u001b[38;5;241m.\u001b[39mformat\n\u001b[1;32m     54\u001b[0m l1_results\u001b[38;5;241m.\u001b[39msort_values(by\u001b[38;5;241m=\u001b[39m\u001b[38;5;124m'\u001b[39m\u001b[38;5;124mresidual_rel_l1_norm\u001b[39m\u001b[38;5;124m'\u001b[39m, ascending\u001b[38;5;241m=\u001b[39m\u001b[38;5;28;01mFalse\u001b[39;00m)\u001b[38;5;241m.\u001b[39mhead(\u001b[38;5;241m5\u001b[39m)\n",
      "Input \u001b[0;32mIn [18]\u001b[0m, in \u001b[0;36manalyze_voltage_traces_l1\u001b[0;34m(arb_resp, nrn_resp)\u001b[0m\n\u001b[1;32m     33\u001b[0m \u001b[38;5;66;03m# test_l5pc: insert if True:\u001b[39;00m\n\u001b[1;32m     34\u001b[0m \u001b[38;5;28;01mwith\u001b[39;00m multiprocessing\u001b[38;5;241m.\u001b[39mPool(multiprocessing\u001b[38;5;241m.\u001b[39mcpu_count()) \u001b[38;5;28;01mas\u001b[39;00m pool:\n\u001b[0;32m---> 35\u001b[0m     l1_task_results \u001b[38;5;241m=\u001b[39m \u001b[43mpool\u001b[49m\u001b[38;5;241;43m.\u001b[39;49m\u001b[43mmap\u001b[49m\u001b[43m(\u001b[49m\u001b[43mvoltage_trace_residual_l1_norm_sweep_protocol\u001b[49m\u001b[43m,\u001b[49m\n\u001b[1;32m     36\u001b[0m \u001b[43m                               \u001b[49m\u001b[43m[\u001b[49m\u001b[38;5;28;43mdict\u001b[39;49m\u001b[43m(\u001b[49m\u001b[43marb_resp\u001b[49m\u001b[38;5;241;43m=\u001b[39;49m\u001b[43marb_resp\u001b[49m\u001b[43m[\u001b[49m\u001b[43mkey\u001b[49m\u001b[43m]\u001b[49m\u001b[43m[\u001b[49m\u001b[43mstep\u001b[49m\u001b[43m]\u001b[49m\u001b[43m,\u001b[49m\n\u001b[1;32m     37\u001b[0m \u001b[43m                                     \u001b[49m\u001b[43mnrn_resp\u001b[49m\u001b[38;5;241;43m=\u001b[39;49m\u001b[43mnrn_resp\u001b[49m\u001b[43m[\u001b[49m\u001b[43mkey\u001b[49m\u001b[43m]\u001b[49m\u001b[43m[\u001b[49m\u001b[43mstep\u001b[49m\u001b[43m]\u001b[49m\u001b[43m)\u001b[49m\n\u001b[1;32m     38\u001b[0m \u001b[43m                                \u001b[49m\u001b[38;5;28;43;01mfor\u001b[39;49;00m\u001b[43m \u001b[49m\u001b[43mkey\u001b[49m\u001b[43m,\u001b[49m\u001b[43m \u001b[49m\u001b[43mstep\u001b[49m\u001b[43m \u001b[49m\u001b[38;5;129;43;01min\u001b[39;49;00m\u001b[43m \u001b[49m\u001b[43mindices\u001b[49m\u001b[43m]\u001b[49m\u001b[43m)\u001b[49m\n\u001b[1;32m     40\u001b[0m l1_results \u001b[38;5;241m=\u001b[39m []\n\u001b[1;32m     41\u001b[0m \u001b[38;5;28;01mfor\u001b[39;00m l1_task_result, (key, step) \u001b[38;5;129;01min\u001b[39;00m \u001b[38;5;28mzip\u001b[39m(l1_task_results, indices):\n",
      "File \u001b[0;32m/usr/lib/python3.8/multiprocessing/pool.py:364\u001b[0m, in \u001b[0;36mPool.map\u001b[0;34m(self, func, iterable, chunksize)\u001b[0m\n\u001b[1;32m    359\u001b[0m \u001b[38;5;28;01mdef\u001b[39;00m \u001b[38;5;21mmap\u001b[39m(\u001b[38;5;28mself\u001b[39m, func, iterable, chunksize\u001b[38;5;241m=\u001b[39m\u001b[38;5;28;01mNone\u001b[39;00m):\n\u001b[1;32m    360\u001b[0m     \u001b[38;5;124;03m'''\u001b[39;00m\n\u001b[1;32m    361\u001b[0m \u001b[38;5;124;03m    Apply `func` to each element in `iterable`, collecting the results\u001b[39;00m\n\u001b[1;32m    362\u001b[0m \u001b[38;5;124;03m    in a list that is returned.\u001b[39;00m\n\u001b[1;32m    363\u001b[0m \u001b[38;5;124;03m    '''\u001b[39;00m\n\u001b[0;32m--> 364\u001b[0m     \u001b[38;5;28;01mreturn\u001b[39;00m \u001b[38;5;28;43mself\u001b[39;49m\u001b[38;5;241;43m.\u001b[39;49m\u001b[43m_map_async\u001b[49m\u001b[43m(\u001b[49m\u001b[43mfunc\u001b[49m\u001b[43m,\u001b[49m\u001b[43m \u001b[49m\u001b[43miterable\u001b[49m\u001b[43m,\u001b[49m\u001b[43m \u001b[49m\u001b[43mmapstar\u001b[49m\u001b[43m,\u001b[49m\u001b[43m \u001b[49m\u001b[43mchunksize\u001b[49m\u001b[43m)\u001b[49m\u001b[38;5;241;43m.\u001b[39;49m\u001b[43mget\u001b[49m\u001b[43m(\u001b[49m\u001b[43m)\u001b[49m\n",
      "File \u001b[0;32m/usr/lib/python3.8/multiprocessing/pool.py:771\u001b[0m, in \u001b[0;36mApplyResult.get\u001b[0;34m(self, timeout)\u001b[0m\n\u001b[1;32m    769\u001b[0m     \u001b[38;5;28;01mreturn\u001b[39;00m \u001b[38;5;28mself\u001b[39m\u001b[38;5;241m.\u001b[39m_value\n\u001b[1;32m    770\u001b[0m \u001b[38;5;28;01melse\u001b[39;00m:\n\u001b[0;32m--> 771\u001b[0m     \u001b[38;5;28;01mraise\u001b[39;00m \u001b[38;5;28mself\u001b[39m\u001b[38;5;241m.\u001b[39m_value\n",
      "\u001b[0;31mTypeError\u001b[0m: 'NoneType' object is not subscriptable"
     ]
    }
   ],
   "source": [
    "\n",
    "def voltage_trace_residual_l1_norm(int_resp, ref_resp):\n",
    "    int_resp_func = scipy.interpolate.interp1d(int_resp['time'], int_resp['voltage'], kind='cubic')\n",
    "    ref_resp_func = scipy.interpolate.interp1d(ref_resp['time'], ref_resp['voltage'], kind='cubic')\n",
    "    abs_diff = lambda t: abs(int_resp_func(t)-ref_resp_func(t))\n",
    "    with warnings.catch_warnings():\n",
    "        warnings.filterwarnings(\"ignore\", category=scipy.integrate.IntegrationWarning)\n",
    "        return scipy.integrate.quad(abs_diff, ref_resp['time'][0], ref_resp['time'][-1], limit=400)\n",
    "\n",
    "\n",
    "def voltage_trace_residual_l1_norm_sweep_protocol(args):\n",
    "    arb_resp = args['arb_resp']\n",
    "    nrn_resp = args['nrn_resp']\n",
    "\n",
    "    residual_l1_norm, residual_error = voltage_trace_residual_l1_norm(\n",
    "        nrn_resp, arb_resp)\n",
    "\n",
    "    nrn_to_min_l1_norm, nrn_to_min_error = \\\n",
    "        voltage_trace_residual_l1_norm(\n",
    "            nrn_resp,\n",
    "            dict(time=nrn_resp['time'].values,\n",
    "                 voltage=numpy.full(nrn_resp['voltage'].shape,\n",
    "                                    numpy.min(nrn_resp['voltage']))))\n",
    "    return dict(\n",
    "        residual_rel_l1_norm=residual_l1_norm/nrn_to_min_l1_norm,\n",
    "        residual_rel_l1_error=residual_error/residual_l1_norm + \\\n",
    "                            nrn_to_min_error/nrn_to_min_l1_norm\n",
    "    )\n",
    "\n",
    "\n",
    "def analyze_voltage_traces_l1(arb_resp, nrn_resp):\n",
    "    indices = [(key,step) for key in arb_resp for step in arb_resp[key]]\n",
    "\n",
    "    # test_l5pc: insert if True:\n",
    "    with multiprocessing.Pool(multiprocessing.cpu_count()) as pool:\n",
    "        l1_task_results = pool.map(voltage_trace_residual_l1_norm_sweep_protocol,\n",
    "                                   [dict(arb_resp=arb_resp[key][step],\n",
    "                                         nrn_resp=nrn_resp[key][step])\n",
    "                                    for key, step in indices])\n",
    "\n",
    "    l1_results = []\n",
    "    for l1_task_result, (key, step) in zip(l1_task_results, indices):\n",
    "            l1_results.append(\n",
    "                dict(replace_axon=key[0],\n",
    "                     param_i=key[1],\n",
    "                     **params[key[1]],\n",
    "                     protocol=step,\n",
    "                     **l1_task_result))\n",
    "\n",
    "    return pandas.DataFrame(l1_results)\n",
    "\n",
    "\n",
    "l1_results = analyze_voltage_traces_l1(arb_responses, nrn_responses)\n",
    "pandas.options.display.float_format = '{:,.3g}'.format\n",
    "l1_results.sort_values(by='residual_rel_l1_norm', ascending=False).head(5)"
   ]
  },
  {
   "cell_type": "code",
   "execution_count": null,
   "id": "e7b1f477",
   "metadata": {
    "papermill": {
     "duration": null,
     "end_time": null,
     "exception": null,
     "start_time": null,
     "status": "pending"
    },
    "tags": []
   },
   "outputs": [],
   "source": [
    "def print_voltage_trace_l1_results(config_str, l1_results):\n",
    "    voltage_residual_rel_l1_error_tolerance = 1e-2 * voltage_residual_rel_l1_tolerance\n",
    "\n",
    "    mean_rel_l1_norm = l1_results['residual_rel_l1_norm'].mean()\n",
    "    mean_rel_l1_error = l1_results['residual_rel_l1_error'].mean()\n",
    "    # max_l1_norm_record = l1_results.loc[l1_results['residual_rel_l1_norm'].idxmax()]\n",
    "\n",
    "    message = '{}: test_l5pc %s! The mean relative Arbor-Neuron L1-deviation and error (tol in brackets) are {:,.3g} ({:,.3g}), {:,.3g} ({:,.3g}).'.format(\n",
    "        config_str, mean_rel_l1_norm, voltage_residual_rel_l1_tolerance, mean_rel_l1_error, voltage_residual_rel_l1_error_tolerance)\n",
    "    if mean_rel_l1_norm < voltage_residual_rel_l1_tolerance and mean_rel_l1_error < voltage_residual_rel_l1_error_tolerance:\n",
    "        print(message % 'OK')\n",
    "    else:\n",
    "        print(message % 'ERROR')\n",
    "\n",
    "\n",
    "print_voltage_trace_l1_results('Default dt ({:,.3g})'.format(default_dt), l1_results)"
   ]
  },
  {
   "cell_type": "code",
   "execution_count": null,
   "id": "266d8186",
   "metadata": {
    "papermill": {
     "duration": null,
     "end_time": null,
     "exception": null,
     "start_time": null,
     "status": "pending"
    },
    "tags": []
   },
   "outputs": [],
   "source": [
    "def compare_responses(arb_resp, nrn_resp, l1_results, *key):\n",
    "    if key in arb_resp:\n",
    "        plot_response_comparison(arb_resp[key], nrn_resp[key], 'replace_axon = %s, param_i = %s ' % (key[0], key[1]))\n",
    "        display(l1_results[(l1_results['replace_axon'] == key[0]) & (l1_results['param_i'] == key[1])])\n",
    "\n",
    "\n",
    "for param_i in range(len(params)):  # test_l5pc: skip\n",
    "    for do_replace_axon in replace_axon:  # test_l5pc: skip\n",
    "        compare_responses(arb_responses, nrn_responses, l1_results, do_replace_axon, param_i)  # test_l5pc: skip"
   ]
  },
  {
   "cell_type": "markdown",
   "id": "c2f15305",
   "metadata": {
    "papermill": {
     "duration": null,
     "end_time": null,
     "exception": null,
     "start_time": null,
     "status": "pending"
    },
    "tags": []
   },
   "source": [
    "The voltage traces look mostly similar between Arbor and Neuron. Under certain conditions, we can perform spike time analysis to understand this quantitatively. "
   ]
  },
  {
   "cell_type": "markdown",
   "id": "e63a0aa4",
   "metadata": {
    "papermill": {
     "duration": null,
     "end_time": null,
     "exception": null,
     "start_time": null,
     "status": "pending"
    },
    "tags": []
   },
   "source": [
    "### Spike time cross-validation\n",
    "\n",
    "To compare Arbor and Neuron voltage traces further, we analyze the spike counts and times with the eFEL library and Arbor's built-in spike detector. Note that while eFEL measures the `peak_time`, Arbor's spike detector as configured above will measure the time when the voltage passes a threshold of -10 mV."
   ]
  },
  {
   "cell_type": "code",
   "execution_count": null,
   "id": "cc7f45fe",
   "metadata": {
    "papermill": {
     "duration": null,
     "end_time": null,
     "exception": null,
     "start_time": null,
     "status": "pending"
    },
    "tags": []
   },
   "outputs": [],
   "source": [
    "if run_spike_time_analysis:\n",
    "\n",
    "    efel_features = ['Spikecount',\n",
    "                    'time_to_first_spike',\n",
    "                    'time_to_second_spike',\n",
    "                    'time_to_last_spike']\n",
    "\n",
    "\n",
    "    # Extract spike observables from protocol simulation responses\n",
    "    def get_spike_data(protocols, do_replace_axon, param_values,\n",
    "                       arb_resp, nrn_resp):\n",
    "        spike_res = []\n",
    "\n",
    "        for step in protocols:\n",
    "            recording_name = step['recordings'][0]['name'] # use only first recording\n",
    "            stim_start = min([stim['delay'] for stim in step['stimuli']])\n",
    "            stim_end = max([stim['delay'] + stim['duration'] for stim in step['stimuli']])\n",
    "\n",
    "            for efel_feature_name in efel_features:\n",
    "                # Calculate spike observables with eFEL\n",
    "                feature_name = '%s.%s' % (step['name'], efel_feature_name)\n",
    "                feature = ephys.efeatures.eFELFeature(\n",
    "                            feature_name,\n",
    "                            efel_feature_name=efel_feature_name,\n",
    "                            recording_names={'': recording_name},\n",
    "                            stim_start=stim_start,\n",
    "                            stim_end=stim_end)\n",
    "\n",
    "                # Calculate spike observables with Arbor\n",
    "                try:\n",
    "                    if efel_feature_name == 'Spikecount':\n",
    "                        arbor_int = len(arb_resp[recording_name]['spikes'])\n",
    "                    elif efel_feature_name == 'time_to_first_spike':\n",
    "                        arbor_int = arb_resp[recording_name]['spikes'][0]-stim_start\n",
    "                    elif efel_feature_name == 'time_to_second_spike':\n",
    "                        arbor_int = arb_resp[recording_name]['spikes'][1]-stim_start\n",
    "                    elif efel_feature_name == 'time_to_last_spike':\n",
    "                        arbor_int = arb_resp[recording_name]['spikes'][-1]-stim_start\n",
    "                except Exception:\n",
    "                    arbor_int = numpy.nan\n",
    "\n",
    "                spike_res.append(dict(\n",
    "                    replace_axon=do_replace_axon,\n",
    "                    protocol=step['name'],\n",
    "                    **param_values,\n",
    "                    efel=efel_feature_name,\n",
    "                    Neuron=feature.calculate_feature(nrn_resp),\n",
    "                    Arbor=feature.calculate_feature(arb_resp),\n",
    "                    Arbor_int=arbor_int))\n",
    "        return spike_res\n",
    "\n",
    "\n",
    "    # Compare spike observables between Arbor and Neuron\n",
    "    def analyze_spikes(spike_res):\n",
    "        spike_res_df = pandas.DataFrame(spike_res)\n",
    "        spike_res_df.set_index(\n",
    "            ['replace_axon', 'protocol',\n",
    "             *param_names, 'efel'], inplace=True)\n",
    "        spike_res_df.dropna(how='all', inplace=True)  # drop all-NaN rows\n",
    "\n",
    "        # Arbor to Neuron cross-validation with eFEL\n",
    "        spike_res_df['abs_diff Arbor to Neuron'] = \\\n",
    "            spike_res_df.apply(\n",
    "                lambda r: abs(r['Arbor']-r['Neuron']), axis=1)\n",
    "        spike_res_df['rel_abs_diff Arbor to Neuron [%]'] = \\\n",
    "            spike_res_df.apply(\n",
    "                lambda r: 100.*abs(r['Arbor']-r['Neuron'])/r['Neuron']\n",
    "                          if r['Neuron'] != 0 else numpy.nan, axis=1)\n",
    "\n",
    "        # Cross-validation of eFEL's spike detection with Arbor's\n",
    "        spike_res_df['abs_diff eFEL to Arbor-internal'] = \\\n",
    "            spike_res_df.apply(\n",
    "                lambda r: abs(r['Arbor']-r['Arbor_int']), axis=1)\n",
    "        spike_res_df['rel_abs_diff eFEL to Arbor-internal [%]'] = \\\n",
    "            spike_res_df.apply(\n",
    "                lambda r: 100.*abs(r['Arbor']-r['Arbor_int'])/r['Arbor_int']\n",
    "                          if r['Arbor_int'] != 0 else numpy.nan, axis=1)\n",
    "        return spike_res_df\n",
    "\n",
    "\n",
    "    # Aggregate all simulations into a single data frame \n",
    "    def joint_spike_analysis(arb_resp, nrn_resp, replace_axon_policies, param_list):\n",
    "        return pandas.concat(\n",
    "            [analyze_spikes(get_spike_data(protocol_steps,\n",
    "                                           replace_axon_policies[key[0]],\n",
    "                                           param_list[key[1]],\n",
    "                                           arb_resp[key],\n",
    "                                           nrn_resp[key]))\n",
    "             for key in arb_resp], axis=0)\n",
    "\n",
    "\n",
    "    pandas.options.display.float_format = '{:,.3g}'.format\n",
    "    # pandas.options.display.max_rows = None  # uncomment for full view\n",
    "    spike_results = joint_spike_analysis(arb_responses, nrn_responses, replace_axon, params)\n",
    "    display(spike_results)"
   ]
  },
  {
   "cell_type": "markdown",
   "id": "d7d2c054",
   "metadata": {
    "papermill": {
     "duration": null,
     "end_time": null,
     "exception": null,
     "start_time": null,
     "status": "pending"
    },
    "tags": []
   },
   "source": [
    "To understand the deviations over the entire parameter set and different axon replacement policies, we explore the per eFEL-observable statistics. Compare the `Spikecount`s that are usually fully consistent between Arbor and Neuron, whereas `time_to_last_spike` are the least consistent of these variables."
   ]
  },
  {
   "cell_type": "code",
   "execution_count": null,
   "id": "5f5e0481",
   "metadata": {
    "papermill": {
     "duration": null,
     "end_time": null,
     "exception": null,
     "start_time": null,
     "status": "pending"
    },
    "tags": []
   },
   "outputs": [],
   "source": [
    "if run_spike_time_analysis:\n",
    "    display(spike_results[['abs_diff Arbor to Neuron',\n",
    "                           'rel_abs_diff Arbor to Neuron [%]']].groupby('efel').describe())"
   ]
  },
  {
   "cell_type": "markdown",
   "id": "78a61bd8",
   "metadata": {
    "papermill": {
     "duration": null,
     "end_time": null,
     "exception": null,
     "start_time": null,
     "status": "pending"
    },
    "tags": []
   },
   "source": [
    "We can inspect the traces with highest difference in `time_to_last_spike` to identify outliers."
   ]
  },
  {
   "cell_type": "code",
   "execution_count": null,
   "id": "ae24c56e",
   "metadata": {
    "papermill": {
     "duration": null,
     "end_time": null,
     "exception": null,
     "start_time": null,
     "status": "pending"
    },
    "tags": []
   },
   "outputs": [],
   "source": [
    "if run_spike_time_analysis:\n",
    "    display(spike_results[ [el[spike_results.index.names.index('efel')] == 'time_to_last_spike'\n",
    "                            for el in spike_results.index] ].sort_values(\n",
    "                            by='abs_diff Arbor to Neuron', ascending=False).head(5))"
   ]
  },
  {
   "cell_type": "markdown",
   "id": "93419a1e",
   "metadata": {
    "papermill": {
     "duration": null,
     "end_time": null,
     "exception": null,
     "start_time": null,
     "status": "pending"
    },
    "tags": []
   },
   "source": [
    "For the spike times, we find the anticipated bias between eFEL and Arbor's internal spike detector."
   ]
  },
  {
   "cell_type": "code",
   "execution_count": null,
   "id": "218a102c",
   "metadata": {
    "papermill": {
     "duration": null,
     "end_time": null,
     "exception": null,
     "start_time": null,
     "status": "pending"
    },
    "tags": []
   },
   "outputs": [],
   "source": [
    "if run_spike_time_analysis:\n",
    "    display(spike_results[['abs_diff eFEL to Arbor-internal',\n",
    "                           'rel_abs_diff eFEL to Arbor-internal [%]']].groupby('efel').describe())"
   ]
  },
  {
   "cell_type": "markdown",
   "id": "8016462d",
   "metadata": {
    "papermill": {
     "duration": null,
     "end_time": null,
     "exception": null,
     "start_time": null,
     "status": "pending"
    },
    "tags": []
   },
   "source": [
    "### Running protocols with a finer time step\n",
    "\n",
    "To rule out the discretization as a possible source of the above error in `time_to_last_spike`, we can re-run the simulations at a smaller `dt` of 0.001 ms (default is 0.025 ms)."
   ]
  },
  {
   "cell_type": "code",
   "execution_count": null,
   "id": "5d3a79a5",
   "metadata": {
    "papermill": {
     "duration": null,
     "end_time": null,
     "exception": null,
     "start_time": null,
     "status": "pending"
    },
    "tags": []
   },
   "outputs": [],
   "source": [
    "if run_fine_dt:\n",
    "    arb_responses_fine_dt, nrn_responses_fine_dt = simulation_runner.run_all(replace_axon, params, dt=fine_dt)\n",
    "\n",
    "    l1_results_fine_dt = analyze_voltage_traces_l1(arb_responses_fine_dt, nrn_responses_fine_dt)\n",
    "\n",
    "    display(l1_results_fine_dt.sort_values(by='residual_rel_l1_norm', ascending=False).head(5))"
   ]
  },
  {
   "cell_type": "code",
   "execution_count": null,
   "id": "14dc19ca",
   "metadata": {
    "papermill": {
     "duration": null,
     "end_time": null,
     "exception": null,
     "start_time": null,
     "status": "pending"
    },
    "tags": []
   },
   "outputs": [],
   "source": [
    "if run_fine_dt:\n",
    "    print_voltage_trace_l1_results('Fine dt ({:,.3g})'.format(fine_dt), l1_results_fine_dt)"
   ]
  },
  {
   "cell_type": "code",
   "execution_count": null,
   "id": "3bfbf7be",
   "metadata": {
    "papermill": {
     "duration": null,
     "end_time": null,
     "exception": null,
     "start_time": null,
     "status": "pending"
    },
    "tags": []
   },
   "outputs": [],
   "source": [
    "if run_fine_dt:\n",
    "    for param_i in range(len(params)):\n",
    "        for do_replace_axon in replace_axon:\n",
    "            compare_responses(arb_responses_fine_dt,\n",
    "                              nrn_responses_fine_dt,\n",
    "                              l1_results_fine_dt,\n",
    "                              do_replace_axon, param_i)"
   ]
  },
  {
   "cell_type": "code",
   "execution_count": null,
   "id": "dfd7d2b7",
   "metadata": {
    "papermill": {
     "duration": null,
     "end_time": null,
     "exception": null,
     "start_time": null,
     "status": "pending"
    },
    "tags": []
   },
   "outputs": [],
   "source": [
    "if run_spike_time_analysis and run_fine_dt:\n",
    "    spike_results_fine_dt = joint_spike_analysis(arb_responses_fine_dt, nrn_responses_fine_dt, replace_axon, params)\n",
    "    display(spike_results_fine_dt)"
   ]
  },
  {
   "cell_type": "code",
   "execution_count": null,
   "id": "52c5a002",
   "metadata": {
    "papermill": {
     "duration": null,
     "end_time": null,
     "exception": null,
     "start_time": null,
     "status": "pending"
    },
    "tags": []
   },
   "outputs": [],
   "source": [
    "if run_spike_time_analysis and run_fine_dt:\n",
    "    display(spike_results_fine_dt[['abs_diff Arbor to Neuron',\n",
    "                                   'rel_abs_diff Arbor to Neuron [%]']].groupby('efel').describe())"
   ]
  },
  {
   "cell_type": "markdown",
   "id": "e781c197",
   "metadata": {
    "papermill": {
     "duration": null,
     "end_time": null,
     "exception": null,
     "start_time": null,
     "status": "pending"
    },
    "tags": []
   },
   "source": [
    "The outlier in `time_to_last_spike` is gone now, both visually and quantitatively."
   ]
  },
  {
   "cell_type": "code",
   "execution_count": null,
   "id": "f0721d0a",
   "metadata": {
    "papermill": {
     "duration": null,
     "end_time": null,
     "exception": null,
     "start_time": null,
     "status": "pending"
    },
    "tags": []
   },
   "outputs": [],
   "source": [
    "if run_spike_time_analysis and run_fine_dt:\n",
    "    display(spike_results_fine_dt[ [el[spike_results_fine_dt.index.names.index('efel')] == 'time_to_last_spike'\n",
    "                                    for el in spike_results_fine_dt.index] ].sort_values(\n",
    "                                    by='abs_diff Arbor to Neuron', ascending=False).head(5))"
   ]
  },
  {
   "cell_type": "code",
   "execution_count": null,
   "id": "fa982d9b",
   "metadata": {
    "papermill": {
     "duration": null,
     "end_time": null,
     "exception": null,
     "start_time": null,
     "status": "pending"
    },
    "tags": []
   },
   "outputs": [],
   "source": [
    "if run_spike_time_analysis and run_fine_dt:\n",
    "    display(spike_results_fine_dt[['abs_diff eFEL to Arbor-internal',\n",
    "                                   'rel_abs_diff eFEL to Arbor-internal [%]']].groupby('efel').describe())"
   ]
  },
  {
   "cell_type": "markdown",
   "id": "cca23314",
   "metadata": {
    "papermill": {
     "duration": null,
     "end_time": null,
     "exception": null,
     "start_time": null,
     "status": "pending"
    },
    "tags": []
   },
   "source": [
    "Furthermore, the mean deviation between Arbor and Neuron for eFEL spike times is significantly reduced."
   ]
  },
  {
   "cell_type": "code",
   "execution_count": null,
   "id": "a49eee51",
   "metadata": {
    "papermill": {
     "duration": null,
     "end_time": null,
     "exception": null,
     "start_time": null,
     "status": "pending"
    },
    "tags": []
   },
   "outputs": [],
   "source": [
    "if run_spike_time_analysis and run_fine_dt:\n",
    "    display((spike_results_fine_dt[['abs_diff Arbor to Neuron']].groupby('efel').mean()/\n",
    "             spike_results[['abs_diff Arbor to Neuron']].groupby('efel').mean()).rename(\n",
    "                 columns={'abs_diff Arbor to Neuron': \n",
    "                         'ratio of mean abs_diff Arbor to Neuron for fine dt vs. default dt'}))\n"
   ]
  }
 ],
 "metadata": {
  "kernelspec": {
   "display_name": "Python 3 (ipykernel)",
   "language": "python",
   "name": "python3"
  },
  "language_info": {
   "codemirror_mode": {
    "name": "ipython",
    "version": 3
   },
   "file_extension": ".py",
   "mimetype": "text/x-python",
   "name": "python",
   "nbconvert_exporter": "python",
   "pygments_lexer": "ipython3",
   "version": "3.8.10"
  },
  "papermill": {
   "default_parameters": {},
   "duration": 18.875127,
   "end_time": "2022-08-11T18:00:07.766876",
   "environment_variables": {},
   "exception": true,
   "input_path": "l5pc_soma_arbor.ipynb",
   "output_path": "../../../BluePyOpt-utils/validation/all-regions/l5pc_soma_arbor_axonal_Ca_LVAst_CaDynamics_E2_SK_E2.ipynb",
   "parameters": {
    "default_dt": 0.025,
    "extra_params": {
     "Ra": [
      "all"
     ],
     "celsius": "global",
     "cm": [
      "all"
     ],
     "e_pas": [
      "all"
     ],
     "ek": [
      "axonal"
     ],
     "g_pas": [
      "all"
     ],
     "v_init": "global"
    },
    "mechanism_defs": {
     "all": [
      "pas"
     ],
     "axonal": [
      "Ca_LVAst",
      "CaDynamics_E2",
      "SK_E2"
     ]
    },
    "param_values_json": "../../../BluePyOpt-utils/validation/all-regions/param_values.json",
    "run_fine_dt": true,
    "run_spike_time_analysis": false,
    "voltage_residual_rel_l1_tolerance": 0.05
   },
   "start_time": "2022-08-11T17:59:48.891749",
   "version": "2.3.4"
  },
  "vscode": {
   "interpreter": {
    "hash": "581988038cf9ce8838e7faf3da7c29f4ff88d898cd43cb17e0086e389d8deda2"
   }
  }
 },
 "nbformat": 4,
 "nbformat_minor": 5
}