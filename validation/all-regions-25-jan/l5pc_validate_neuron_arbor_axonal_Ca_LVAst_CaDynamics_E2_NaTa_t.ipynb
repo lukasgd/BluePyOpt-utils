{
 "cells": [
  {
   "cell_type": "markdown",
   "id": "ec456814",
   "metadata": {
    "tags": [
     "papermill-error-cell-tag"
    ]
   },
   "source": [
    "<span style=\"color:red; font-family:Helvetica Neue, Helvetica, Arial, sans-serif; font-size:2em;\">An Exception was encountered at '<a href=\"#papermill-error-cell\">In [16]</a>'.</span>"
   ]
  },
  {
   "cell_type": "markdown",
   "id": "0a682c36",
   "metadata": {
    "papermill": {
     "duration": 0.008169,
     "end_time": "2025-01-09T15:07:44.236160",
     "exception": false,
     "start_time": "2025-01-09T15:07:44.227991",
     "status": "completed"
    },
    "pycharm": {
     "name": "#%% md\n"
    },
    "tags": []
   },
   "source": [
    "# Simulating optimized cell models in Arbor and cross-validation with Neuron\n",
    "\n",
    "This notebook demonstrates how to run a simulation of a simple single compartmental cell with fixed/optimized parameters in Arbor. We follow the standard BluePyOpt flow of setting up an electrophysiological experiment and export the cell model to a mixed JSON/ACC-format. We then cross-validate voltage traces obtained with Arbor with those from a Neuron simulation."
   ]
  },
  {
   "cell_type": "code",
   "execution_count": 1,
   "id": "92d30c8c",
   "metadata": {
    "execution": {
     "iopub.execute_input": "2025-01-09T15:07:44.252685Z",
     "iopub.status.busy": "2025-01-09T15:07:44.252474Z",
     "iopub.status.idle": "2025-01-09T15:07:44.257491Z",
     "shell.execute_reply": "2025-01-09T15:07:44.256937Z"
    },
    "papermill": {
     "duration": 0.0138,
     "end_time": "2025-01-09T15:07:44.258681",
     "exception": false,
     "start_time": "2025-01-09T15:07:44.244881",
     "status": "completed"
    },
    "tags": [
     "parameters"
    ]
   },
   "outputs": [],
   "source": [
    "# Choose subset of L5PC mechanisms to run (all regional mechs get re-mapped to soma)\n",
    "mechanism_defs = dict(\n",
    "    all=['pas'],\n",
    "    somatic=['hh'])\n",
    "\n",
    "extra_params = dict(\n",
    "    v_init='global',\n",
    "    # celsius='global',\n",
    "    cm=['all'],\n",
    "    Ra=['all'],\n",
    "    g_pas=['all'],  # add 'pas' to mechs on all above\n",
    "    e_pas=['all'],  # add 'pas' to mechs on all above\n",
    ")\n",
    "\n",
    "param_values_json = None\n",
    "\n",
    "default_dt = 0.025\n",
    "\n",
    "fine_dt = 0.001\n",
    "\n",
    "voltage_residual_rel_l1_tolerance = 5e-2\n",
    "\n",
    "run_spike_time_analysis = True\n",
    "\n",
    "run_fine_dt = True"
   ]
  },
  {
   "cell_type": "code",
   "execution_count": 2,
   "id": "0fb97c33",
   "metadata": {
    "execution": {
     "iopub.execute_input": "2025-01-09T15:07:44.267705Z",
     "iopub.status.busy": "2025-01-09T15:07:44.267391Z",
     "iopub.status.idle": "2025-01-09T15:07:44.270126Z",
     "shell.execute_reply": "2025-01-09T15:07:44.269757Z"
    },
    "papermill": {
     "duration": 0.007192,
     "end_time": "2025-01-09T15:07:44.270707",
     "exception": false,
     "start_time": "2025-01-09T15:07:44.263515",
     "status": "completed"
    },
    "tags": [
     "injected-parameters"
    ]
   },
   "outputs": [],
   "source": [
    "# Parameters\n",
    "mechanism_defs = {\"all\": [\"pas\"], \"axonal\": [\"Ca_LVAst\", \"CaDynamics_E2\", \"NaTa_t\"]}\n",
    "extra_params = {\n",
    "    \"v_init\": \"global\",\n",
    "    \"celsius\": \"global\",\n",
    "    \"g_pas\": [\"all\"],\n",
    "    \"e_pas\": [\"all\"],\n",
    "    \"cm\": [\"all\"],\n",
    "    \"Ra\": [\"all\"],\n",
    "    \"ena\": [\"axonal\"],\n",
    "}\n",
    "param_values_json = (\n",
    "    \"../../../BluePyOpt-utils/validation/all-regions-23-jan/param_values.json\"\n",
    ")\n",
    "default_dt = 0.025\n",
    "run_spike_time_analysis = False\n",
    "run_fine_dt = True\n",
    "voltage_residual_rel_l1_tolerance = 0.05\n"
   ]
  },
  {
   "cell_type": "code",
   "execution_count": 3,
   "id": "1d265bff",
   "metadata": {
    "execution": {
     "iopub.execute_input": "2025-01-09T15:07:44.278521Z",
     "iopub.status.busy": "2025-01-09T15:07:44.278333Z",
     "iopub.status.idle": "2025-01-09T15:07:44.570083Z",
     "shell.execute_reply": "2025-01-09T15:07:44.569476Z"
    },
    "papermill": {
     "duration": 0.297011,
     "end_time": "2025-01-09T15:07:44.570894",
     "exception": false,
     "start_time": "2025-01-09T15:07:44.273883",
     "status": "completed"
    },
    "pycharm": {
     "name": "#%%\n"
    },
    "tags": []
   },
   "outputs": [],
   "source": [
    "%matplotlib inline\n",
    "import matplotlib.pyplot as plt\n",
    "%load_ext autoreload\n",
    "%autoreload"
   ]
  },
  {
   "cell_type": "markdown",
   "id": "92d85e23",
   "metadata": {
    "papermill": {
     "duration": 0.008136,
     "end_time": "2025-01-09T15:07:44.582534",
     "exception": false,
     "start_time": "2025-01-09T15:07:44.574398",
     "status": "completed"
    },
    "pycharm": {
     "name": "#%% md\n"
    },
    "tags": []
   },
   "source": [
    "First we need to compile the L5PC mechanisms and import the module that contains all the functionality to create electrical cell models"
   ]
  },
  {
   "cell_type": "code",
   "execution_count": 4,
   "id": "92f6e9d2",
   "metadata": {
    "execution": {
     "iopub.execute_input": "2025-01-09T15:07:44.591857Z",
     "iopub.status.busy": "2025-01-09T15:07:44.591568Z",
     "iopub.status.idle": "2025-01-09T15:07:45.203640Z",
     "shell.execute_reply": "2025-01-09T15:07:45.203287Z"
    },
    "papermill": {
     "duration": 0.618321,
     "end_time": "2025-01-09T15:07:45.204763",
     "exception": false,
     "start_time": "2025-01-09T15:07:44.586442",
     "status": "completed"
    },
    "pycharm": {
     "name": "#%%\n"
    },
    "tags": []
   },
   "outputs": [
    {
     "name": "stdout",
     "output_type": "stream",
     "text": [
      "/root/venv/bin/nrnivmodl:10: DeprecationWarning: pkg_resources is deprecated as an API. See https://setuptools.pypa.io/en/latest/pkg_resources.html\r\n",
      "  from pkg_resources import working_set\r\n"
     ]
    },
    {
     "name": "stdout",
     "output_type": "stream",
     "text": [
      "/home/lukasd/src/arbor/dev/BluePyOpt/examples/l5pc\r\n",
      "Mod files: \"mechanisms/mechanisms/CaDynamics_E2.mod\" \"mechanisms/mechanisms/Ca_HVA.mod\" \"mechanisms/mechanisms/Ca_LVAst.mod\""
     ]
    },
    {
     "name": "stdout",
     "output_type": "stream",
     "text": [
      " \"mechanisms/mechanisms/Ih.mod\" \"mechanisms/mechanisms/Im.mod\" \"mechanisms/mechanisms/K_Pst.mod\" \"mechanisms/mechanisms/K_Tst.mod\" \"mechanisms/mechanisms/NaTa_t.mod\" \"mechanisms/mechanisms/NaTs2_t.mod\" \"mechanisms/mechanisms/Nap_Et2.mod\" \"mechanisms/mechanisms/SK_E2.mod\" \"mechanisms/mechanisms/SKv3_1.mod\"\r\n",
      "\r\n"
     ]
    },
    {
     "name": "stdout",
     "output_type": "stream",
     "text": [
      " -> \u001b[32mCompiling\u001b[0m mod_func.cpp\r\n"
     ]
    },
    {
     "name": "stdout",
     "output_type": "stream",
     "text": [
      " => \u001b[32mLINKING\u001b[0m shared library ./libnrnmech.so\r\n"
     ]
    },
    {
     "name": "stdout",
     "output_type": "stream",
     "text": [
      "Successfully created x86_64/special\r\n"
     ]
    }
   ],
   "source": [
    "!nrnivmodl mechanisms\n",
    "import bluepyopt as bpop\n",
    "import bluepyopt.ephys as ephys"
   ]
  },
  {
   "cell_type": "code",
   "execution_count": 5,
   "id": "809a9034",
   "metadata": {
    "execution": {
     "iopub.execute_input": "2025-01-09T15:07:45.218419Z",
     "iopub.status.busy": "2025-01-09T15:07:45.218228Z",
     "iopub.status.idle": "2025-01-09T15:07:45.377186Z",
     "shell.execute_reply": "2025-01-09T15:07:45.376719Z"
    },
    "papermill": {
     "duration": 0.168414,
     "end_time": "2025-01-09T15:07:45.377938",
     "exception": false,
     "start_time": "2025-01-09T15:07:45.209524",
     "status": "completed"
    },
    "tags": []
   },
   "outputs": [],
   "source": [
    "import os\n",
    "import sys\n",
    "import tempfile\n",
    "from dataclasses import dataclass\n",
    "import typing\n",
    "import warnings\n",
    "import multiprocessing\n",
    "\n",
    "import numpy\n",
    "import pandas\n",
    "import scipy.integrate\n",
    "import scipy.interpolate\n",
    "\n",
    "import arbor\n",
    "\n",
    "from IPython.display import display"
   ]
  },
  {
   "cell_type": "markdown",
   "id": "4536e561",
   "metadata": {
    "papermill": {
     "duration": 0.008178,
     "end_time": "2025-01-09T15:07:45.389654",
     "exception": false,
     "start_time": "2025-01-09T15:07:45.381476",
     "status": "completed"
    },
    "pycharm": {
     "name": "#%% md\n"
    },
    "tags": []
   },
   "source": [
    "If you want to see a lot of information about the internals, \n",
    "the verbose level can be set to 'debug' by commenting out\n",
    "the following lines"
   ]
  },
  {
   "cell_type": "code",
   "execution_count": 6,
   "id": "f687d78c",
   "metadata": {
    "execution": {
     "iopub.execute_input": "2025-01-09T15:07:45.396851Z",
     "iopub.status.busy": "2025-01-09T15:07:45.396675Z",
     "iopub.status.idle": "2025-01-09T15:07:45.398827Z",
     "shell.execute_reply": "2025-01-09T15:07:45.398451Z"
    },
    "papermill": {
     "duration": 0.006512,
     "end_time": "2025-01-09T15:07:45.399473",
     "exception": false,
     "start_time": "2025-01-09T15:07:45.392961",
     "status": "completed"
    },
    "pycharm": {
     "name": "#%%\n"
    },
    "tags": []
   },
   "outputs": [],
   "source": [
    "# import logging\n",
    "# logger = logging.getLogger()\n",
    "# logger.setLevel(logging.DEBUG)"
   ]
  },
  {
   "cell_type": "markdown",
   "id": "c29d27f8",
   "metadata": {
    "papermill": {
     "duration": 0.003203,
     "end_time": "2025-01-09T15:07:45.405962",
     "exception": false,
     "start_time": "2025-01-09T15:07:45.402759",
     "status": "completed"
    },
    "pycharm": {
     "name": "#%% md\n"
    },
    "tags": []
   },
   "source": [
    "## Setting up the cell model\n",
    "\n",
    "We use a single-compartimental cell model with the same morphology as in the `simplecell` example, but mechanisms from the `l5pc` model. They are instantiated with different options for axon replacement policy and (by default randomly sampled) mechanism parameter values."
   ]
  },
  {
   "cell_type": "code",
   "execution_count": 7,
   "id": "867b01ea",
   "metadata": {
    "collapsed": false,
    "execution": {
     "iopub.execute_input": "2025-01-09T15:07:45.412940Z",
     "iopub.status.busy": "2025-01-09T15:07:45.412826Z",
     "iopub.status.idle": "2025-01-09T15:07:45.415068Z",
     "shell.execute_reply": "2025-01-09T15:07:45.414798Z"
    },
    "jupyter": {
     "outputs_hidden": false
    },
    "papermill": {
     "duration": 0.006491,
     "end_time": "2025-01-09T15:07:45.415676",
     "exception": false,
     "start_time": "2025-01-09T15:07:45.409185",
     "status": "completed"
    },
    "pycharm": {
     "name": "#%%\n"
    },
    "tags": []
   },
   "outputs": [],
   "source": [
    "# parameter randomization\n",
    "import json\n",
    "import random\n",
    "\n",
    "# os.chdir('../../../BluePyOpt/examples/l5pc')\n",
    "import l5pc_model"
   ]
  },
  {
   "cell_type": "markdown",
   "id": "e2659e97",
   "metadata": {
    "papermill": {
     "duration": 0.003207,
     "end_time": "2025-01-09T15:07:45.422258",
     "exception": false,
     "start_time": "2025-01-09T15:07:45.419051",
     "status": "completed"
    },
    "pycharm": {
     "name": "#%% md\n"
    },
    "tags": []
   },
   "source": [
    "## Creating locations for Arbor\n",
    "\n",
    "A protocol consists of a set of stimuli and recordings. These responses will later be used to compare voltage traces from simulations between Arbor and Neuron for different parameter values and axon replacement configurations.\n",
    "\n",
    "For the protocols, we apply stimuli centrally at the soma and probe the membrane voltage at a slightly displaced location. For this purpose, we introduce locations in Arbor, which are specified by a relative position `pos` on a `branch` of the morphology."
   ]
  },
  {
   "cell_type": "code",
   "execution_count": 8,
   "id": "cd7dd3d1",
   "metadata": {
    "execution": {
     "iopub.execute_input": "2025-01-09T15:07:45.429253Z",
     "iopub.status.busy": "2025-01-09T15:07:45.429079Z",
     "iopub.status.idle": "2025-01-09T15:07:45.431384Z",
     "shell.execute_reply": "2025-01-09T15:07:45.431125Z"
    },
    "papermill": {
     "duration": 0.006334,
     "end_time": "2025-01-09T15:07:45.431848",
     "exception": false,
     "start_time": "2025-01-09T15:07:45.425514",
     "status": "completed"
    },
    "tags": []
   },
   "outputs": [],
   "source": [
    "# Define locations on branch 0 of the morphology (soma)\n",
    "arb_locations = dict(\n",
    "    stim_loc=ephys.locations.ArbBranchRelLocation(\n",
    "        name='stim_loc',\n",
    "        branch=0,\n",
    "        pos=0.5\n",
    "    ),\n",
    "    probe_loc=ephys.locations.ArbBranchRelLocation(\n",
    "        name='probe_loc',\n",
    "        branch=0,\n",
    "        pos=0.75\n",
    "    )\n",
    ")"
   ]
  },
  {
   "cell_type": "code",
   "execution_count": 9,
   "id": "46cb1ff5",
   "metadata": {
    "execution": {
     "iopub.execute_input": "2025-01-09T15:07:45.438943Z",
     "iopub.status.busy": "2025-01-09T15:07:45.438818Z",
     "iopub.status.idle": "2025-01-09T15:07:45.440887Z",
     "shell.execute_reply": "2025-01-09T15:07:45.440617Z"
    },
    "papermill": {
     "duration": 0.006266,
     "end_time": "2025-01-09T15:07:45.441436",
     "exception": false,
     "start_time": "2025-01-09T15:07:45.435170",
     "status": "completed"
    },
    "pycharm": {
     "name": "#%%\n"
    },
    "tags": []
   },
   "outputs": [],
   "source": [
    "nrn_locations = dict(\n",
    "    stim_loc=ephys.locations.NrnSeclistCompLocation(\n",
    "        name='soma',\n",
    "        seclist_name='somatic',\n",
    "        sec_index=0,\n",
    "        comp_x=0.5),\n",
    "    probe_loc=ephys.locations.NrnSeclistCompLocation(\n",
    "        name='probe',\n",
    "        seclist_name='somatic',\n",
    "        sec_index=0,\n",
    "        comp_x=0.75)\n",
    ")"
   ]
  },
  {
   "cell_type": "markdown",
   "id": "12729e72",
   "metadata": {
    "papermill": {
     "duration": 0.003156,
     "end_time": "2025-01-09T15:07:45.447865",
     "exception": false,
     "start_time": "2025-01-09T15:07:45.444709",
     "status": "completed"
    },
    "pycharm": {
     "name": "#%% md\n"
    },
    "tags": []
   },
   "source": [
    "We use a modified version of the L5PC protocols with shortened stimulus duration and reduced amplitudes."
   ]
  },
  {
   "cell_type": "code",
   "execution_count": 10,
   "id": "f8abc246",
   "metadata": {
    "execution": {
     "iopub.execute_input": "2025-01-09T15:07:45.454759Z",
     "iopub.status.busy": "2025-01-09T15:07:45.454647Z",
     "iopub.status.idle": "2025-01-09T15:07:45.457283Z",
     "shell.execute_reply": "2025-01-09T15:07:45.456967Z"
    },
    "papermill": {
     "duration": 0.006671,
     "end_time": "2025-01-09T15:07:45.457803",
     "exception": false,
     "start_time": "2025-01-09T15:07:45.451132",
     "status": "completed"
    },
    "tags": []
   },
   "outputs": [],
   "source": [
    "# Protocol prots configuration\n",
    "protocol_steps = []\n",
    "for name, amplitude, duration in [('bAP', 0.19, 5), ('Step1', 0.0458, 50), ('Step3', 0.095, 50)]:\n",
    "    protocol_steps.append(\n",
    "        dict(name=name,\n",
    "             total_duration=120,\n",
    "             stimuli=[\n",
    "                 dict(name='%s.iclamp' % name,\n",
    "                      location='stim_loc',\n",
    "                      amplitude=amplitude,\n",
    "                      delay=40,\n",
    "                      duration=duration)],\n",
    "             recordings=[\n",
    "                 dict(name='%s.soma.v' % name,\n",
    "                      location='probe_loc')]))"
   ]
  },
  {
   "cell_type": "markdown",
   "id": "2e5b47e0",
   "metadata": {
    "papermill": {
     "duration": 0.003221,
     "end_time": "2025-01-09T15:07:45.464352",
     "exception": false,
     "start_time": "2025-01-09T15:07:45.461131",
     "status": "completed"
    },
    "tags": []
   },
   "source": [
    "## Defining protocols to run with Arbor\n",
    "\n",
    "To define a protocol in Arbor, we perform the same steps as for Neuron. That is we create stimuli and recordings and initialize an `ArbSweepProtocol` with it as a basic building block (analogous to `SweepProtocol` for Neuron). Note that we use location objects specific to Arbor, where the corresponding ones for Neuron are not well-defined on an Arbor morphology. The sweep protocol can then be assembled into other protocols as usual.\n",
    "\n",
    "The protocols defined in the following are analogous to those of the L5PC model."
   ]
  },
  {
   "cell_type": "code",
   "execution_count": 11,
   "id": "4cbd2186",
   "metadata": {
    "execution": {
     "iopub.execute_input": "2025-01-09T15:07:45.471648Z",
     "iopub.status.busy": "2025-01-09T15:07:45.471441Z",
     "iopub.status.idle": "2025-01-09T15:07:45.474863Z",
     "shell.execute_reply": "2025-01-09T15:07:45.474630Z"
    },
    "papermill": {
     "duration": 0.007729,
     "end_time": "2025-01-09T15:07:45.475454",
     "exception": false,
     "start_time": "2025-01-09T15:07:45.467725",
     "status": "completed"
    },
    "pycharm": {
     "name": "#%%\n"
    },
    "tags": []
   },
   "outputs": [],
   "source": [
    "nrn_sweep_protocols = []\n",
    "arb_sweep_protocols = []\n",
    "\n",
    "for prot_def in protocol_steps:\n",
    "    nrn_stims = []\n",
    "    arb_stims = []\n",
    "    for stim in prot_def['stimuli']:\n",
    "        stim_args = dict(step_amplitude=stim['amplitude'],\n",
    "                         step_delay=stim['delay'],\n",
    "                         step_duration=stim['duration'],\n",
    "                         total_duration=prot_def['total_duration'])\n",
    "\n",
    "        nrn_stims.append(ephys.stimuli.NrnSquarePulse(location=nrn_locations[stim['location']],\n",
    "                                                      **stim_args))\n",
    "\n",
    "        arb_stims.append(ephys.stimuli.NrnSquarePulse(location=arb_locations[stim['location']],\n",
    "                                                      **stim_args))\n",
    "\n",
    "    nrn_recs = []\n",
    "    arb_recs = []\n",
    "    for rec in prot_def['recordings']:\n",
    "        rec_args = dict(name=rec['name'],\n",
    "                        variable='v')\n",
    "\n",
    "        nrn_recs.append(ephys.recordings.CompRecording(location=nrn_locations[rec['location']],\n",
    "                                                       **rec_args))\n",
    "\n",
    "        arb_recs.append(ephys.recordings.CompRecording(location=arb_locations[rec['location']],\n",
    "                                                       **rec_args))\n",
    "\n",
    "    nrn_protocol = ephys.protocols.SweepProtocol(prot_def['name'], nrn_stims, nrn_recs)\n",
    "    nrn_sweep_protocols.append(nrn_protocol)\n",
    "\n",
    "    arb_protocol = ephys.protocols.ArbSweepProtocol(prot_def['name'], arb_stims, arb_recs)\n",
    "    arb_sweep_protocols.append(arb_protocol)\n",
    "\n",
    "nrn_protocol = ephys.protocols.SequenceProtocol('multistep', protocols=nrn_sweep_protocols)\n",
    "arb_protocol = ephys.protocols.SequenceProtocol('multistep', protocols=arb_sweep_protocols)"
   ]
  },
  {
   "cell_type": "markdown",
   "id": "6d4c4199",
   "metadata": {
    "papermill": {
     "duration": 0.003585,
     "end_time": "2025-01-09T15:07:45.482850",
     "exception": false,
     "start_time": "2025-01-09T15:07:45.479265",
     "status": "completed"
    },
    "tags": []
   },
   "source": [
    "## Mechanisms and parameters for cross-validation of Arbor and Neuron\n",
    "\n",
    "To validate Arbor's simulation output with that of Neuron, we run the protocols over a set of parameter values, either loaded from a JSON-file or randomly sampled from the parameter bounds (using `random.uniform(*bounds)`) and both with and without axon replacement.\n",
    "\n",
    "First, we gather L5PC mechanisms and parameters according to `mechanism_defs` and `extra_params` in the top cell of this notebook."
   ]
  },
  {
   "cell_type": "code",
   "execution_count": 12,
   "id": "c46ab076",
   "metadata": {
    "execution": {
     "iopub.execute_input": "2025-01-09T15:07:45.489928Z",
     "iopub.status.busy": "2025-01-09T15:07:45.489704Z",
     "iopub.status.idle": "2025-01-09T15:07:45.494987Z",
     "shell.execute_reply": "2025-01-09T15:07:45.494713Z"
    },
    "papermill": {
     "duration": 0.009355,
     "end_time": "2025-01-09T15:07:45.495559",
     "exception": false,
     "start_time": "2025-01-09T15:07:45.486204",
     "status": "completed"
    },
    "tags": []
   },
   "outputs": [
    {
     "data": {
      "text/plain": [
       "['g_pas.all',\n",
       " 'e_pas.all',\n",
       " 'cm.all',\n",
       " 'Ra.all',\n",
       " 'v_init',\n",
       " 'celsius',\n",
       " 'ena.somatic',\n",
       " 'gNaTa_tbar_NaTa_t.somatic',\n",
       " 'gCa_LVAstbar_Ca_LVAst.somatic',\n",
       " 'gamma_CaDynamics_E2.somatic',\n",
       " 'decay_CaDynamics_E2.somatic']"
      ]
     },
     "execution_count": 12,
     "metadata": {},
     "output_type": "execute_result"
    }
   ],
   "source": [
    "mechanisms = l5pc_model.create_mechanisms(\n",
    "    dict(all=mechanism_defs['all'],\n",
    "         somatic=[mech for loc, mechs in mechanism_defs.items() \n",
    "                  if loc != 'all' for mech in mechs]))\n",
    "\n",
    "l5pc_param_configs = l5pc_model.load_parameters()\n",
    "l5pc_param_names = []\n",
    "for p in l5pc_param_configs:\n",
    "    if 'mech' in p and p['mech'] in mechanism_defs.get(p['sectionlist'], []):\n",
    "        l5pc_param_names.append(p['param_name'] + '.' + p['sectionlist'])\n",
    "\n",
    "param_configs = []\n",
    "for p in l5pc_param_configs:\n",
    "    if 'mech' not in p:\n",
    "        if p['param_name'] in extra_params and (p['type'] == 'global' or \\\n",
    "            p['sectionlist'] in extra_params[p['param_name']]):\n",
    "            if p['type'] != 'global' and p['sectionlist'] != 'all':\n",
    "                p['sectionlist'] = 'somatic'  # remap to soma\n",
    "            param_configs.append(p)\n",
    "\n",
    "    elif p['mech'] in mechanism_defs.get(p['sectionlist'], []):\n",
    "        p['sectionlist'] = 'somatic'  # remap to soma\n",
    "        param_configs.append(p)\n",
    "\n",
    "if 'somatic' in mechanism_defs and 'hh' in mechanism_defs['somatic']:\n",
    "    for param_name, bounds in [('gnabar', (0.05, 0.125)),\n",
    "                               ('gkbar', (0.01, 0.075))]:\n",
    "        param_configs.append({\n",
    "            \"param_name\": param_name + \"_hh\",\n",
    "            \"mech\": \"hh\",\n",
    "            \"bounds\": bounds,\n",
    "            \"dist_type\": \"uniform\",\n",
    "            \"type\": \"range\",\n",
    "            \"sectionlist\": \"somatic\"\n",
    "        })\n",
    "\n",
    "parameters = l5pc_model.create_parameters(param_configs)\n",
    "\n",
    "# Print the names of all parameters\n",
    "[p.name for p in parameters]"
   ]
  },
  {
   "cell_type": "markdown",
   "id": "8a24a202",
   "metadata": {
    "papermill": {
     "duration": 0.003407,
     "end_time": "2025-01-09T15:07:45.502417",
     "exception": false,
     "start_time": "2025-01-09T15:07:45.499010",
     "status": "completed"
    },
    "tags": []
   },
   "source": [
    "We either randomly sample or read the values of non-frozen parameters from a file."
   ]
  },
  {
   "cell_type": "code",
   "execution_count": 13,
   "id": "7029b8ae",
   "metadata": {
    "execution": {
     "iopub.execute_input": "2025-01-09T15:07:45.509901Z",
     "iopub.status.busy": "2025-01-09T15:07:45.509553Z",
     "iopub.status.idle": "2025-01-09T15:07:45.513679Z",
     "shell.execute_reply": "2025-01-09T15:07:45.513410Z"
    },
    "papermill": {
     "duration": 0.008456,
     "end_time": "2025-01-09T15:07:45.514245",
     "exception": false,
     "start_time": "2025-01-09T15:07:45.505789",
     "status": "completed"
    },
    "tags": []
   },
   "outputs": [
    {
     "data": {
      "text/plain": [
       "[{'gNaTa_tbar_NaTa_t.somatic': 3.2832335413144325,\n",
       "  'gCa_LVAstbar_Ca_LVAst.somatic': 0.002066936957985005,\n",
       "  'gamma_CaDynamics_E2.somatic': 0.006732616529303067,\n",
       "  'decay_CaDynamics_E2.somatic': 313.3415919671918},\n",
       " {'gNaTa_tbar_NaTa_t.somatic': 0.19388634898017543,\n",
       "  'gCa_LVAstbar_Ca_LVAst.somatic': 0.003974152400655893,\n",
       "  'gamma_CaDynamics_E2.somatic': 0.04746902048178322,\n",
       "  'decay_CaDynamics_E2.somatic': 917.2352505126088},\n",
       " {'gNaTa_tbar_NaTa_t.somatic': 0.16879681874081154,\n",
       "  'gCa_LVAstbar_Ca_LVAst.somatic': 0.0012085412351030068,\n",
       "  'gamma_CaDynamics_E2.somatic': 0.005330282127447699,\n",
       "  'decay_CaDynamics_E2.somatic': 796.5192081393701},\n",
       " {'gNaTa_tbar_NaTa_t.somatic': 1.562746976383778,\n",
       "  'gCa_LVAstbar_Ca_LVAst.somatic': 0.006483707806383453,\n",
       "  'gamma_CaDynamics_E2.somatic': 0.018075268369690936,\n",
       "  'decay_CaDynamics_E2.somatic': 285.32445556818533},\n",
       " {'gNaTa_tbar_NaTa_t.somatic': 2.9386810838135107,\n",
       "  'gCa_LVAstbar_Ca_LVAst.somatic': 0.004509892034865511,\n",
       "  'gamma_CaDynamics_E2.somatic': 0.04788353515818717,\n",
       "  'decay_CaDynamics_E2.somatic': 680.7080369735925}]"
      ]
     },
     "execution_count": 13,
     "metadata": {},
     "output_type": "execute_result"
    }
   ],
   "source": [
    "if not hasattr(arbor.segment_tree, 'tag_roots'):  # skip axon replacement if not yet supported\n",
    "    replace_axon = [False]\n",
    "else:\n",
    "    replace_axon = [False, True]\n",
    "\n",
    "non_frozen_parameters = [param for param in parameters if not param.frozen]\n",
    "param_names = [param.name for param in non_frozen_parameters]\n",
    "\n",
    "if param_values_json is not None:\n",
    "    with open(param_values_json) as f:\n",
    "        params = []\n",
    "        for param_sample in json.load(f):\n",
    "            ps = dict()\n",
    "            for p_name, p_value in param_sample.items():\n",
    "                if p_name in l5pc_param_names:\n",
    "                    ps[p_name.split('.')[0] + '.somatic'] = p_value\n",
    "            params.append(ps)\n",
    "else:\n",
    "    params = [{param.name: random.uniform(*param.bounds)\n",
    "               for param in non_frozen_parameters}\n",
    "               for i in range(10)]\n",
    "params"
   ]
  },
  {
   "cell_type": "markdown",
   "id": "81522dd4",
   "metadata": {
    "papermill": {
     "duration": 0.003345,
     "end_time": "2025-01-09T15:07:45.521022",
     "exception": false,
     "start_time": "2025-01-09T15:07:45.517677",
     "status": "completed"
    },
    "tags": []
   },
   "source": [
    "## Running an Arbor protocol\n",
    "\n",
    "The interface of an Arbor protocol is the same as that for Neuron with the only difference that an instance of `ArbSimulator` must be supplied to the `run` method. In addition, if axon-replacement is used, the morphology must be instantiated on the cell model.\n",
    "\n",
    "Upon invoking the `protocol.run` method, the cell model is exported to a mixed JSON/ACC-format (cf. [generate_acc.py](generate_acc.py)) and an Arbor cable cell is assembled. Protocol stimuli and recordings are instantiated on this cell and an Arbor simulation is run.\n",
    "\n",
    "To create cell models with different configurations for the cross-validation, we use a factory in the following. This enables us to run both Arbor and Neuron simulations for the defined sequence protocols and each combination of axon replacement and parameter values..."
   ]
  },
  {
   "cell_type": "code",
   "execution_count": 14,
   "id": "c21dd34d",
   "metadata": {
    "execution": {
     "iopub.execute_input": "2025-01-09T15:07:45.528683Z",
     "iopub.status.busy": "2025-01-09T15:07:45.528230Z",
     "iopub.status.idle": "2025-01-09T15:07:52.989159Z",
     "shell.execute_reply": "2025-01-09T15:07:52.988584Z"
    },
    "papermill": {
     "duration": 7.465645,
     "end_time": "2025-01-09T15:07:52.990015",
     "exception": false,
     "start_time": "2025-01-09T15:07:45.524370",
     "status": "completed"
    },
    "tags": []
   },
   "outputs": [
    {
     "name": "stdout",
     "output_type": "stream",
     "text": [
      "CVode 0x39b5e4f0 simple_cell[0].soma[0] advance_tn failed, err=-7.\n"
     ]
    },
    {
     "name": "stderr",
     "output_type": "stream",
     "text": [
      "NEURON: variable step integrator error\n"
     ]
    },
    {
     "name": "stderr",
     "output_type": "stream",
     "text": [
      " near line 0\n"
     ]
    },
    {
     "name": "stderr",
     "output_type": "stream",
     "text": [
      " }\n"
     ]
    },
    {
     "name": "stderr",
     "output_type": "stream",
     "text": [
      " "
     ]
    },
    {
     "name": "stderr",
     "output_type": "stream",
     "text": [
      " "
     ]
    },
    {
     "name": "stderr",
     "output_type": "stream",
     "text": [
      "^\n"
     ]
    },
    {
     "name": "stderr",
     "output_type": "stream",
     "text": [
      "  "
     ]
    },
    {
     "name": "stderr",
     "output_type": "stream",
     "text": [
      "  "
     ]
    },
    {
     "name": "stderr",
     "output_type": "stream",
     "text": [
      "  "
     ]
    },
    {
     "name": "stderr",
     "output_type": "stream",
     "text": [
      "  "
     ]
    },
    {
     "name": "stderr",
     "output_type": "stream",
     "text": [
      "fadvance("
     ]
    },
    {
     "name": "stderr",
     "output_type": "stream",
     "text": [
      ")\n"
     ]
    },
    {
     "name": "stderr",
     "output_type": "stream",
     "text": [
      "  "
     ]
    },
    {
     "name": "stderr",
     "output_type": "stream",
     "text": [
      "  "
     ]
    },
    {
     "name": "stderr",
     "output_type": "stream",
     "text": [
      "  "
     ]
    },
    {
     "name": "stderr",
     "output_type": "stream",
     "text": [
      "advance("
     ]
    },
    {
     "name": "stderr",
     "output_type": "stream",
     "text": [
      ")\n"
     ]
    },
    {
     "name": "stderr",
     "output_type": "stream",
     "text": [
      "  "
     ]
    },
    {
     "name": "stderr",
     "output_type": "stream",
     "text": [
      "  "
     ]
    },
    {
     "name": "stderr",
     "output_type": "stream",
     "text": [
      "step("
     ]
    },
    {
     "name": "stderr",
     "output_type": "stream",
     "text": [
      ")\n"
     ]
    },
    {
     "name": "stderr",
     "output_type": "stream",
     "text": [
      "  "
     ]
    },
    {
     "name": "stderr",
     "output_type": "stream",
     "text": [
      "continuerun("
     ]
    },
    {
     "name": "stderr",
     "output_type": "stream",
     "text": [
      "120"
     ]
    },
    {
     "name": "stderr",
     "output_type": "stream",
     "text": [
      ")\n"
     ]
    },
    {
     "name": "stderr",
     "output_type": "stream",
     "text": [
      "and others\n"
     ]
    },
    {
     "name": "stderr",
     "output_type": "stream",
     "text": [
      "exp(840.488) out of range, returning exp(700)\n",
      "exp(700.907) out of range, returning exp(700)\n",
      "exp(705.574) out of range, returning exp(700)\n",
      "exp(840.488) out of range, returning exp(700)\n",
      "No more errno warnings during this execution\n",
      "CVode-- At t = 50.9809 and h = 1.49452e-08, the corrector\n",
      "convergence failed repeatedly or with |h| = hmin.\n",
      "\n"
     ]
    },
    {
     "name": "stdout",
     "output_type": "stream",
     "text": [
      "CVode 0x39b5e4f0 simple_cell[0].soma[0] advance_tn failed, err=-7.\n"
     ]
    },
    {
     "name": "stderr",
     "output_type": "stream",
     "text": [
      "NEURON: variable step integrator error\n"
     ]
    },
    {
     "name": "stderr",
     "output_type": "stream",
     "text": [
      " near line 0\n"
     ]
    },
    {
     "name": "stderr",
     "output_type": "stream",
     "text": [
      " {create axon[2]}\n"
     ]
    },
    {
     "name": "stderr",
     "output_type": "stream",
     "text": [
      " "
     ]
    },
    {
     "name": "stderr",
     "output_type": "stream",
     "text": [
      " "
     ]
    },
    {
     "name": "stderr",
     "output_type": "stream",
     "text": [
      " "
     ]
    },
    {
     "name": "stderr",
     "output_type": "stream",
     "text": [
      " "
     ]
    },
    {
     "name": "stderr",
     "output_type": "stream",
     "text": [
      " "
     ]
    },
    {
     "name": "stderr",
     "output_type": "stream",
     "text": [
      " "
     ]
    },
    {
     "name": "stderr",
     "output_type": "stream",
     "text": [
      " "
     ]
    },
    {
     "name": "stderr",
     "output_type": "stream",
     "text": [
      " "
     ]
    },
    {
     "name": "stderr",
     "output_type": "stream",
     "text": [
      " "
     ]
    },
    {
     "name": "stderr",
     "output_type": "stream",
     "text": [
      " "
     ]
    },
    {
     "name": "stderr",
     "output_type": "stream",
     "text": [
      " "
     ]
    },
    {
     "name": "stderr",
     "output_type": "stream",
     "text": [
      " "
     ]
    },
    {
     "name": "stderr",
     "output_type": "stream",
     "text": [
      " "
     ]
    },
    {
     "name": "stderr",
     "output_type": "stream",
     "text": [
      " "
     ]
    },
    {
     "name": "stderr",
     "output_type": "stream",
     "text": [
      " "
     ]
    },
    {
     "name": "stderr",
     "output_type": "stream",
     "text": [
      " "
     ]
    },
    {
     "name": "stderr",
     "output_type": "stream",
     "text": [
      " "
     ]
    },
    {
     "name": "stderr",
     "output_type": "stream",
     "text": [
      "^\n"
     ]
    },
    {
     "name": "stderr",
     "output_type": "stream",
     "text": [
      "  "
     ]
    },
    {
     "name": "stderr",
     "output_type": "stream",
     "text": [
      "  "
     ]
    },
    {
     "name": "stderr",
     "output_type": "stream",
     "text": [
      "  "
     ]
    },
    {
     "name": "stderr",
     "output_type": "stream",
     "text": [
      "  "
     ]
    },
    {
     "name": "stderr",
     "output_type": "stream",
     "text": [
      "fadvance("
     ]
    },
    {
     "name": "stderr",
     "output_type": "stream",
     "text": [
      ")\n"
     ]
    },
    {
     "name": "stderr",
     "output_type": "stream",
     "text": [
      "  "
     ]
    },
    {
     "name": "stderr",
     "output_type": "stream",
     "text": [
      "  "
     ]
    },
    {
     "name": "stderr",
     "output_type": "stream",
     "text": [
      "  "
     ]
    },
    {
     "name": "stderr",
     "output_type": "stream",
     "text": [
      "advance("
     ]
    },
    {
     "name": "stderr",
     "output_type": "stream",
     "text": [
      ")\n"
     ]
    },
    {
     "name": "stderr",
     "output_type": "stream",
     "text": [
      "  "
     ]
    },
    {
     "name": "stderr",
     "output_type": "stream",
     "text": [
      "  "
     ]
    },
    {
     "name": "stderr",
     "output_type": "stream",
     "text": [
      "step("
     ]
    },
    {
     "name": "stderr",
     "output_type": "stream",
     "text": [
      ")\n"
     ]
    },
    {
     "name": "stderr",
     "output_type": "stream",
     "text": [
      "  "
     ]
    },
    {
     "name": "stderr",
     "output_type": "stream",
     "text": [
      "continuerun("
     ]
    },
    {
     "name": "stderr",
     "output_type": "stream",
     "text": [
      "120"
     ]
    },
    {
     "name": "stderr",
     "output_type": "stream",
     "text": [
      ")\n"
     ]
    },
    {
     "name": "stderr",
     "output_type": "stream",
     "text": [
      "and others\n"
     ]
    },
    {
     "name": "stderr",
     "output_type": "stream",
     "text": [
      "exp(928.497) out of range, returning exp(700)\n",
      "exp(733.982) out of range, returning exp(700)\n",
      "exp(774.247) out of range, returning exp(700)\n",
      "exp(778.914) out of range, returning exp(700)\n",
      "No more errno warnings during this execution\n",
      "CVode-- At t = 63.1002 and h = 1.13894e-07, the corrector\n",
      "convergence failed repeatedly or with |h| = hmin.\n",
      "\n"
     ]
    }
   ],
   "source": [
    "@dataclass\n",
    "class CellModelFactory:\n",
    "    mechanisms: typing.List[ephys.mechanisms.NrnMODMechanism]\n",
    "    parameters: typing.List[ephys.parameters.NrnParameter]\n",
    "\n",
    "    def create_cell_model(self, do_replace_axon):\n",
    "\n",
    "        morphology = ephys.morphologies.NrnFileMorphology(\n",
    "            '../simplecell/simple.swc', do_replace_axon=do_replace_axon)\n",
    "\n",
    "        return ephys.models.CellModel(\n",
    "            'simple_cell',\n",
    "            morph=morphology,\n",
    "            mechs=self.mechanisms,\n",
    "            params=self.parameters)\n",
    "\n",
    "@dataclass\n",
    "class SimulationRunner:\n",
    "    cell_factory: CellModelFactory\n",
    "    arb_protocol: ephys.protocols.SequenceProtocol\n",
    "    nrn_protocol: ephys.protocols.SequenceProtocol\n",
    "\n",
    "    def run_all(self, replace_axon_policies, param_list, dt=0.025):\n",
    "        arb_resp = dict()\n",
    "        nrn_resp = dict()\n",
    "\n",
    "        nrn_sim = ephys.simulators.NrnSimulator(dt=dt)\n",
    "        arb_sim = ephys.simulators.ArbSimulator(dt=dt)\n",
    "\n",
    "        for do_replace_axon in replace_axon_policies:\n",
    "            for param_i in range(len(param_list)):\n",
    "\n",
    "                cell_model = self.cell_factory.create_cell_model(do_replace_axon=do_replace_axon)\n",
    "\n",
    "                # calculate morphology with axon-replacement in Neuron\n",
    "                cell_model.instantiate_morphology_3d(nrn_sim)\n",
    "\n",
    "                key = (do_replace_axon, param_i)\n",
    "                arb_resp[key] = self.arb_protocol.run(cell_model, param_list[param_i], arb_sim)\n",
    "\n",
    "                # need to destroy instantiated cell model first to avoid Hoc serialization error\n",
    "                cell_model.destroy(sim=nrn_sim)\n",
    "\n",
    "                nrn_resp[key] = self.nrn_protocol.run(cell_model, param_list[param_i], nrn_sim)\n",
    "        return arb_resp, nrn_resp\n",
    "\n",
    "\n",
    "cell_factory = CellModelFactory(mechanisms, parameters)\n",
    "simulation_runner = SimulationRunner(cell_factory, arb_protocol, nrn_protocol)\n",
    "arb_responses, nrn_responses = simulation_runner.run_all(replace_axon, params, default_dt)"
   ]
  },
  {
   "cell_type": "markdown",
   "id": "eda0840b",
   "metadata": {
    "papermill": {
     "duration": 0.00917,
     "end_time": "2025-01-09T15:07:53.011246",
     "exception": false,
     "start_time": "2025-01-09T15:07:53.002076",
     "status": "completed"
    },
    "tags": []
   },
   "source": [
    "...and to plot the responses for visual validation."
   ]
  },
  {
   "cell_type": "code",
   "execution_count": 15,
   "id": "7cd4f1e0",
   "metadata": {
    "execution": {
     "iopub.execute_input": "2025-01-09T15:07:53.028683Z",
     "iopub.status.busy": "2025-01-09T15:07:53.028485Z",
     "iopub.status.idle": "2025-01-09T15:07:53.034430Z",
     "shell.execute_reply": "2025-01-09T15:07:53.034043Z"
    },
    "papermill": {
     "duration": 0.012623,
     "end_time": "2025-01-09T15:07:53.035373",
     "exception": false,
     "start_time": "2025-01-09T15:07:53.022750",
     "status": "completed"
    },
    "tags": []
   },
   "outputs": [],
   "source": [
    "def plot_response_comparison(arb_resp, nrn_resp, title):\n",
    "    num_protocols = len(protocol_steps)\n",
    "    num_recs = max([len(step['recordings']) for step in protocol_steps])\n",
    "    assert num_recs == 1  # add j as a second index with multiple recordings\n",
    "    fig, ax = plt.subplots(num_protocols, num_recs, figsize=(12,7))\n",
    "    for i, step in enumerate(protocol_steps):\n",
    "        for j, rec in enumerate(step['recordings']):\n",
    "            rec_name = rec['name']\n",
    "            ax[i].plot(nrn_resp[rec_name]['time'], nrn_resp[rec_name]['voltage'], label='Neuron ' + rec_name)\n",
    "            ax[i].plot(arb_resp[rec_name]['time'], arb_resp[rec_name]['voltage'], label='Arbor ' + rec_name)\n",
    "            ax[i].set_title(title)\n",
    "            ax[i].legend(loc='upper left')\n",
    "    plt.tight_layout()\n",
    "    plt.show()"
   ]
  },
  {
   "cell_type": "markdown",
   "id": "9a90da12",
   "metadata": {
    "papermill": {
     "duration": 0.00701,
     "end_time": "2025-01-09T15:07:53.051370",
     "exception": false,
     "start_time": "2025-01-09T15:07:53.044360",
     "status": "completed"
    },
    "tags": []
   },
   "source": [
    "### The cross-validation metric\n",
    "\n",
    "To analyze the responses, we compare the difference of voltage traces between Arbor and Neuron in the L1-norm. "
   ]
  },
  {
   "cell_type": "markdown",
   "id": "d2445b10",
   "metadata": {
    "tags": [
     "papermill-error-cell-tag"
    ]
   },
   "source": [
    "<span id=\"papermill-error-cell\" style=\"color:red; font-family:Helvetica Neue, Helvetica, Arial, sans-serif; font-size:2em;\">Execution using papermill encountered an exception here and stopped:</span>"
   ]
  },
  {
   "cell_type": "code",
   "execution_count": 16,
   "id": "7040b0ef",
   "metadata": {
    "execution": {
     "iopub.execute_input": "2025-01-09T15:07:53.071624Z",
     "iopub.status.busy": "2025-01-09T15:07:53.071468Z",
     "iopub.status.idle": "2025-01-09T15:07:55.140026Z",
     "shell.execute_reply": "2025-01-09T15:07:55.139344Z"
    },
    "papermill": {
     "duration": 2.081359,
     "end_time": "2025-01-09T15:07:55.140916",
     "exception": true,
     "start_time": "2025-01-09T15:07:53.059557",
     "status": "failed"
    },
    "tags": []
   },
   "outputs": [
    {
     "ename": "AttributeError",
     "evalue": "'NoneType' object has no attribute 'response'",
     "output_type": "error",
     "traceback": [
      "\u001b[0;31m---------------------------------------------------------------------------\u001b[0m",
      "\u001b[0;31mRemoteTraceback\u001b[0m                           Traceback (most recent call last)",
      "\u001b[0;31mRemoteTraceback\u001b[0m: \n\"\"\"\nTraceback (most recent call last):\n  File \"/usr/lib/python3.12/multiprocessing/pool.py\", line 125, in worker\n    result = (True, func(*args, **kwds))\n                    ^^^^^^^^^^^^^^^^^^^\n  File \"/usr/lib/python3.12/multiprocessing/pool.py\", line 48, in mapstar\n    return list(map(*args))\n           ^^^^^^^^^^^^^^^^\n  File \"/tmp/ipykernel_95129/3832730342.py\", line 16, in voltage_trace_residual_l1_norm_sweep_protocol\n    nrn_resp = args['nrn_resp'].response\n               ^^^^^^^^^^^^^^^^^^^^^^^^^\nAttributeError: 'NoneType' object has no attribute 'response'\n\"\"\"",
      "\nThe above exception was the direct cause of the following exception:\n",
      "\u001b[0;31mAttributeError\u001b[0m                            Traceback (most recent call last)",
      "Cell \u001b[0;32mIn[16], line 56\u001b[0m\n\u001b[1;32m     46\u001b[0m             l1_results\u001b[38;5;241m.\u001b[39mappend(\n\u001b[1;32m     47\u001b[0m                 \u001b[38;5;28mdict\u001b[39m(replace_axon\u001b[38;5;241m=\u001b[39mkey[\u001b[38;5;241m0\u001b[39m],\n\u001b[1;32m     48\u001b[0m                      param_i\u001b[38;5;241m=\u001b[39mkey[\u001b[38;5;241m1\u001b[39m],\n\u001b[1;32m     49\u001b[0m                      \u001b[38;5;241m*\u001b[39m\u001b[38;5;241m*\u001b[39mparams[key[\u001b[38;5;241m1\u001b[39m]],\n\u001b[1;32m     50\u001b[0m                      protocol\u001b[38;5;241m=\u001b[39mstep,\n\u001b[1;32m     51\u001b[0m                      \u001b[38;5;241m*\u001b[39m\u001b[38;5;241m*\u001b[39ml1_task_result))\n\u001b[1;32m     53\u001b[0m     \u001b[38;5;28;01mreturn\u001b[39;00m pandas\u001b[38;5;241m.\u001b[39mDataFrame(l1_results)\n\u001b[0;32m---> 56\u001b[0m l1_results \u001b[38;5;241m=\u001b[39m \u001b[43manalyze_voltage_traces_l1\u001b[49m\u001b[43m(\u001b[49m\u001b[43marb_responses\u001b[49m\u001b[43m,\u001b[49m\u001b[43m \u001b[49m\u001b[43mnrn_responses\u001b[49m\u001b[43m)\u001b[49m\n\u001b[1;32m     57\u001b[0m pandas\u001b[38;5;241m.\u001b[39moptions\u001b[38;5;241m.\u001b[39mdisplay\u001b[38;5;241m.\u001b[39mfloat_format \u001b[38;5;241m=\u001b[39m \u001b[38;5;124m'\u001b[39m\u001b[38;5;132;01m{:,.3g}\u001b[39;00m\u001b[38;5;124m'\u001b[39m\u001b[38;5;241m.\u001b[39mformat\n\u001b[1;32m     58\u001b[0m l1_results\u001b[38;5;241m.\u001b[39msort_values(by\u001b[38;5;241m=\u001b[39m\u001b[38;5;124m'\u001b[39m\u001b[38;5;124mresidual_rel_l1_norm\u001b[39m\u001b[38;5;124m'\u001b[39m, ascending\u001b[38;5;241m=\u001b[39m\u001b[38;5;28;01mFalse\u001b[39;00m)\u001b[38;5;241m.\u001b[39mhead(\u001b[38;5;241m5\u001b[39m)\n",
      "Cell \u001b[0;32mIn[16], line 39\u001b[0m, in \u001b[0;36manalyze_voltage_traces_l1\u001b[0;34m(arb_resp, nrn_resp)\u001b[0m\n\u001b[1;32m     37\u001b[0m \u001b[38;5;66;03m# test_l5pc: insert if True:\u001b[39;00m\n\u001b[1;32m     38\u001b[0m \u001b[38;5;28;01mwith\u001b[39;00m multiprocessing\u001b[38;5;241m.\u001b[39mPool(multiprocessing\u001b[38;5;241m.\u001b[39mcpu_count()) \u001b[38;5;28;01mas\u001b[39;00m pool:\n\u001b[0;32m---> 39\u001b[0m     l1_task_results \u001b[38;5;241m=\u001b[39m \u001b[43mpool\u001b[49m\u001b[38;5;241;43m.\u001b[39;49m\u001b[43mmap\u001b[49m\u001b[43m(\u001b[49m\u001b[43mvoltage_trace_residual_l1_norm_sweep_protocol\u001b[49m\u001b[43m,\u001b[49m\n\u001b[1;32m     40\u001b[0m \u001b[43m                               \u001b[49m\u001b[43m[\u001b[49m\u001b[38;5;28;43mdict\u001b[39;49m\u001b[43m(\u001b[49m\u001b[43marb_resp\u001b[49m\u001b[38;5;241;43m=\u001b[39;49m\u001b[43marb_resp\u001b[49m\u001b[43m[\u001b[49m\u001b[43mkey\u001b[49m\u001b[43m]\u001b[49m\u001b[43m[\u001b[49m\u001b[43mstep\u001b[49m\u001b[43m]\u001b[49m\u001b[43m,\u001b[49m\n\u001b[1;32m     41\u001b[0m \u001b[43m                                     \u001b[49m\u001b[43mnrn_resp\u001b[49m\u001b[38;5;241;43m=\u001b[39;49m\u001b[43mnrn_resp\u001b[49m\u001b[43m[\u001b[49m\u001b[43mkey\u001b[49m\u001b[43m]\u001b[49m\u001b[43m[\u001b[49m\u001b[43mstep\u001b[49m\u001b[43m]\u001b[49m\u001b[43m)\u001b[49m\n\u001b[1;32m     42\u001b[0m \u001b[43m                                \u001b[49m\u001b[38;5;28;43;01mfor\u001b[39;49;00m\u001b[43m \u001b[49m\u001b[43mkey\u001b[49m\u001b[43m,\u001b[49m\u001b[43m \u001b[49m\u001b[43mstep\u001b[49m\u001b[43m \u001b[49m\u001b[38;5;129;43;01min\u001b[39;49;00m\u001b[43m \u001b[49m\u001b[43mindices\u001b[49m\u001b[43m]\u001b[49m\u001b[43m)\u001b[49m\n\u001b[1;32m     44\u001b[0m l1_results \u001b[38;5;241m=\u001b[39m []\n\u001b[1;32m     45\u001b[0m \u001b[38;5;28;01mfor\u001b[39;00m l1_task_result, (key, step) \u001b[38;5;129;01min\u001b[39;00m \u001b[38;5;28mzip\u001b[39m(l1_task_results, indices):\n",
      "File \u001b[0;32m/usr/lib/python3.12/multiprocessing/pool.py:367\u001b[0m, in \u001b[0;36mPool.map\u001b[0;34m(self, func, iterable, chunksize)\u001b[0m\n\u001b[1;32m    362\u001b[0m \u001b[38;5;28;01mdef\u001b[39;00m\u001b[38;5;250m \u001b[39m\u001b[38;5;21mmap\u001b[39m(\u001b[38;5;28mself\u001b[39m, func, iterable, chunksize\u001b[38;5;241m=\u001b[39m\u001b[38;5;28;01mNone\u001b[39;00m):\n\u001b[1;32m    363\u001b[0m \u001b[38;5;250m    \u001b[39m\u001b[38;5;124;03m'''\u001b[39;00m\n\u001b[1;32m    364\u001b[0m \u001b[38;5;124;03m    Apply `func` to each element in `iterable`, collecting the results\u001b[39;00m\n\u001b[1;32m    365\u001b[0m \u001b[38;5;124;03m    in a list that is returned.\u001b[39;00m\n\u001b[1;32m    366\u001b[0m \u001b[38;5;124;03m    '''\u001b[39;00m\n\u001b[0;32m--> 367\u001b[0m     \u001b[38;5;28;01mreturn\u001b[39;00m \u001b[38;5;28;43mself\u001b[39;49m\u001b[38;5;241;43m.\u001b[39;49m\u001b[43m_map_async\u001b[49m\u001b[43m(\u001b[49m\u001b[43mfunc\u001b[49m\u001b[43m,\u001b[49m\u001b[43m \u001b[49m\u001b[43miterable\u001b[49m\u001b[43m,\u001b[49m\u001b[43m \u001b[49m\u001b[43mmapstar\u001b[49m\u001b[43m,\u001b[49m\u001b[43m \u001b[49m\u001b[43mchunksize\u001b[49m\u001b[43m)\u001b[49m\u001b[38;5;241;43m.\u001b[39;49m\u001b[43mget\u001b[49m\u001b[43m(\u001b[49m\u001b[43m)\u001b[49m\n",
      "File \u001b[0;32m/usr/lib/python3.12/multiprocessing/pool.py:774\u001b[0m, in \u001b[0;36mApplyResult.get\u001b[0;34m(self, timeout)\u001b[0m\n\u001b[1;32m    772\u001b[0m     \u001b[38;5;28;01mreturn\u001b[39;00m \u001b[38;5;28mself\u001b[39m\u001b[38;5;241m.\u001b[39m_value\n\u001b[1;32m    773\u001b[0m \u001b[38;5;28;01melse\u001b[39;00m:\n\u001b[0;32m--> 774\u001b[0m     \u001b[38;5;28;01mraise\u001b[39;00m \u001b[38;5;28mself\u001b[39m\u001b[38;5;241m.\u001b[39m_value\n",
      "\u001b[0;31mAttributeError\u001b[0m: 'NoneType' object has no attribute 'response'"
     ]
    }
   ],
   "source": [
    "def voltage_trace_residual_l1_norm(int_resp, ref_resp):\n",
    "    int_resp_func = scipy.interpolate.interp1d(int_resp['time'], int_resp['voltage'], kind='cubic')\n",
    "    ref_resp_func = scipy.interpolate.interp1d(ref_resp['time'], ref_resp['voltage'], kind='cubic')\n",
    "    abs_diff = lambda t: abs(int_resp_func(t)-ref_resp_func(t))\n",
    "    with warnings.catch_warnings():\n",
    "        warnings.filterwarnings(\"ignore\", category=scipy.integrate.IntegrationWarning)\n",
    "        if isinstance(ref_resp, pandas.DataFrame):\n",
    "            time_start, time_end = (ref_resp['time'].iloc[0], ref_resp['time'].iloc[-1])\n",
    "        else:\n",
    "            time_start, time_end = (ref_resp['time'][0], ref_resp['time'][-1])\n",
    "        return scipy.integrate.quad(abs_diff, time_start, time_end, limit=400)\n",
    "\n",
    "\n",
    "def voltage_trace_residual_l1_norm_sweep_protocol(args):\n",
    "    arb_resp = args['arb_resp'].response\n",
    "    nrn_resp = args['nrn_resp'].response\n",
    "\n",
    "    residual_l1_norm, residual_error = voltage_trace_residual_l1_norm(\n",
    "        nrn_resp, arb_resp)\n",
    "\n",
    "    nrn_to_min_l1_norm, nrn_to_min_error = \\\n",
    "        voltage_trace_residual_l1_norm(\n",
    "            nrn_resp,\n",
    "            dict(time=nrn_resp['time'].values,\n",
    "                 voltage=numpy.full(nrn_resp['voltage'].shape,\n",
    "                                    numpy.min(nrn_resp['voltage']))))\n",
    "    return dict(\n",
    "        residual_rel_l1_norm=residual_l1_norm/nrn_to_min_l1_norm,\n",
    "        residual_rel_l1_error=residual_error/residual_l1_norm + \\\n",
    "                            nrn_to_min_error/nrn_to_min_l1_norm\n",
    "    )\n",
    "\n",
    "\n",
    "def analyze_voltage_traces_l1(arb_resp, nrn_resp):\n",
    "    indices = [(key,step) for key in arb_resp for step in arb_resp[key]]\n",
    "\n",
    "    # test_l5pc: insert if True:\n",
    "    with multiprocessing.Pool(multiprocessing.cpu_count()) as pool:\n",
    "        l1_task_results = pool.map(voltage_trace_residual_l1_norm_sweep_protocol,\n",
    "                                   [dict(arb_resp=arb_resp[key][step],\n",
    "                                         nrn_resp=nrn_resp[key][step])\n",
    "                                    for key, step in indices])\n",
    "\n",
    "    l1_results = []\n",
    "    for l1_task_result, (key, step) in zip(l1_task_results, indices):\n",
    "            l1_results.append(\n",
    "                dict(replace_axon=key[0],\n",
    "                     param_i=key[1],\n",
    "                     **params[key[1]],\n",
    "                     protocol=step,\n",
    "                     **l1_task_result))\n",
    "\n",
    "    return pandas.DataFrame(l1_results)\n",
    "\n",
    "\n",
    "l1_results = analyze_voltage_traces_l1(arb_responses, nrn_responses)\n",
    "pandas.options.display.float_format = '{:,.3g}'.format\n",
    "l1_results.sort_values(by='residual_rel_l1_norm', ascending=False).head(5)"
   ]
  },
  {
   "cell_type": "code",
   "execution_count": null,
   "id": "81e50015",
   "metadata": {
    "papermill": {
     "duration": null,
     "end_time": null,
     "exception": null,
     "start_time": null,
     "status": "pending"
    },
    "tags": []
   },
   "outputs": [],
   "source": [
    "def print_voltage_trace_l1_results(config_str, l1_results):\n",
    "    voltage_residual_rel_l1_error_tolerance = 1e-2 * voltage_residual_rel_l1_tolerance\n",
    "\n",
    "    mean_rel_l1_norm = l1_results['residual_rel_l1_norm'].mean()\n",
    "    mean_rel_l1_error = l1_results['residual_rel_l1_error'].mean()\n",
    "    # max_l1_norm_record = l1_results.loc[l1_results['residual_rel_l1_norm'].idxmax()]\n",
    "\n",
    "    message = '{}: test_l5pc %s! The mean relative Arbor-Neuron L1-deviation and error (tol in brackets) are {:,.3g} ({:,.3g}), {:,.3g} ({:,.3g}).'.format(\n",
    "        config_str, mean_rel_l1_norm, voltage_residual_rel_l1_tolerance, mean_rel_l1_error, voltage_residual_rel_l1_error_tolerance)\n",
    "    if mean_rel_l1_norm < voltage_residual_rel_l1_tolerance and mean_rel_l1_error < voltage_residual_rel_l1_error_tolerance:\n",
    "        print(message % 'OK')\n",
    "    else:\n",
    "        print(message % 'ERROR')\n",
    "\n",
    "\n",
    "print_voltage_trace_l1_results('Default dt ({:,.3g})'.format(default_dt), l1_results)"
   ]
  },
  {
   "cell_type": "code",
   "execution_count": null,
   "id": "86714aec",
   "metadata": {
    "papermill": {
     "duration": null,
     "end_time": null,
     "exception": null,
     "start_time": null,
     "status": "pending"
    },
    "tags": []
   },
   "outputs": [],
   "source": [
    "def compare_responses(arb_resp, nrn_resp, l1_results, *key):\n",
    "    if key in arb_resp:\n",
    "        plot_response_comparison(arb_resp[key], nrn_resp[key], 'replace_axon = %s, param_i = %s ' % (key[0], key[1]))\n",
    "        display(l1_results[(l1_results['replace_axon'] == key[0]) & (l1_results['param_i'] == key[1])])\n",
    "\n",
    "\n",
    "for param_i in range(len(params)):  # test_l5pc: skip\n",
    "    for do_replace_axon in replace_axon:  # test_l5pc: skip\n",
    "        compare_responses(arb_responses, nrn_responses, l1_results, do_replace_axon, param_i)  # test_l5pc: skip"
   ]
  },
  {
   "cell_type": "markdown",
   "id": "90897fee",
   "metadata": {
    "papermill": {
     "duration": null,
     "end_time": null,
     "exception": null,
     "start_time": null,
     "status": "pending"
    },
    "tags": []
   },
   "source": [
    "The voltage traces look mostly similar between Arbor and Neuron. Under certain conditions, we can perform spike time analysis to understand this quantitatively. "
   ]
  },
  {
   "cell_type": "markdown",
   "id": "df883ed2",
   "metadata": {
    "papermill": {
     "duration": null,
     "end_time": null,
     "exception": null,
     "start_time": null,
     "status": "pending"
    },
    "tags": []
   },
   "source": [
    "### Spike time cross-validation\n",
    "\n",
    "To compare Arbor and Neuron voltage traces further, we analyze the spike counts and times with the eFEL library. Note that in contrast to eFEL that measures the `peak_time`, Arbor's built-in spike detector measures the time when the voltage surpasses a given voltage threshold."
   ]
  },
  {
   "cell_type": "code",
   "execution_count": null,
   "id": "4e8a9673",
   "metadata": {
    "papermill": {
     "duration": null,
     "end_time": null,
     "exception": null,
     "start_time": null,
     "status": "pending"
    },
    "tags": []
   },
   "outputs": [],
   "source": [
    "if run_spike_time_analysis:\n",
    "\n",
    "    efel_features = ['Spikecount',\n",
    "                    'time_to_first_spike',\n",
    "                    'time_to_second_spike',\n",
    "                    'time_to_last_spike']\n",
    "\n",
    "\n",
    "    # Extract spike observables from protocol simulation responses\n",
    "    def get_spike_data(protocols, do_replace_axon, param_values,\n",
    "                       arb_resp, nrn_resp):\n",
    "        spike_res = []\n",
    "\n",
    "        for step in protocols:\n",
    "            recording_name = step['recordings'][0]['name'] # use only first recording\n",
    "            stim_start = min([stim['delay'] for stim in step['stimuli']])\n",
    "            stim_end = max([stim['delay'] + stim['duration'] for stim in step['stimuli']])\n",
    "\n",
    "            for efel_feature_name in efel_features:\n",
    "                # Calculate spike observables with eFEL\n",
    "                feature_name = '%s.%s' % (step['name'], efel_feature_name)\n",
    "                feature = ephys.efeatures.eFELFeature(\n",
    "                            feature_name,\n",
    "                            efel_feature_name=efel_feature_name,\n",
    "                            recording_names={'': recording_name},\n",
    "                            stim_start=stim_start,\n",
    "                            stim_end=stim_end)\n",
    "\n",
    "                spike_res.append(dict(\n",
    "                    replace_axon=do_replace_axon,\n",
    "                    protocol=step['name'],\n",
    "                    **param_values,\n",
    "                    efel=efel_feature_name,\n",
    "                    Neuron=feature.calculate_feature(nrn_resp),\n",
    "                    Arbor=feature.calculate_feature(arb_resp)))\n",
    "        return spike_res\n",
    "\n",
    "\n",
    "    # Compare spike observables between Arbor and Neuron\n",
    "    def analyze_spikes(spike_res):\n",
    "        spike_res_df = pandas.DataFrame(spike_res)\n",
    "        spike_res_df.set_index(\n",
    "            ['replace_axon', 'protocol',\n",
    "             *param_names, 'efel'], inplace=True)\n",
    "        spike_res_df.dropna(how='all', inplace=True)  # drop all-NaN rows\n",
    "\n",
    "        # Arbor to Neuron cross-validation with eFEL\n",
    "        spike_res_df['abs_diff Arbor to Neuron'] = \\\n",
    "            spike_res_df.apply(\n",
    "                lambda r: abs(r['Arbor']-r['Neuron']), axis=1)\n",
    "        spike_res_df['rel_abs_diff Arbor to Neuron [%]'] = \\\n",
    "            spike_res_df.apply(\n",
    "                lambda r: 100.*abs(r['Arbor']-r['Neuron'])/r['Neuron']\n",
    "                          if r['Neuron'] != 0 else numpy.nan, axis=1)\n",
    "\n",
    "        return spike_res_df\n",
    "\n",
    "\n",
    "    # Aggregate all simulations into a single data frame \n",
    "    def joint_spike_analysis(arb_resp, nrn_resp, replace_axon_policies, param_list):\n",
    "        return pandas.concat(\n",
    "            [analyze_spikes(get_spike_data(protocol_steps,\n",
    "                                           replace_axon_policies[key[0]],\n",
    "                                           param_list[key[1]],\n",
    "                                           arb_resp[key],\n",
    "                                           nrn_resp[key]))\n",
    "             for key in arb_resp], axis=0)\n",
    "\n",
    "\n",
    "    pandas.options.display.float_format = '{:,.3g}'.format\n",
    "    # pandas.options.display.max_rows = None  # uncomment for full view\n",
    "    spike_results = joint_spike_analysis(arb_responses, nrn_responses, replace_axon, params)\n",
    "    display(spike_results)"
   ]
  },
  {
   "cell_type": "markdown",
   "id": "57d30d4f",
   "metadata": {
    "papermill": {
     "duration": null,
     "end_time": null,
     "exception": null,
     "start_time": null,
     "status": "pending"
    },
    "tags": []
   },
   "source": [
    "To understand the deviations over the entire parameter set and different axon replacement policies, we explore the per eFEL-observable statistics. Compare the `Spikecount`s that are usually fully consistent between Arbor and Neuron, whereas `time_to_last_spike` are the least consistent of these variables."
   ]
  },
  {
   "cell_type": "code",
   "execution_count": null,
   "id": "3fe19351",
   "metadata": {
    "papermill": {
     "duration": null,
     "end_time": null,
     "exception": null,
     "start_time": null,
     "status": "pending"
    },
    "tags": []
   },
   "outputs": [],
   "source": [
    "if run_spike_time_analysis:\n",
    "    display(spike_results[['abs_diff Arbor to Neuron',\n",
    "                           'rel_abs_diff Arbor to Neuron [%]']].groupby('efel').describe())"
   ]
  },
  {
   "cell_type": "markdown",
   "id": "3dc834e8",
   "metadata": {
    "papermill": {
     "duration": null,
     "end_time": null,
     "exception": null,
     "start_time": null,
     "status": "pending"
    },
    "tags": []
   },
   "source": [
    "We can inspect the traces with highest difference in `time_to_last_spike` to identify outliers."
   ]
  },
  {
   "cell_type": "code",
   "execution_count": null,
   "id": "758441df",
   "metadata": {
    "papermill": {
     "duration": null,
     "end_time": null,
     "exception": null,
     "start_time": null,
     "status": "pending"
    },
    "tags": []
   },
   "outputs": [],
   "source": [
    "if run_spike_time_analysis:\n",
    "    display(spike_results[ [el[spike_results.index.names.index('efel')] == 'time_to_last_spike'\n",
    "                            for el in spike_results.index] ].sort_values(\n",
    "                            by='abs_diff Arbor to Neuron', ascending=False).head(5))"
   ]
  },
  {
   "cell_type": "markdown",
   "id": "dd83bbad",
   "metadata": {
    "papermill": {
     "duration": null,
     "end_time": null,
     "exception": null,
     "start_time": null,
     "status": "pending"
    },
    "tags": []
   },
   "source": [
    "## Running protocols with a finer time step\n",
    "\n",
    "To rule out the discretization as a possible source of the above error in `time_to_last_spike`, we can re-run the simulations at a smaller `dt` of 0.001 ms (default is 0.025 ms)."
   ]
  },
  {
   "cell_type": "code",
   "execution_count": null,
   "id": "17113f5e",
   "metadata": {
    "papermill": {
     "duration": null,
     "end_time": null,
     "exception": null,
     "start_time": null,
     "status": "pending"
    },
    "tags": []
   },
   "outputs": [],
   "source": [
    "if run_fine_dt:\n",
    "    arb_responses_fine_dt, nrn_responses_fine_dt = simulation_runner.run_all(replace_axon, params, dt=fine_dt)\n",
    "\n",
    "    l1_results_fine_dt = analyze_voltage_traces_l1(arb_responses_fine_dt, nrn_responses_fine_dt)\n",
    "\n",
    "    display(l1_results_fine_dt.sort_values(by='residual_rel_l1_norm', ascending=False).head(5))"
   ]
  },
  {
   "cell_type": "code",
   "execution_count": null,
   "id": "f24d4eae",
   "metadata": {
    "papermill": {
     "duration": null,
     "end_time": null,
     "exception": null,
     "start_time": null,
     "status": "pending"
    },
    "tags": []
   },
   "outputs": [],
   "source": [
    "if run_fine_dt:\n",
    "    print_voltage_trace_l1_results('Fine dt ({:,.3g})'.format(fine_dt), l1_results_fine_dt)"
   ]
  },
  {
   "cell_type": "code",
   "execution_count": null,
   "id": "1ac8de1f",
   "metadata": {
    "papermill": {
     "duration": null,
     "end_time": null,
     "exception": null,
     "start_time": null,
     "status": "pending"
    },
    "tags": []
   },
   "outputs": [],
   "source": [
    "if run_fine_dt:\n",
    "    for param_i in range(len(params)):\n",
    "        for do_replace_axon in replace_axon:\n",
    "            compare_responses(arb_responses_fine_dt,\n",
    "                              nrn_responses_fine_dt,\n",
    "                              l1_results_fine_dt,\n",
    "                              do_replace_axon, param_i)"
   ]
  },
  {
   "cell_type": "code",
   "execution_count": null,
   "id": "ee900669",
   "metadata": {
    "papermill": {
     "duration": null,
     "end_time": null,
     "exception": null,
     "start_time": null,
     "status": "pending"
    },
    "tags": []
   },
   "outputs": [],
   "source": [
    "if run_spike_time_analysis and run_fine_dt:\n",
    "    spike_results_fine_dt = joint_spike_analysis(arb_responses_fine_dt, nrn_responses_fine_dt, replace_axon, params)\n",
    "    display(spike_results_fine_dt)"
   ]
  },
  {
   "cell_type": "code",
   "execution_count": null,
   "id": "9184c990",
   "metadata": {
    "papermill": {
     "duration": null,
     "end_time": null,
     "exception": null,
     "start_time": null,
     "status": "pending"
    },
    "tags": []
   },
   "outputs": [],
   "source": [
    "if run_spike_time_analysis and run_fine_dt:\n",
    "    display(spike_results_fine_dt[['abs_diff Arbor to Neuron',\n",
    "                                   'rel_abs_diff Arbor to Neuron [%]']].groupby('efel').describe())"
   ]
  },
  {
   "cell_type": "markdown",
   "id": "6045c84c",
   "metadata": {
    "papermill": {
     "duration": null,
     "end_time": null,
     "exception": null,
     "start_time": null,
     "status": "pending"
    },
    "tags": []
   },
   "source": [
    "The outlier in `time_to_last_spike` is gone now, both visually and quantitatively."
   ]
  },
  {
   "cell_type": "code",
   "execution_count": null,
   "id": "e5eee702",
   "metadata": {
    "papermill": {
     "duration": null,
     "end_time": null,
     "exception": null,
     "start_time": null,
     "status": "pending"
    },
    "tags": []
   },
   "outputs": [],
   "source": [
    "if run_spike_time_analysis and run_fine_dt:\n",
    "    display(spike_results_fine_dt[ [el[spike_results_fine_dt.index.names.index('efel')] == 'time_to_last_spike'\n",
    "                                    for el in spike_results_fine_dt.index] ].sort_values(\n",
    "                                    by='abs_diff Arbor to Neuron', ascending=False).head(5))"
   ]
  },
  {
   "cell_type": "markdown",
   "id": "13e81dfc",
   "metadata": {
    "papermill": {
     "duration": null,
     "end_time": null,
     "exception": null,
     "start_time": null,
     "status": "pending"
    },
    "tags": []
   },
   "source": [
    "Furthermore, the mean deviation between Arbor and Neuron for eFEL spike times is significantly reduced."
   ]
  },
  {
   "cell_type": "code",
   "execution_count": null,
   "id": "ed219cc5",
   "metadata": {
    "papermill": {
     "duration": null,
     "end_time": null,
     "exception": null,
     "start_time": null,
     "status": "pending"
    },
    "tags": []
   },
   "outputs": [],
   "source": [
    "if run_spike_time_analysis and run_fine_dt:\n",
    "    display((spike_results_fine_dt[['abs_diff Arbor to Neuron']].groupby('efel').mean()/\n",
    "             spike_results[['abs_diff Arbor to Neuron']].groupby('efel').mean()).rename(\n",
    "                 columns={'abs_diff Arbor to Neuron': \n",
    "                         'ratio of mean abs_diff Arbor to Neuron for fine dt vs. default dt'}))\n"
   ]
  },
  {
   "cell_type": "code",
   "execution_count": null,
   "id": "ca96bdeb",
   "metadata": {
    "papermill": {
     "duration": null,
     "end_time": null,
     "exception": null,
     "start_time": null,
     "status": "pending"
    },
    "tags": []
   },
   "outputs": [],
   "source": []
  }
 ],
 "metadata": {
  "kernelspec": {
   "display_name": "Python 3 (ipykernel)",
   "language": "python",
   "name": "python3"
  },
  "language_info": {
   "codemirror_mode": {
    "name": "ipython",
    "version": 3
   },
   "file_extension": ".py",
   "mimetype": "text/x-python",
   "name": "python",
   "nbconvert_exporter": "python",
   "pygments_lexer": "ipython3",
   "version": "3.12.3"
  },
  "papermill": {
   "default_parameters": {},
   "duration": 11.912374,
   "end_time": "2025-01-09T15:07:55.466401",
   "environment_variables": {},
   "exception": true,
   "input_path": "../../../BluePyOpt-utils/validation/all-regions-23-jan/l5pc_validate_neuron_arbor_axonal_Ca_LVAst_CaDynamics_E2_NaTa_t.ipynb",
   "output_path": "../../../BluePyOpt-utils/validation/all-regions-23-jan/../all-regions-25-jan/l5pc_validate_neuron_arbor_axonal_Ca_LVAst_CaDynamics_E2_NaTa_t.ipynb",
   "parameters": {
    "default_dt": 0.025,
    "extra_params": {
     "Ra": [
      "all"
     ],
     "celsius": "global",
     "cm": [
      "all"
     ],
     "e_pas": [
      "all"
     ],
     "ena": [
      "axonal"
     ],
     "g_pas": [
      "all"
     ],
     "v_init": "global"
    },
    "mechanism_defs": {
     "all": [
      "pas"
     ],
     "axonal": [
      "Ca_LVAst",
      "CaDynamics_E2",
      "NaTa_t"
     ]
    },
    "param_values_json": "../../../BluePyOpt-utils/validation/all-regions-23-jan/param_values.json",
    "run_fine_dt": true,
    "run_spike_time_analysis": false,
    "voltage_residual_rel_l1_tolerance": 0.05
   },
   "start_time": "2025-01-09T15:07:43.554027",
   "version": "2.3.4"
  },
  "vscode": {
   "interpreter": {
    "hash": "581988038cf9ce8838e7faf3da7c29f4ff88d898cd43cb17e0086e389d8deda2"
   }
  }
 },
 "nbformat": 4,
 "nbformat_minor": 5
}