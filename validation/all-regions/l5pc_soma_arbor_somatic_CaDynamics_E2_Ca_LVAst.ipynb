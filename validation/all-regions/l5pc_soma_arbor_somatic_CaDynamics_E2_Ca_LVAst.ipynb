{
 "cells": [
  {
   "cell_type": "markdown",
   "id": "afd048c6",
   "metadata": {
    "tags": [
     "papermill-error-cell-tag"
    ]
   },
   "source": [
    "<span style=\"color:red; font-family:Helvetica Neue, Helvetica, Arial, sans-serif; font-size:2em;\">An Exception was encountered at '<a href=\"#papermill-error-cell\">In [18]</a>'.</span>"
   ]
  },
  {
   "cell_type": "markdown",
   "id": "04082afe",
   "metadata": {
    "papermill": {
     "duration": 0.029444,
     "end_time": "2022-08-11T19:55:48.011050",
     "exception": false,
     "start_time": "2022-08-11T19:55:47.981606",
     "status": "completed"
    },
    "pycharm": {
     "name": "#%% md\n"
    },
    "tags": []
   },
   "source": [
    "# Simulating optimized cells in Arbor and cross-validation with Neuron\n",
    "\n",
    "This notebook demonstrates how to run a simulation of a simple single compartmental cell with fixed/optimized parameters in Arbor. We follow the standard BluePyOpt flow of setting up an electrophysiological experiment and export the cell model to a mixed JSON/ACC-format. We then cross-validate voltage traces obtained with Arbor with those from a Neuron simulation."
   ]
  },
  {
   "cell_type": "code",
   "execution_count": 1,
   "id": "96194a2a",
   "metadata": {
    "execution": {
     "iopub.execute_input": "2022-08-11T19:55:48.032696Z",
     "iopub.status.busy": "2022-08-11T19:55:48.032434Z",
     "iopub.status.idle": "2022-08-11T19:55:48.040322Z",
     "shell.execute_reply": "2022-08-11T19:55:48.039858Z"
    },
    "papermill": {
     "duration": 0.017023,
     "end_time": "2022-08-11T19:55:48.041641",
     "exception": false,
     "start_time": "2022-08-11T19:55:48.024618",
     "status": "completed"
    },
    "tags": [
     "parameters"
    ]
   },
   "outputs": [],
   "source": [
    "# Choose subset of L5PC mechanisms to run (all regional mechs get re-mapped to soma)\n",
    "mechanism_defs = dict(\n",
    "    all=['pas'],\n",
    "    somatic=['hh'])\n",
    "\n",
    "extra_params = dict(\n",
    "    v_init='global',\n",
    "    # celsius='global',\n",
    "    cm=['all'],\n",
    "    Ra=['all'],\n",
    "    g_pas=['all'],  # add 'pas' to mechs on all above\n",
    "    e_pas=['all'],  # add 'pas' to mechs on all above\n",
    ")\n",
    "\n",
    "param_values_json = None\n",
    "\n",
    "default_dt = 0.025\n",
    "\n",
    "fine_dt = 0.001\n",
    "\n",
    "voltage_residual_rel_l1_tolerance = 5e-2\n",
    "\n",
    "run_spike_time_analysis = True\n",
    "\n",
    "run_fine_dt = True"
   ]
  },
  {
   "cell_type": "code",
   "execution_count": 2,
   "id": "6fc7fabf",
   "metadata": {
    "execution": {
     "iopub.execute_input": "2022-08-11T19:55:48.057544Z",
     "iopub.status.busy": "2022-08-11T19:55:48.057307Z",
     "iopub.status.idle": "2022-08-11T19:55:48.060521Z",
     "shell.execute_reply": "2022-08-11T19:55:48.060109Z"
    },
    "papermill": {
     "duration": 0.011769,
     "end_time": "2022-08-11T19:55:48.061560",
     "exception": false,
     "start_time": "2022-08-11T19:55:48.049791",
     "status": "completed"
    },
    "tags": [
     "injected-parameters"
    ]
   },
   "outputs": [],
   "source": [
    "# Parameters\n",
    "mechanism_defs = {\"all\": [\"pas\"], \"somatic\": [\"CaDynamics_E2\", \"Ca_LVAst\"]}\n",
    "extra_params = {\n",
    "    \"v_init\": \"global\",\n",
    "    \"celsius\": \"global\",\n",
    "    \"g_pas\": [\"all\"],\n",
    "    \"e_pas\": [\"all\"],\n",
    "    \"cm\": [\"all\"],\n",
    "    \"Ra\": [\"all\"],\n",
    "}\n",
    "param_values_json = \"../../../BluePyOpt-utils/validation/all-regions/param_values.json\"\n",
    "default_dt = 0.025\n",
    "run_spike_time_analysis = False\n",
    "run_fine_dt = True\n",
    "voltage_residual_rel_l1_tolerance = 0.05\n"
   ]
  },
  {
   "cell_type": "code",
   "execution_count": 3,
   "id": "0810bfa6",
   "metadata": {
    "execution": {
     "iopub.execute_input": "2022-08-11T19:55:48.073221Z",
     "iopub.status.busy": "2022-08-11T19:55:48.073019Z",
     "iopub.status.idle": "2022-08-11T19:55:48.776349Z",
     "shell.execute_reply": "2022-08-11T19:55:48.775794Z"
    },
    "papermill": {
     "duration": 0.710759,
     "end_time": "2022-08-11T19:55:48.777872",
     "exception": false,
     "start_time": "2022-08-11T19:55:48.067113",
     "status": "completed"
    },
    "pycharm": {
     "name": "#%%\n"
    },
    "tags": []
   },
   "outputs": [],
   "source": [
    "%matplotlib inline\n",
    "import matplotlib.pyplot as plt\n",
    "%load_ext autoreload\n",
    "%autoreload"
   ]
  },
  {
   "cell_type": "markdown",
   "id": "959cdbe4",
   "metadata": {
    "papermill": {
     "duration": 0.007197,
     "end_time": "2022-08-11T19:55:48.790977",
     "exception": false,
     "start_time": "2022-08-11T19:55:48.783780",
     "status": "completed"
    },
    "pycharm": {
     "name": "#%% md\n"
    },
    "tags": []
   },
   "source": [
    "First we need to compile the L5PC mechanisms and import the module that contains all the functionality to create electrical cell models"
   ]
  },
  {
   "cell_type": "code",
   "execution_count": 4,
   "id": "e340edde",
   "metadata": {
    "execution": {
     "iopub.execute_input": "2022-08-11T19:55:48.804395Z",
     "iopub.status.busy": "2022-08-11T19:55:48.803816Z",
     "iopub.status.idle": "2022-08-11T19:55:49.543481Z",
     "shell.execute_reply": "2022-08-11T19:55:49.542793Z"
    },
    "papermill": {
     "duration": 0.747876,
     "end_time": "2022-08-11T19:55:49.544913",
     "exception": false,
     "start_time": "2022-08-11T19:55:48.797037",
     "status": "completed"
    },
    "pycharm": {
     "name": "#%%\n"
    },
    "tags": []
   },
   "outputs": [
    {
     "name": "stdout",
     "output_type": "stream",
     "text": [
      "/home/lukasd/src/arbor/dev/BluePyOpt/examples/l5pc\r\n",
      "Mod files: \"mechanisms/CaDynamics_E2.mod\" \"mechanisms/Ca_HVA.mod\" \"mechanisms/Ca_LVAst.mod\" \"mechanisms/Ih.mod\" \"mechanisms/Im.mod\" \"mechanisms/K_Pst.mod\" \"mechanisms/K_Tst.mod\" \"mechanisms/Nap_Et2.mod\" \"mechanisms/NaTa_t.mod\" \"mechanisms/NaTs2_t.mod\" \"mechanisms/SK_E2.mod\" \"mechanisms/SKv3_1.mod\"\r\n",
      "\r\n"
     ]
    },
    {
     "name": "stdout",
     "output_type": "stream",
     "text": [
      "COBJS=''\r\n",
      " -> \u001b[32mCompiling\u001b[0m mod_func.c\r\n",
      "x86_64-linux-gnu-gcc -O2   -I.   -I/home/lukasd/src/arbor/dev/venv/lib/python3.8/site-packages/neuron/.data/include  -I/nrnwheel/openmpi/include -fPIC -c mod_func.c -o mod_func.o\r\n"
     ]
    },
    {
     "name": "stdout",
     "output_type": "stream",
     "text": [
      " => \u001b[32mLINKING\u001b[0m shared library ./libnrnmech.so\r\n",
      "x86_64-linux-gnu-g++ -O2 -DVERSION_INFO='8.0.2' -std=c++11 -shared -fPIC  -I /home/lukasd/src/arbor/dev/venv/lib/python3.8/site-packages/neuron/.data/include -o ./libnrnmech.so -Wl,-soname,libnrnmech.so \\\r\n",
      "  ./mod_func.o ./CaDynamics_E2.o ./Ca_HVA.o ./Ca_LVAst.o ./Ih.o ./Im.o ./K_Pst.o ./K_Tst.o ./Nap_Et2.o ./NaTa_t.o ./NaTs2_t.o ./SK_E2.o ./SKv3_1.o  -L/home/lukasd/src/arbor/dev/venv/lib/python3.8/site-packages/neuron/.data/lib -lnrniv -Wl,-rpath,/home/lukasd/src/arbor/dev/venv/lib/python3.8/site-packages/neuron/.data/lib   \r\n"
     ]
    },
    {
     "name": "stdout",
     "output_type": "stream",
     "text": [
      "rm -f ./.libs/libnrnmech.so ; mkdir -p ./.libs ; cp ./libnrnmech.so ./.libs/libnrnmech.so\r\n",
      "Successfully created x86_64/special\r\n"
     ]
    }
   ],
   "source": [
    "!nrnivmodl mechanisms\n",
    "import bluepyopt as bpop\n",
    "import bluepyopt.ephys as ephys"
   ]
  },
  {
   "cell_type": "code",
   "execution_count": 5,
   "id": "db8e3bf9",
   "metadata": {
    "execution": {
     "iopub.execute_input": "2022-08-11T19:55:49.558622Z",
     "iopub.status.busy": "2022-08-11T19:55:49.558311Z",
     "iopub.status.idle": "2022-08-11T19:55:49.703557Z",
     "shell.execute_reply": "2022-08-11T19:55:49.703045Z"
    },
    "papermill": {
     "duration": 0.153895,
     "end_time": "2022-08-11T19:55:49.704965",
     "exception": false,
     "start_time": "2022-08-11T19:55:49.551070",
     "status": "completed"
    },
    "tags": []
   },
   "outputs": [],
   "source": [
    "import os\n",
    "import sys\n",
    "import tempfile\n",
    "from dataclasses import dataclass\n",
    "import typing\n",
    "import warnings\n",
    "import multiprocessing\n",
    "\n",
    "import numpy\n",
    "import pandas\n",
    "import scipy.integrate\n",
    "import scipy.interpolate\n",
    "\n",
    "import arbor\n",
    "\n",
    "from IPython.display import display"
   ]
  },
  {
   "cell_type": "markdown",
   "id": "01ba62c3",
   "metadata": {
    "papermill": {
     "duration": 0.00557,
     "end_time": "2022-08-11T19:55:49.717610",
     "exception": false,
     "start_time": "2022-08-11T19:55:49.712040",
     "status": "completed"
    },
    "pycharm": {
     "name": "#%% md\n"
    },
    "tags": []
   },
   "source": [
    "If you want to see a lot of information about the internals, \n",
    "the verbose level can be set to 'debug' by commenting out\n",
    "the following lines"
   ]
  },
  {
   "cell_type": "code",
   "execution_count": 6,
   "id": "2a7e1539",
   "metadata": {
    "execution": {
     "iopub.execute_input": "2022-08-11T19:55:49.730340Z",
     "iopub.status.busy": "2022-08-11T19:55:49.730063Z",
     "iopub.status.idle": "2022-08-11T19:55:49.733704Z",
     "shell.execute_reply": "2022-08-11T19:55:49.733284Z"
    },
    "papermill": {
     "duration": 0.011432,
     "end_time": "2022-08-11T19:55:49.734909",
     "exception": false,
     "start_time": "2022-08-11T19:55:49.723477",
     "status": "completed"
    },
    "pycharm": {
     "name": "#%%\n"
    },
    "tags": []
   },
   "outputs": [],
   "source": [
    "# import logging\n",
    "# logger = logging.getLogger()\n",
    "# logger.setLevel(logging.DEBUG)"
   ]
  },
  {
   "cell_type": "markdown",
   "id": "672b09be",
   "metadata": {
    "papermill": {
     "duration": 0.007746,
     "end_time": "2022-08-11T19:55:49.749136",
     "exception": false,
     "start_time": "2022-08-11T19:55:49.741390",
     "status": "completed"
    },
    "pycharm": {
     "name": "#%% md\n"
    },
    "tags": []
   },
   "source": [
    "## Setting up the cell model\n",
    "\n",
    "We use a single-compartimental cell model with the same morphology as in the `simplecell` example, but mechanisms from the `l5pc` model. They are instantiated with different options for axon replacement policy and (by default randomly sampled) mechanism parameter values."
   ]
  },
  {
   "cell_type": "code",
   "execution_count": 7,
   "id": "94fb803f",
   "metadata": {
    "collapsed": false,
    "execution": {
     "iopub.execute_input": "2022-08-11T19:55:49.762778Z",
     "iopub.status.busy": "2022-08-11T19:55:49.762548Z",
     "iopub.status.idle": "2022-08-11T19:55:49.766078Z",
     "shell.execute_reply": "2022-08-11T19:55:49.765386Z"
    },
    "jupyter": {
     "outputs_hidden": false
    },
    "papermill": {
     "duration": 0.011743,
     "end_time": "2022-08-11T19:55:49.767245",
     "exception": false,
     "start_time": "2022-08-11T19:55:49.755502",
     "status": "completed"
    },
    "pycharm": {
     "name": "#%%\n"
    },
    "tags": []
   },
   "outputs": [],
   "source": [
    "# parameter randomization\n",
    "import json\n",
    "import random\n",
    "\n",
    "# os.chdir('../../../BluePyOpt/examples/l5pc')\n",
    "import l5pc_model"
   ]
  },
  {
   "cell_type": "markdown",
   "id": "7b66d56a",
   "metadata": {
    "papermill": {
     "duration": 0.006416,
     "end_time": "2022-08-11T19:55:49.779705",
     "exception": false,
     "start_time": "2022-08-11T19:55:49.773289",
     "status": "completed"
    },
    "pycharm": {
     "name": "#%% md\n"
    },
    "tags": []
   },
   "source": [
    "## Creating the protocols\n",
    "\n",
    "A protocol consists of a set of stimuli and recordings. These responses will later be used to compare voltage traces from simulations between Arbor and Neuron for different parameter values and axon replacement configurations.\n",
    "\n",
    "For the protocols, we apply stimuli centrally at the soma and probe the membrane voltage at a slightly displaced location. For this purpose, we introduce locations in Arbor, which are specified by a relative position `pos` on a `branch` of the morphology."
   ]
  },
  {
   "cell_type": "code",
   "execution_count": 8,
   "id": "d8d661c6",
   "metadata": {
    "execution": {
     "iopub.execute_input": "2022-08-11T19:55:49.793764Z",
     "iopub.status.busy": "2022-08-11T19:55:49.793319Z",
     "iopub.status.idle": "2022-08-11T19:55:49.798832Z",
     "shell.execute_reply": "2022-08-11T19:55:49.798284Z"
    },
    "papermill": {
     "duration": 0.014164,
     "end_time": "2022-08-11T19:55:49.799982",
     "exception": false,
     "start_time": "2022-08-11T19:55:49.785818",
     "status": "completed"
    },
    "tags": []
   },
   "outputs": [],
   "source": [
    "# Arbor location\n",
    "class ArbLocation(ephys.locations.Location):\n",
    "    def __init__(self, name, branch, pos, comment=''):\n",
    "        super().__init__(_arb_label(name), comment)\n",
    "        self.branch = branch\n",
    "        self.pos = pos\n",
    "\n",
    "    def instantiate(self):\n",
    "        return _arb_unlabel(self.name), '(location %s %s)' % (self.branch, self.pos)\n",
    "\n",
    "\n",
    "# Helper functions\n",
    "def _arb_label(name):\n",
    "    return '\"%s\"' % name\n",
    "\n",
    "\n",
    "def _arb_unlabel(name):\n",
    "    return name[1:-1]\n",
    "\n",
    "\n",
    "# Make locations available to Arbor by instantiating them on the label dictionary \n",
    "def instantiate_locations(labels, locations):\n",
    "    labels.append(\n",
    "        arbor.label_dict(\n",
    "            dict([loc.instantiate() for loc in locations.values()])))\n",
    "\n",
    "\n",
    "# Define locations on branch 0 of the morphology (soma)\n",
    "arb_locations = dict(\n",
    "    stim_loc=ArbLocation(\n",
    "        name='stim_loc',\n",
    "        branch=0,\n",
    "        pos=0.5\n",
    "    ),\n",
    "    probe_loc=ArbLocation(\n",
    "        name='probe_loc',\n",
    "        branch=0,\n",
    "        pos=0.75\n",
    "    )\n",
    ")"
   ]
  },
  {
   "cell_type": "code",
   "execution_count": 9,
   "id": "a7efcb61",
   "metadata": {
    "execution": {
     "iopub.execute_input": "2022-08-11T19:55:49.813533Z",
     "iopub.status.busy": "2022-08-11T19:55:49.813264Z",
     "iopub.status.idle": "2022-08-11T19:55:49.816881Z",
     "shell.execute_reply": "2022-08-11T19:55:49.816431Z"
    },
    "papermill": {
     "duration": 0.012475,
     "end_time": "2022-08-11T19:55:49.817981",
     "exception": false,
     "start_time": "2022-08-11T19:55:49.805506",
     "status": "completed"
    },
    "pycharm": {
     "name": "#%%\n"
    },
    "tags": []
   },
   "outputs": [],
   "source": [
    "nrn_locations = dict(\n",
    "    stim_loc=ephys.locations.NrnSeclistCompLocation(\n",
    "        name='soma',\n",
    "        seclist_name='somatic',\n",
    "        sec_index=0,\n",
    "        comp_x=0.5),\n",
    "    probe_loc=ephys.locations.NrnSeclistCompLocation(\n",
    "        name='probe',\n",
    "        seclist_name='somatic',\n",
    "        sec_index=0,\n",
    "        comp_x=0.75)\n",
    ")"
   ]
  },
  {
   "cell_type": "markdown",
   "id": "a706a9b4",
   "metadata": {
    "papermill": {
     "duration": 0.005802,
     "end_time": "2022-08-11T19:55:49.830335",
     "exception": false,
     "start_time": "2022-08-11T19:55:49.824533",
     "status": "completed"
    },
    "pycharm": {
     "name": "#%% md\n"
    },
    "tags": []
   },
   "source": [
    "We use a modified version of the L5PC protocols with shortened stimulus duration and reduced amplitudes."
   ]
  },
  {
   "cell_type": "code",
   "execution_count": 10,
   "id": "b0ceba35",
   "metadata": {
    "execution": {
     "iopub.execute_input": "2022-08-11T19:55:49.844265Z",
     "iopub.status.busy": "2022-08-11T19:55:49.843993Z",
     "iopub.status.idle": "2022-08-11T19:55:49.848087Z",
     "shell.execute_reply": "2022-08-11T19:55:49.847564Z"
    },
    "papermill": {
     "duration": 0.012637,
     "end_time": "2022-08-11T19:55:49.849190",
     "exception": false,
     "start_time": "2022-08-11T19:55:49.836553",
     "status": "completed"
    },
    "tags": []
   },
   "outputs": [],
   "source": [
    "# Protocol prots configuration\n",
    "protocol_steps = []\n",
    "for name, amplitude, duration in [('bAP', 0.19, 5), ('Step1', 0.0458, 50), ('Step3', 0.095, 50)]:\n",
    "    protocol_steps.append(\n",
    "        dict(name=name,\n",
    "             total_duration=120,\n",
    "             stimuli=[\n",
    "                 dict(name='%s.iclamp' % name,\n",
    "                      location='stim_loc',\n",
    "                      amplitude=amplitude,\n",
    "                      delay=40,\n",
    "                      duration=duration)],\n",
    "             recordings=[\n",
    "                 dict(name='%s.soma.v' % name,\n",
    "                      location='probe_loc')]))"
   ]
  },
  {
   "cell_type": "markdown",
   "id": "4e679373",
   "metadata": {
    "papermill": {
     "duration": 0.006631,
     "end_time": "2022-08-11T19:55:49.862248",
     "exception": false,
     "start_time": "2022-08-11T19:55:49.855617",
     "status": "completed"
    },
    "tags": []
   },
   "source": [
    "The current stimuli, voltage and spike recordings are made available to Arbor by lazily instantiating them on decors/cell models."
   ]
  },
  {
   "cell_type": "code",
   "execution_count": 11,
   "id": "55da174b",
   "metadata": {
    "execution": {
     "iopub.execute_input": "2022-08-11T19:55:49.876417Z",
     "iopub.status.busy": "2022-08-11T19:55:49.876168Z",
     "iopub.status.idle": "2022-08-11T19:55:49.880841Z",
     "shell.execute_reply": "2022-08-11T19:55:49.880367Z"
    },
    "papermill": {
     "duration": 0.013711,
     "end_time": "2022-08-11T19:55:49.882046",
     "exception": false,
     "start_time": "2022-08-11T19:55:49.868335",
     "status": "completed"
    },
    "tags": []
   },
   "outputs": [],
   "source": [
    "# Current stimuli\n",
    "def instantiate_stimuli(decor, stimuli, locations):\n",
    "    for stim in stimuli:\n",
    "        decor.place(locations[stim['location']].name,\n",
    "                    arbor.iclamp(stim['delay'],\n",
    "                                 stim['duration'],\n",
    "                                 current=stim['amplitude']),\n",
    "                    stim['name'])\n",
    "\n",
    "# Spike detection with a voltage threshold of -10 mV\n",
    "# (different from spike_time observables in eFEL that measure 'peak_time')\n",
    "def instantiate_spike_recordings(decor, recordings, locations):\n",
    "    for i, rec in enumerate(recordings):\n",
    "        decor.place(locations[rec['location']].name,\n",
    "                    arbor.spike_detector(-10),\n",
    "                    'spike_detector' + '.%s' % i)\n",
    "\n",
    "# Attach voltage probe sampling at 10 kHz (every 0.1 ms).\n",
    "def instantiate_voltage_recordings(cell_model, recordings, locations):\n",
    "    for i, rec in enumerate(recordings):\n",
    "        # alternatively arbor.cable_probe_membrane_voltage\n",
    "        cell_model.probe('voltage',\n",
    "                         locations[rec['location']].name,\n",
    "                         frequency=10)"
   ]
  },
  {
   "cell_type": "markdown",
   "id": "6f60d434",
   "metadata": {
    "papermill": {
     "duration": 0.00614,
     "end_time": "2022-08-11T19:55:49.893694",
     "exception": false,
     "start_time": "2022-08-11T19:55:49.887554",
     "status": "completed"
    },
    "tags": []
   },
   "source": [
    "The protocols for Neuron are defined analogous to the L5PC model."
   ]
  },
  {
   "cell_type": "code",
   "execution_count": 12,
   "id": "74b18de7",
   "metadata": {
    "execution": {
     "iopub.execute_input": "2022-08-11T19:55:49.906699Z",
     "iopub.status.busy": "2022-08-11T19:55:49.906381Z",
     "iopub.status.idle": "2022-08-11T19:55:49.911153Z",
     "shell.execute_reply": "2022-08-11T19:55:49.910665Z"
    },
    "papermill": {
     "duration": 0.012876,
     "end_time": "2022-08-11T19:55:49.912339",
     "exception": false,
     "start_time": "2022-08-11T19:55:49.899463",
     "status": "completed"
    },
    "pycharm": {
     "name": "#%%\n"
    },
    "tags": []
   },
   "outputs": [],
   "source": [
    "sweep_protocols = []\n",
    "for prot_def in protocol_steps:\n",
    "    stims = []\n",
    "    for stim in prot_def['stimuli']:\n",
    "        stims.append(ephys.stimuli.NrnSquarePulse(step_amplitude=stim['amplitude'],\n",
    "                                                  step_delay=stim['delay'],\n",
    "                                                  step_duration=stim['duration'],\n",
    "                                                  location=nrn_locations[stim['location']],\n",
    "                                                  total_duration=prot_def['total_duration']))\n",
    "\n",
    "    recs = []\n",
    "    for rec in prot_def['recordings']:\n",
    "        recs.append(ephys.recordings.CompRecording(\n",
    "                    name=rec['name'],\n",
    "                    location=nrn_locations[rec['location']],\n",
    "                    variable='v'))\n",
    "\n",
    "    protocol = ephys.protocols.SweepProtocol(prot_def['name'], stims, recs)\n",
    "    sweep_protocols.append(protocol)\n",
    "\n",
    "nrn_protocol = ephys.protocols.SequenceProtocol('multistep', protocols=sweep_protocols)"
   ]
  },
  {
   "cell_type": "markdown",
   "id": "02d8fabf",
   "metadata": {
    "papermill": {
     "duration": 0.00618,
     "end_time": "2022-08-11T19:55:49.924086",
     "exception": false,
     "start_time": "2022-08-11T19:55:49.917906",
     "status": "completed"
    },
    "pycharm": {
     "name": "#%% md\n"
    },
    "tags": []
   },
   "source": [
    "## Running a protocol on an Arbor cable cell\n",
    "\n",
    "To run a protocol in Arbor, we need to export the cell model to a mixed JSON/ACC-format and assemble an Arbor cable cell on which we instantiate the locations, protocol stimuli and recordings. We use this cell to build a `single_cell_model` that sets up the constituents of an Arbor simulation and enables running a sweep protocol.\n",
    "\n",
    "To run the protocols also with Neuron, we follow the standard flow by creating a simulator object."
   ]
  },
  {
   "cell_type": "code",
   "execution_count": 13,
   "id": "194ff070",
   "metadata": {
    "execution": {
     "iopub.execute_input": "2022-08-11T19:55:49.938876Z",
     "iopub.status.busy": "2022-08-11T19:55:49.938575Z",
     "iopub.status.idle": "2022-08-11T19:55:49.948451Z",
     "shell.execute_reply": "2022-08-11T19:55:49.947931Z"
    },
    "papermill": {
     "duration": 0.019842,
     "end_time": "2022-08-11T19:55:49.950245",
     "exception": false,
     "start_time": "2022-08-11T19:55:49.930403",
     "status": "completed"
    },
    "tags": []
   },
   "outputs": [],
   "source": [
    "class ArbSequenceProtocol(ephys.protocols.Protocol):\n",
    "    '''Run multiple sweep protocol steps and extract voltage traces/detected spikes'''\n",
    "\n",
    "    def __init__(self, name, protocols, locations):\n",
    "        super().__init__(name)\n",
    "        self.protocols = protocols\n",
    "        self.locations = locations\n",
    "\n",
    "    @staticmethod\n",
    "    def run_sweep_protocol(prot_def, locations, cell, params, dt):\n",
    "        '''Write cell model to ACC/JSON and run sweep protocol step'''\n",
    "        # Export cell model to mixed JSON/ACC-format\n",
    "        with tempfile.TemporaryDirectory() as acc_dir:\n",
    "            ephys.create_acc.output_acc(acc_dir, cell, params)\n",
    "            cell_json, morph, labels, decor = \\\n",
    "                ephys.create_acc.read_acc(\n",
    "                    os.path.join(acc_dir, cell.name + '.json'))\n",
    "\n",
    "        # Instantiate protocols on cable cell components\n",
    "        instantiate_locations(labels, locations)\n",
    "        instantiate_stimuli(decor, prot_def['stimuli'], locations)\n",
    "        instantiate_spike_recordings(decor, prot_def['recordings'], locations)\n",
    "        \n",
    "        # Create cable cell\n",
    "        cable_cell = arbor.cable_cell(morph, labels, decor)\n",
    "        # can output and visualize the cable cell in the Arbor GUI using\n",
    "        # arbor.write_component(cable_cell, '<filename>.acc')\n",
    "\n",
    "        # Create single cell model\n",
    "        arb_cell_model = arbor.single_cell_model(cable_cell)\n",
    "\n",
    "        # Add catalogues with explicit qualifiers\n",
    "        arb_cell_model.properties.catalogue = arbor.catalogue()\n",
    "        arb_cell_model.properties.catalogue.extend(\n",
    "            arbor.default_catalogue(), \"default::\")\n",
    "        arb_cell_model.properties.catalogue.extend(\n",
    "            arbor.bbp_catalogue(), \"BBP::\")\n",
    "    \n",
    "        # Instantiate remaining voltage recording\n",
    "        instantiate_voltage_recordings(arb_cell_model, prot_def['recordings'], locations)\n",
    "\n",
    "        # Run the simulation for the protocol step\n",
    "        arb_cell_model.run(tfinal=prot_def['total_duration'], dt=dt)\n",
    "\n",
    "        # Collect results\n",
    "        arb_resp = dict()\n",
    "        for i, rec in enumerate(prot_def['recordings']):\n",
    "            arb_resp[rec['name']] = \\\n",
    "                dict(time=arb_cell_model.traces[i].time,\n",
    "                     voltage=arb_cell_model.traces[i].value,\n",
    "                     spikes=arb_cell_model.spikes)  # TODO: handle global callback\n",
    "\n",
    "        return arb_resp\n",
    "\n",
    "\n",
    "    def run(self, cell_model, params, dt):\n",
    "        arb_resp = dict()\n",
    "        for prot_def in self.protocols:\n",
    "            arb_resp.update(self.run_sweep_protocol(\n",
    "                prot_def, self.locations, cell_model, params, dt))\n",
    "        return arb_resp\n",
    "\n",
    "\n",
    "arb_protocol = ArbSequenceProtocol('multistep', protocol_steps, arb_locations)"
   ]
  },
  {
   "cell_type": "markdown",
   "id": "49bce87d",
   "metadata": {
    "papermill": {
     "duration": 0.012632,
     "end_time": "2022-08-11T19:55:49.979630",
     "exception": false,
     "start_time": "2022-08-11T19:55:49.966998",
     "status": "completed"
    },
    "tags": []
   },
   "source": [
    "## Cross-validation of Arbor and Neuron voltage traces\n",
    "\n",
    "To validate Arbor's simulation output with that of Neuron, we run the protocols over a set of parameter values, either loaded from a JSON-file or randomly sampled from the parameter bounds (using `random.uniform(*bounds)`) and both with and without axon replacement.\n",
    "\n",
    "First, we gather L5PC mechanisms and parameters according to `mechanism_defs` and `extra_params` in the top cell of this notebook."
   ]
  },
  {
   "cell_type": "code",
   "execution_count": 14,
   "id": "f19caa49",
   "metadata": {
    "execution": {
     "iopub.execute_input": "2022-08-11T19:55:49.997718Z",
     "iopub.status.busy": "2022-08-11T19:55:49.997343Z",
     "iopub.status.idle": "2022-08-11T19:55:50.018539Z",
     "shell.execute_reply": "2022-08-11T19:55:50.017830Z"
    },
    "papermill": {
     "duration": 0.032163,
     "end_time": "2022-08-11T19:55:50.019972",
     "exception": false,
     "start_time": "2022-08-11T19:55:49.987809",
     "status": "completed"
    },
    "tags": []
   },
   "outputs": [
    {
     "data": {
      "text/plain": [
       "['g_pas.all',\n",
       " 'e_pas.all',\n",
       " 'cm.all',\n",
       " 'Ra.all',\n",
       " 'v_init',\n",
       " 'celsius',\n",
       " 'gCa_LVAstbar_Ca_LVAst.somatic',\n",
       " 'gamma_CaDynamics_E2.somatic',\n",
       " 'decay_CaDynamics_E2.somatic']"
      ]
     },
     "execution_count": 14,
     "metadata": {},
     "output_type": "execute_result"
    }
   ],
   "source": [
    "mechanisms = l5pc_model.create_mechanisms(\n",
    "    dict(all=mechanism_defs['all'],\n",
    "         somatic=[mech for loc, mechs in mechanism_defs.items() \n",
    "                  if loc != 'all' for mech in mechs]))\n",
    "\n",
    "l5pc_param_configs = l5pc_model.load_parameters()\n",
    "l5pc_param_names = []\n",
    "for p in l5pc_param_configs:\n",
    "    if 'mech' in p and p['mech'] in mechanism_defs.get(p['sectionlist'], []):\n",
    "        l5pc_param_names.append(p['param_name'] + '.' + p['sectionlist'])\n",
    "\n",
    "param_configs = []\n",
    "for p in l5pc_param_configs:\n",
    "    if 'mech' not in p:\n",
    "        if p['param_name'] in extra_params and (p['type'] == 'global' or \\\n",
    "            p['sectionlist'] in extra_params[p['param_name']]):\n",
    "            if p['type'] != 'global' and p['sectionlist'] != 'all':\n",
    "                p['sectionlist'] = 'somatic'  # remap to soma\n",
    "            param_configs.append(p)\n",
    "\n",
    "    elif p['mech'] in mechanism_defs.get(p['sectionlist'], []):\n",
    "        p['sectionlist'] = 'somatic'  # remap to soma\n",
    "        param_configs.append(p)\n",
    "\n",
    "if 'somatic' in mechanism_defs and 'hh' in mechanism_defs['somatic']:\n",
    "    for param_name, bounds in [('gnabar', (0.05, 0.125)),\n",
    "                               ('gkbar', (0.01, 0.075))]:\n",
    "        param_configs.append({\n",
    "            \"param_name\": param_name + \"_hh\",\n",
    "            \"mech\": \"hh\",\n",
    "            \"bounds\": bounds,\n",
    "            \"dist_type\": \"uniform\",\n",
    "            \"type\": \"range\",\n",
    "            \"sectionlist\": \"somatic\"\n",
    "        })\n",
    "\n",
    "parameters = l5pc_model.create_parameters(param_configs)\n",
    "\n",
    "# Print the names of all parameters\n",
    "[p.name for p in parameters]"
   ]
  },
  {
   "cell_type": "markdown",
   "id": "e57fb7fc",
   "metadata": {
    "papermill": {
     "duration": 0.005976,
     "end_time": "2022-08-11T19:55:50.035518",
     "exception": false,
     "start_time": "2022-08-11T19:55:50.029542",
     "status": "completed"
    },
    "tags": []
   },
   "source": [
    "We either randomly sample or read the values of non-frozen parameters from a file."
   ]
  },
  {
   "cell_type": "code",
   "execution_count": 15,
   "id": "e8ff8a75",
   "metadata": {
    "execution": {
     "iopub.execute_input": "2022-08-11T19:55:50.055689Z",
     "iopub.status.busy": "2022-08-11T19:55:50.055330Z",
     "iopub.status.idle": "2022-08-11T19:55:50.071256Z",
     "shell.execute_reply": "2022-08-11T19:55:50.070256Z"
    },
    "papermill": {
     "duration": 0.029756,
     "end_time": "2022-08-11T19:55:50.072660",
     "exception": false,
     "start_time": "2022-08-11T19:55:50.042904",
     "status": "completed"
    },
    "tags": []
   },
   "outputs": [
    {
     "data": {
      "text/plain": [
       "[{'gCa_LVAstbar_Ca_LVAst.somatic': 0.009174429529563266,\n",
       "  'gamma_CaDynamics_E2.somatic': 0.027960597482048176,\n",
       "  'decay_CaDynamics_E2.somatic': 381.4416772207213},\n",
       " {'gCa_LVAstbar_Ca_LVAst.somatic': 0.007648580134779592,\n",
       "  'gamma_CaDynamics_E2.somatic': 0.014976684838003492,\n",
       "  'decay_CaDynamics_E2.somatic': 602.4352635587935},\n",
       " {'gCa_LVAstbar_Ca_LVAst.somatic': 0.0053966823418256735,\n",
       "  'gamma_CaDynamics_E2.somatic': 0.015470883608160856,\n",
       "  'decay_CaDynamics_E2.somatic': 620.4067606171445},\n",
       " {'gCa_LVAstbar_Ca_LVAst.somatic': 0.008464495942786006,\n",
       "  'gamma_CaDynamics_E2.somatic': 0.010000653456299285,\n",
       "  'decay_CaDynamics_E2.somatic': 229.07443122278437},\n",
       " {'gCa_LVAstbar_Ca_LVAst.somatic': 0.004134372571062599,\n",
       "  'gamma_CaDynamics_E2.somatic': 0.02080564802090215,\n",
       "  'decay_CaDynamics_E2.somatic': 680.8593966636764}]"
      ]
     },
     "execution_count": 15,
     "metadata": {},
     "output_type": "execute_result"
    }
   ],
   "source": [
    "if not hasattr(arbor, \"prune_tag\"):  # skip axon replacement if not yet supported\n",
    "    replace_axon = [False]\n",
    "else:\n",
    "    replace_axon = [False, True]\n",
    "\n",
    "non_frozen_parameters = [param for param in parameters if not param.frozen]\n",
    "param_names = [param.name for param in non_frozen_parameters]\n",
    "\n",
    "if param_values_json is not None:\n",
    "    with open(param_values_json) as f:\n",
    "        params = []\n",
    "        for param_sample in json.load(f):\n",
    "            ps = dict()\n",
    "            for p_name, p_value in param_sample.items():\n",
    "                if p_name in l5pc_param_names:\n",
    "                    ps[p_name.split('.')[0] + '.somatic'] = p_value\n",
    "            params.append(ps)\n",
    "else:\n",
    "    params = [{param.name: random.uniform(*param.bounds)\n",
    "               for param in non_frozen_parameters}\n",
    "               for i in range(10)]\n",
    "params"
   ]
  },
  {
   "cell_type": "markdown",
   "id": "1a61a733",
   "metadata": {
    "papermill": {
     "duration": 0.01091,
     "end_time": "2022-08-11T19:55:50.091100",
     "exception": false,
     "start_time": "2022-08-11T19:55:50.080190",
     "status": "completed"
    },
    "tags": []
   },
   "source": [
    " We use a factory to create cell models with different configurations. This enables us to run both Arbor and Neuron simulations for the defined sequence protocols and each combination of axon replacement and parameter values..."
   ]
  },
  {
   "cell_type": "code",
   "execution_count": 16,
   "id": "4b93b546",
   "metadata": {
    "execution": {
     "iopub.execute_input": "2022-08-11T19:55:50.107743Z",
     "iopub.status.busy": "2022-08-11T19:55:50.107213Z",
     "iopub.status.idle": "2022-08-11T19:55:55.496399Z",
     "shell.execute_reply": "2022-08-11T19:55:55.491676Z"
    },
    "papermill": {
     "duration": 5.406329,
     "end_time": "2022-08-11T19:55:55.504717",
     "exception": false,
     "start_time": "2022-08-11T19:55:50.098388",
     "status": "completed"
    },
    "tags": []
   },
   "outputs": [
    {
     "name": "stdout",
     "output_type": "stream",
     "text": [
      "CVode 0x2f4fce0 simple_cell[0].soma[0] advance_tn failed, err=-7.\n"
     ]
    },
    {
     "name": "stderr",
     "output_type": "stream",
     "text": [
      "NEURON: variable step integrator error\n"
     ]
    },
    {
     "name": "stderr",
     "output_type": "stream",
     "text": [
      " near line 0\n"
     ]
    },
    {
     "name": "stderr",
     "output_type": "stream",
     "text": [
      " }\n"
     ]
    },
    {
     "name": "stderr",
     "output_type": "stream",
     "text": [
      " "
     ]
    },
    {
     "name": "stderr",
     "output_type": "stream",
     "text": [
      " "
     ]
    },
    {
     "name": "stderr",
     "output_type": "stream",
     "text": [
      "^\n"
     ]
    },
    {
     "name": "stderr",
     "output_type": "stream",
     "text": [
      "  "
     ]
    },
    {
     "name": "stderr",
     "output_type": "stream",
     "text": [
      "  "
     ]
    },
    {
     "name": "stderr",
     "output_type": "stream",
     "text": [
      "  "
     ]
    },
    {
     "name": "stderr",
     "output_type": "stream",
     "text": [
      "  "
     ]
    },
    {
     "name": "stderr",
     "output_type": "stream",
     "text": [
      "fadvance("
     ]
    },
    {
     "name": "stderr",
     "output_type": "stream",
     "text": [
      ")\n"
     ]
    },
    {
     "name": "stderr",
     "output_type": "stream",
     "text": [
      "  "
     ]
    },
    {
     "name": "stderr",
     "output_type": "stream",
     "text": [
      "  "
     ]
    },
    {
     "name": "stderr",
     "output_type": "stream",
     "text": [
      "  "
     ]
    },
    {
     "name": "stderr",
     "output_type": "stream",
     "text": [
      "advance("
     ]
    },
    {
     "name": "stderr",
     "output_type": "stream",
     "text": [
      ")\n"
     ]
    },
    {
     "name": "stderr",
     "output_type": "stream",
     "text": [
      "  "
     ]
    },
    {
     "name": "stderr",
     "output_type": "stream",
     "text": [
      "  "
     ]
    },
    {
     "name": "stderr",
     "output_type": "stream",
     "text": [
      "step("
     ]
    },
    {
     "name": "stderr",
     "output_type": "stream",
     "text": [
      ")\n"
     ]
    },
    {
     "name": "stderr",
     "output_type": "stream",
     "text": [
      "  "
     ]
    },
    {
     "name": "stderr",
     "output_type": "stream",
     "text": [
      "continuerun("
     ]
    },
    {
     "name": "stderr",
     "output_type": "stream",
     "text": [
      "120"
     ]
    },
    {
     "name": "stderr",
     "output_type": "stream",
     "text": [
      ")\n"
     ]
    },
    {
     "name": "stderr",
     "output_type": "stream",
     "text": [
      "and others\n"
     ]
    },
    {
     "name": "stderr",
     "output_type": "stream",
     "text": [
      "exp(995.505) out of range, returning exp(700)\n",
      "exp(786.332) out of range, returning exp(700)\n",
      "exp(713.218) out of range, returning exp(700)\n",
      "exp(995.505) out of range, returning exp(700)\n",
      "No more errno warnings during this execution\n",
      "CVode-- At t = 54.5324 and h = 9.08686e-09, the corrector\n",
      "convergence failed repeatedly or with |h| = hmin.\n",
      "\n"
     ]
    },
    {
     "name": "stdout",
     "output_type": "stream",
     "text": [
      "CVode 0x2f4fce0 simple_cell[0].soma[0] advance_tn failed, err=-7.\n"
     ]
    },
    {
     "name": "stderr",
     "output_type": "stream",
     "text": [
      "NEURON: variable step integrator error\n"
     ]
    },
    {
     "name": "stderr",
     "output_type": "stream",
     "text": [
      " near line 0\n"
     ]
    },
    {
     "name": "stderr",
     "output_type": "stream",
     "text": [
      " }\n"
     ]
    },
    {
     "name": "stderr",
     "output_type": "stream",
     "text": [
      " "
     ]
    },
    {
     "name": "stderr",
     "output_type": "stream",
     "text": [
      " "
     ]
    },
    {
     "name": "stderr",
     "output_type": "stream",
     "text": [
      "^\n"
     ]
    },
    {
     "name": "stderr",
     "output_type": "stream",
     "text": [
      "  "
     ]
    },
    {
     "name": "stderr",
     "output_type": "stream",
     "text": [
      "  "
     ]
    },
    {
     "name": "stderr",
     "output_type": "stream",
     "text": [
      "  "
     ]
    },
    {
     "name": "stderr",
     "output_type": "stream",
     "text": [
      "  "
     ]
    },
    {
     "name": "stderr",
     "output_type": "stream",
     "text": [
      "fadvance("
     ]
    },
    {
     "name": "stderr",
     "output_type": "stream",
     "text": [
      ")\n"
     ]
    },
    {
     "name": "stderr",
     "output_type": "stream",
     "text": [
      "  "
     ]
    },
    {
     "name": "stderr",
     "output_type": "stream",
     "text": [
      "  "
     ]
    },
    {
     "name": "stderr",
     "output_type": "stream",
     "text": [
      "  "
     ]
    },
    {
     "name": "stderr",
     "output_type": "stream",
     "text": [
      "advance("
     ]
    },
    {
     "name": "stderr",
     "output_type": "stream",
     "text": [
      ")\n"
     ]
    },
    {
     "name": "stderr",
     "output_type": "stream",
     "text": [
      "  "
     ]
    },
    {
     "name": "stderr",
     "output_type": "stream",
     "text": [
      "  "
     ]
    },
    {
     "name": "stderr",
     "output_type": "stream",
     "text": [
      "step("
     ]
    },
    {
     "name": "stderr",
     "output_type": "stream",
     "text": [
      ")\n"
     ]
    },
    {
     "name": "stderr",
     "output_type": "stream",
     "text": [
      "  "
     ]
    },
    {
     "name": "stderr",
     "output_type": "stream",
     "text": [
      "continuerun("
     ]
    },
    {
     "name": "stderr",
     "output_type": "stream",
     "text": [
      "120"
     ]
    },
    {
     "name": "stderr",
     "output_type": "stream",
     "text": [
      ")\n"
     ]
    },
    {
     "name": "stderr",
     "output_type": "stream",
     "text": [
      "and others\n"
     ]
    },
    {
     "name": "stderr",
     "output_type": "stream",
     "text": [
      "CVode-- At t = 55.0141 and h = 1.75308e-08, the corrector\n",
      "convergence failed repeatedly or with |h| = hmin.\n",
      "\n"
     ]
    },
    {
     "name": "stdout",
     "output_type": "stream",
     "text": [
      "CVode 0x2f4fce0 simple_cell[0].soma[0] advance_tn failed, err=-7.\n"
     ]
    },
    {
     "name": "stderr",
     "output_type": "stream",
     "text": [
      "NEURON: variable step integrator error\n"
     ]
    },
    {
     "name": "stderr",
     "output_type": "stream",
     "text": [
      " near line 0\n"
     ]
    },
    {
     "name": "stderr",
     "output_type": "stream",
     "text": [
      " }\n"
     ]
    },
    {
     "name": "stderr",
     "output_type": "stream",
     "text": [
      " "
     ]
    },
    {
     "name": "stderr",
     "output_type": "stream",
     "text": [
      " "
     ]
    },
    {
     "name": "stderr",
     "output_type": "stream",
     "text": [
      "^\n"
     ]
    },
    {
     "name": "stderr",
     "output_type": "stream",
     "text": [
      "  "
     ]
    },
    {
     "name": "stderr",
     "output_type": "stream",
     "text": [
      "  "
     ]
    },
    {
     "name": "stderr",
     "output_type": "stream",
     "text": [
      "  "
     ]
    },
    {
     "name": "stderr",
     "output_type": "stream",
     "text": [
      "  "
     ]
    },
    {
     "name": "stderr",
     "output_type": "stream",
     "text": [
      "fadvance("
     ]
    },
    {
     "name": "stderr",
     "output_type": "stream",
     "text": [
      ")\n"
     ]
    },
    {
     "name": "stderr",
     "output_type": "stream",
     "text": [
      "  "
     ]
    },
    {
     "name": "stderr",
     "output_type": "stream",
     "text": [
      "  "
     ]
    },
    {
     "name": "stderr",
     "output_type": "stream",
     "text": [
      "  "
     ]
    },
    {
     "name": "stderr",
     "output_type": "stream",
     "text": [
      "advance("
     ]
    },
    {
     "name": "stderr",
     "output_type": "stream",
     "text": [
      ")\n"
     ]
    },
    {
     "name": "stderr",
     "output_type": "stream",
     "text": [
      "  "
     ]
    },
    {
     "name": "stderr",
     "output_type": "stream",
     "text": [
      "  "
     ]
    },
    {
     "name": "stderr",
     "output_type": "stream",
     "text": [
      "step("
     ]
    },
    {
     "name": "stderr",
     "output_type": "stream",
     "text": [
      ")\n"
     ]
    },
    {
     "name": "stderr",
     "output_type": "stream",
     "text": [
      "  "
     ]
    },
    {
     "name": "stderr",
     "output_type": "stream",
     "text": [
      "continuerun("
     ]
    },
    {
     "name": "stderr",
     "output_type": "stream",
     "text": [
      "120"
     ]
    },
    {
     "name": "stderr",
     "output_type": "stream",
     "text": [
      ")\n"
     ]
    },
    {
     "name": "stderr",
     "output_type": "stream",
     "text": [
      "and others\n"
     ]
    },
    {
     "name": "stderr",
     "output_type": "stream",
     "text": [
      "CVode-- At t = 54.604 and h = 6.62496e-08, the corrector\n",
      "convergence failed repeatedly or with |h| = hmin.\n",
      "\n"
     ]
    },
    {
     "name": "stdout",
     "output_type": "stream",
     "text": [
      "CVode 0x2f4fce0 simple_cell[0].soma[0] advance_tn failed, err=-7.\n"
     ]
    },
    {
     "name": "stderr",
     "output_type": "stream",
     "text": [
      "NEURON: variable step integrator error\n"
     ]
    },
    {
     "name": "stderr",
     "output_type": "stream",
     "text": [
      " near line 0\n"
     ]
    },
    {
     "name": "stderr",
     "output_type": "stream",
     "text": [
      " }\n"
     ]
    },
    {
     "name": "stderr",
     "output_type": "stream",
     "text": [
      " "
     ]
    },
    {
     "name": "stderr",
     "output_type": "stream",
     "text": [
      " "
     ]
    },
    {
     "name": "stderr",
     "output_type": "stream",
     "text": [
      "^\n"
     ]
    },
    {
     "name": "stderr",
     "output_type": "stream",
     "text": [
      "  "
     ]
    },
    {
     "name": "stderr",
     "output_type": "stream",
     "text": [
      "  "
     ]
    },
    {
     "name": "stderr",
     "output_type": "stream",
     "text": [
      "  "
     ]
    },
    {
     "name": "stderr",
     "output_type": "stream",
     "text": [
      "  "
     ]
    },
    {
     "name": "stderr",
     "output_type": "stream",
     "text": [
      "fadvance("
     ]
    },
    {
     "name": "stderr",
     "output_type": "stream",
     "text": [
      ")\n"
     ]
    },
    {
     "name": "stderr",
     "output_type": "stream",
     "text": [
      "  "
     ]
    },
    {
     "name": "stderr",
     "output_type": "stream",
     "text": [
      "  "
     ]
    },
    {
     "name": "stderr",
     "output_type": "stream",
     "text": [
      "  "
     ]
    },
    {
     "name": "stderr",
     "output_type": "stream",
     "text": [
      "advance("
     ]
    },
    {
     "name": "stderr",
     "output_type": "stream",
     "text": [
      ")\n"
     ]
    },
    {
     "name": "stderr",
     "output_type": "stream",
     "text": [
      "  "
     ]
    },
    {
     "name": "stderr",
     "output_type": "stream",
     "text": [
      "  "
     ]
    },
    {
     "name": "stderr",
     "output_type": "stream",
     "text": [
      "step("
     ]
    },
    {
     "name": "stderr",
     "output_type": "stream",
     "text": [
      ")\n"
     ]
    },
    {
     "name": "stderr",
     "output_type": "stream",
     "text": [
      "  "
     ]
    },
    {
     "name": "stderr",
     "output_type": "stream",
     "text": [
      "continuerun("
     ]
    },
    {
     "name": "stderr",
     "output_type": "stream",
     "text": [
      "120"
     ]
    },
    {
     "name": "stderr",
     "output_type": "stream",
     "text": [
      ")\n"
     ]
    },
    {
     "name": "stderr",
     "output_type": "stream",
     "text": [
      "and others\n"
     ]
    },
    {
     "name": "stderr",
     "output_type": "stream",
     "text": [
      "exp(1628.51) out of range, returning exp(700)\n",
      "exp(1280.87) out of range, returning exp(700)\n",
      "exp(1165.37) out of range, returning exp(700)\n",
      "exp(1628.51) out of range, returning exp(700)\n",
      "No more errno warnings during this execution\n",
      "CVode-- At t = 55.878 and h = 2.53286e-08, the corrector\n",
      "convergence failed repeatedly or with |h| = hmin.\n",
      "\n"
     ]
    },
    {
     "name": "stdout",
     "output_type": "stream",
     "text": [
      "CVode 0x2f4fce0 simple_cell[0].soma[0] advance_tn failed, err=-7.\n"
     ]
    },
    {
     "name": "stderr",
     "output_type": "stream",
     "text": [
      "NEURON: variable step integrator error\n"
     ]
    },
    {
     "name": "stderr",
     "output_type": "stream",
     "text": [
      " near line 0\n"
     ]
    },
    {
     "name": "stderr",
     "output_type": "stream",
     "text": [
      " }\n"
     ]
    },
    {
     "name": "stderr",
     "output_type": "stream",
     "text": [
      " "
     ]
    },
    {
     "name": "stderr",
     "output_type": "stream",
     "text": [
      " "
     ]
    },
    {
     "name": "stderr",
     "output_type": "stream",
     "text": [
      "^\n"
     ]
    },
    {
     "name": "stderr",
     "output_type": "stream",
     "text": [
      "  "
     ]
    },
    {
     "name": "stderr",
     "output_type": "stream",
     "text": [
      "  "
     ]
    },
    {
     "name": "stderr",
     "output_type": "stream",
     "text": [
      "  "
     ]
    },
    {
     "name": "stderr",
     "output_type": "stream",
     "text": [
      "  "
     ]
    },
    {
     "name": "stderr",
     "output_type": "stream",
     "text": [
      "fadvance("
     ]
    },
    {
     "name": "stderr",
     "output_type": "stream",
     "text": [
      ")\n"
     ]
    },
    {
     "name": "stderr",
     "output_type": "stream",
     "text": [
      "  "
     ]
    },
    {
     "name": "stderr",
     "output_type": "stream",
     "text": [
      "  "
     ]
    },
    {
     "name": "stderr",
     "output_type": "stream",
     "text": [
      "  "
     ]
    },
    {
     "name": "stderr",
     "output_type": "stream",
     "text": [
      "advance("
     ]
    },
    {
     "name": "stderr",
     "output_type": "stream",
     "text": [
      ")\n"
     ]
    },
    {
     "name": "stderr",
     "output_type": "stream",
     "text": [
      "  "
     ]
    },
    {
     "name": "stderr",
     "output_type": "stream",
     "text": [
      "  "
     ]
    },
    {
     "name": "stderr",
     "output_type": "stream",
     "text": [
      "step("
     ]
    },
    {
     "name": "stderr",
     "output_type": "stream",
     "text": [
      ")\n"
     ]
    },
    {
     "name": "stderr",
     "output_type": "stream",
     "text": [
      "  "
     ]
    },
    {
     "name": "stderr",
     "output_type": "stream",
     "text": [
      "continuerun("
     ]
    },
    {
     "name": "stderr",
     "output_type": "stream",
     "text": [
      "120"
     ]
    },
    {
     "name": "stderr",
     "output_type": "stream",
     "text": [
      ")\n"
     ]
    },
    {
     "name": "stderr",
     "output_type": "stream",
     "text": [
      "and others\n"
     ]
    },
    {
     "name": "stderr",
     "output_type": "stream",
     "text": [
      "CVode-- At t = 54.7729 and h = 2.56052e-08, the corrector\n",
      "convergence failed repeatedly or with |h| = hmin.\n",
      "\n"
     ]
    }
   ],
   "source": [
    "@dataclass\n",
    "class CellModelFactory:\n",
    "    mechanisms: typing.List[ephys.mechanisms.NrnMODMechanism]\n",
    "    parameters: typing.List[ephys.parameters.NrnParameter]\n",
    "\n",
    "    def create_cell_model(self, do_replace_axon):\n",
    "\n",
    "        morphology = ephys.morphologies.NrnFileMorphology(\n",
    "            '../simplecell/simple.swc', do_replace_axon=do_replace_axon)\n",
    "\n",
    "        return ephys.models.CellModel(\n",
    "            'simple_cell',\n",
    "            morph=morphology,\n",
    "            mechs=self.mechanisms,\n",
    "            params=self.parameters)\n",
    "\n",
    "@dataclass\n",
    "class SimulationRunner:\n",
    "    cell_factory: CellModelFactory\n",
    "    arb_protocol: ArbSequenceProtocol\n",
    "    nrn_protocol: ephys.protocols.SequenceProtocol\n",
    "\n",
    "    def run_all(self, replace_axon_policies, param_list, dt=0.025):\n",
    "        arb_resp = dict()\n",
    "        nrn_resp = dict()\n",
    "\n",
    "        nrn_sim = ephys.simulators.NrnSimulator(dt=dt)\n",
    "\n",
    "        for do_replace_axon in replace_axon_policies:\n",
    "            for param_i in range(len(param_list)):\n",
    "\n",
    "                cell_model = self.cell_factory.create_cell_model(do_replace_axon=do_replace_axon)\n",
    "\n",
    "                # calculate morphology with axon-replacement in Neuron\n",
    "                cell_model.instantiate_morphology(nrn_sim)\n",
    "\n",
    "                key = (do_replace_axon, param_i)\n",
    "                arb_resp[key] = self.arb_protocol.run(cell_model, param_list[param_i], dt=dt)\n",
    "\n",
    "                # need to destroy instantiated cell model first to avoid Hoc serialization error\n",
    "                cell_model.destroy(sim=nrn_sim)\n",
    "\n",
    "                nrn_resp[key] = self.nrn_protocol.run(cell_model, param_list[param_i], nrn_sim)\n",
    "        return arb_resp, nrn_resp\n",
    "\n",
    "\n",
    "cell_factory = CellModelFactory(mechanisms, parameters)\n",
    "simulation_runner = SimulationRunner(cell_factory, arb_protocol, nrn_protocol)\n",
    "arb_responses, nrn_responses = simulation_runner.run_all(replace_axon, params, default_dt)"
   ]
  },
  {
   "cell_type": "markdown",
   "id": "f4e55821",
   "metadata": {
    "papermill": {
     "duration": 0.013318,
     "end_time": "2022-08-11T19:55:55.545093",
     "exception": false,
     "start_time": "2022-08-11T19:55:55.531775",
     "status": "completed"
    },
    "tags": []
   },
   "source": [
    "...and to plot the responses for visual validation."
   ]
  },
  {
   "cell_type": "code",
   "execution_count": 17,
   "id": "f8ea81f4",
   "metadata": {
    "execution": {
     "iopub.execute_input": "2022-08-11T19:55:55.567171Z",
     "iopub.status.busy": "2022-08-11T19:55:55.566931Z",
     "iopub.status.idle": "2022-08-11T19:55:55.571841Z",
     "shell.execute_reply": "2022-08-11T19:55:55.571327Z"
    },
    "papermill": {
     "duration": 0.017473,
     "end_time": "2022-08-11T19:55:55.572875",
     "exception": false,
     "start_time": "2022-08-11T19:55:55.555402",
     "status": "completed"
    },
    "tags": []
   },
   "outputs": [],
   "source": [
    "def plot_response_comparison(arb_resp, nrn_resp, title):\n",
    "    num_protocols = len(protocol_steps)\n",
    "    num_recs = max([len(step['recordings']) for step in protocol_steps])\n",
    "    assert num_recs == 1  # add j as a second index with multiple recordings\n",
    "    fig, ax = plt.subplots(num_protocols, num_recs, figsize=(12,7))\n",
    "    for i, step in enumerate(protocol_steps):\n",
    "        for j, rec in enumerate(step['recordings']):\n",
    "            rec_name = rec['name']\n",
    "            ax[i].plot(nrn_resp[rec_name]['time'], nrn_resp[rec_name]['voltage'], label='Neuron ' + rec_name)\n",
    "            ax[i].plot(arb_resp[rec_name]['time'], arb_resp[rec_name]['voltage'], label='Arbor ' + rec_name)\n",
    "            ax[i].set_title(title)\n",
    "            ax[i].legend(loc='upper left')\n",
    "    plt.tight_layout()\n",
    "    plt.show()"
   ]
  },
  {
   "cell_type": "markdown",
   "id": "4b1818b1",
   "metadata": {
    "papermill": {
     "duration": 0.01259,
     "end_time": "2022-08-11T19:55:55.598883",
     "exception": false,
     "start_time": "2022-08-11T19:55:55.586293",
     "status": "completed"
    },
    "tags": []
   },
   "source": [
    "To analyze the responses, we compare the difference of voltage traces between Arbor and Neuron in the L1-norm. "
   ]
  },
  {
   "cell_type": "markdown",
   "id": "462ad931",
   "metadata": {
    "tags": [
     "papermill-error-cell-tag"
    ]
   },
   "source": [
    "<span id=\"papermill-error-cell\" style=\"color:red; font-family:Helvetica Neue, Helvetica, Arial, sans-serif; font-size:2em;\">Execution using papermill encountered an exception here and stopped:</span>"
   ]
  },
  {
   "cell_type": "code",
   "execution_count": 18,
   "id": "bbdf8d9e",
   "metadata": {
    "execution": {
     "iopub.execute_input": "2022-08-11T19:55:55.622151Z",
     "iopub.status.busy": "2022-08-11T19:55:55.621908Z",
     "iopub.status.idle": "2022-08-11T19:56:01.028703Z",
     "shell.execute_reply": "2022-08-11T19:56:01.027925Z"
    },
    "papermill": {
     "duration": 5.420053,
     "end_time": "2022-08-11T19:56:01.029659",
     "exception": true,
     "start_time": "2022-08-11T19:55:55.609606",
     "status": "failed"
    },
    "tags": []
   },
   "outputs": [
    {
     "ename": "TypeError",
     "evalue": "'NoneType' object is not subscriptable",
     "output_type": "error",
     "traceback": [
      "\u001b[0;31m---------------------------------------------------------------------------\u001b[0m",
      "\u001b[0;31mRemoteTraceback\u001b[0m                           Traceback (most recent call last)",
      "\u001b[0;31mRemoteTraceback\u001b[0m: \n\"\"\"\nTraceback (most recent call last):\n  File \"/usr/lib/python3.8/multiprocessing/pool.py\", line 125, in worker\n    result = (True, func(*args, **kwds))\n  File \"/usr/lib/python3.8/multiprocessing/pool.py\", line 48, in mapstar\n    return list(map(*args))\n  File \"/tmp/ipykernel_916673/2297768698.py\", line 14, in voltage_trace_residual_l1_norm_sweep_protocol\n    residual_l1_norm, residual_error = voltage_trace_residual_l1_norm(\n  File \"/tmp/ipykernel_916673/2297768698.py\", line 2, in voltage_trace_residual_l1_norm\n    int_resp_func = scipy.interpolate.interp1d(int_resp['time'], int_resp['voltage'], kind='cubic')\nTypeError: 'NoneType' object is not subscriptable\n\"\"\"",
      "\nThe above exception was the direct cause of the following exception:\n",
      "\u001b[0;31mTypeError\u001b[0m                                 Traceback (most recent call last)",
      "Input \u001b[0;32mIn [18]\u001b[0m, in \u001b[0;36m<cell line: 52>\u001b[0;34m()\u001b[0m\n\u001b[1;32m     42\u001b[0m             l1_results\u001b[38;5;241m.\u001b[39mappend(\n\u001b[1;32m     43\u001b[0m                 \u001b[38;5;28mdict\u001b[39m(replace_axon\u001b[38;5;241m=\u001b[39mkey[\u001b[38;5;241m0\u001b[39m],\n\u001b[1;32m     44\u001b[0m                      param_i\u001b[38;5;241m=\u001b[39mkey[\u001b[38;5;241m1\u001b[39m],\n\u001b[1;32m     45\u001b[0m                      \u001b[38;5;241m*\u001b[39m\u001b[38;5;241m*\u001b[39mparams[key[\u001b[38;5;241m1\u001b[39m]],\n\u001b[1;32m     46\u001b[0m                      protocol\u001b[38;5;241m=\u001b[39mstep,\n\u001b[1;32m     47\u001b[0m                      \u001b[38;5;241m*\u001b[39m\u001b[38;5;241m*\u001b[39ml1_task_result))\n\u001b[1;32m     49\u001b[0m     \u001b[38;5;28;01mreturn\u001b[39;00m pandas\u001b[38;5;241m.\u001b[39mDataFrame(l1_results)\n\u001b[0;32m---> 52\u001b[0m l1_results \u001b[38;5;241m=\u001b[39m \u001b[43manalyze_voltage_traces_l1\u001b[49m\u001b[43m(\u001b[49m\u001b[43marb_responses\u001b[49m\u001b[43m,\u001b[49m\u001b[43m \u001b[49m\u001b[43mnrn_responses\u001b[49m\u001b[43m)\u001b[49m\n\u001b[1;32m     53\u001b[0m pandas\u001b[38;5;241m.\u001b[39moptions\u001b[38;5;241m.\u001b[39mdisplay\u001b[38;5;241m.\u001b[39mfloat_format \u001b[38;5;241m=\u001b[39m \u001b[38;5;124m'\u001b[39m\u001b[38;5;132;01m{:,.3g}\u001b[39;00m\u001b[38;5;124m'\u001b[39m\u001b[38;5;241m.\u001b[39mformat\n\u001b[1;32m     54\u001b[0m l1_results\u001b[38;5;241m.\u001b[39msort_values(by\u001b[38;5;241m=\u001b[39m\u001b[38;5;124m'\u001b[39m\u001b[38;5;124mresidual_rel_l1_norm\u001b[39m\u001b[38;5;124m'\u001b[39m, ascending\u001b[38;5;241m=\u001b[39m\u001b[38;5;28;01mFalse\u001b[39;00m)\u001b[38;5;241m.\u001b[39mhead(\u001b[38;5;241m5\u001b[39m)\n",
      "Input \u001b[0;32mIn [18]\u001b[0m, in \u001b[0;36manalyze_voltage_traces_l1\u001b[0;34m(arb_resp, nrn_resp)\u001b[0m\n\u001b[1;32m     33\u001b[0m \u001b[38;5;66;03m# test_l5pc: insert if True:\u001b[39;00m\n\u001b[1;32m     34\u001b[0m \u001b[38;5;28;01mwith\u001b[39;00m multiprocessing\u001b[38;5;241m.\u001b[39mPool(multiprocessing\u001b[38;5;241m.\u001b[39mcpu_count()) \u001b[38;5;28;01mas\u001b[39;00m pool:\n\u001b[0;32m---> 35\u001b[0m     l1_task_results \u001b[38;5;241m=\u001b[39m \u001b[43mpool\u001b[49m\u001b[38;5;241;43m.\u001b[39;49m\u001b[43mmap\u001b[49m\u001b[43m(\u001b[49m\u001b[43mvoltage_trace_residual_l1_norm_sweep_protocol\u001b[49m\u001b[43m,\u001b[49m\n\u001b[1;32m     36\u001b[0m \u001b[43m                               \u001b[49m\u001b[43m[\u001b[49m\u001b[38;5;28;43mdict\u001b[39;49m\u001b[43m(\u001b[49m\u001b[43marb_resp\u001b[49m\u001b[38;5;241;43m=\u001b[39;49m\u001b[43marb_resp\u001b[49m\u001b[43m[\u001b[49m\u001b[43mkey\u001b[49m\u001b[43m]\u001b[49m\u001b[43m[\u001b[49m\u001b[43mstep\u001b[49m\u001b[43m]\u001b[49m\u001b[43m,\u001b[49m\n\u001b[1;32m     37\u001b[0m \u001b[43m                                     \u001b[49m\u001b[43mnrn_resp\u001b[49m\u001b[38;5;241;43m=\u001b[39;49m\u001b[43mnrn_resp\u001b[49m\u001b[43m[\u001b[49m\u001b[43mkey\u001b[49m\u001b[43m]\u001b[49m\u001b[43m[\u001b[49m\u001b[43mstep\u001b[49m\u001b[43m]\u001b[49m\u001b[43m)\u001b[49m\n\u001b[1;32m     38\u001b[0m \u001b[43m                                \u001b[49m\u001b[38;5;28;43;01mfor\u001b[39;49;00m\u001b[43m \u001b[49m\u001b[43mkey\u001b[49m\u001b[43m,\u001b[49m\u001b[43m \u001b[49m\u001b[43mstep\u001b[49m\u001b[43m \u001b[49m\u001b[38;5;129;43;01min\u001b[39;49;00m\u001b[43m \u001b[49m\u001b[43mindices\u001b[49m\u001b[43m]\u001b[49m\u001b[43m)\u001b[49m\n\u001b[1;32m     40\u001b[0m l1_results \u001b[38;5;241m=\u001b[39m []\n\u001b[1;32m     41\u001b[0m \u001b[38;5;28;01mfor\u001b[39;00m l1_task_result, (key, step) \u001b[38;5;129;01min\u001b[39;00m \u001b[38;5;28mzip\u001b[39m(l1_task_results, indices):\n",
      "File \u001b[0;32m/usr/lib/python3.8/multiprocessing/pool.py:364\u001b[0m, in \u001b[0;36mPool.map\u001b[0;34m(self, func, iterable, chunksize)\u001b[0m\n\u001b[1;32m    359\u001b[0m \u001b[38;5;28;01mdef\u001b[39;00m \u001b[38;5;21mmap\u001b[39m(\u001b[38;5;28mself\u001b[39m, func, iterable, chunksize\u001b[38;5;241m=\u001b[39m\u001b[38;5;28;01mNone\u001b[39;00m):\n\u001b[1;32m    360\u001b[0m     \u001b[38;5;124;03m'''\u001b[39;00m\n\u001b[1;32m    361\u001b[0m \u001b[38;5;124;03m    Apply `func` to each element in `iterable`, collecting the results\u001b[39;00m\n\u001b[1;32m    362\u001b[0m \u001b[38;5;124;03m    in a list that is returned.\u001b[39;00m\n\u001b[1;32m    363\u001b[0m \u001b[38;5;124;03m    '''\u001b[39;00m\n\u001b[0;32m--> 364\u001b[0m     \u001b[38;5;28;01mreturn\u001b[39;00m \u001b[38;5;28;43mself\u001b[39;49m\u001b[38;5;241;43m.\u001b[39;49m\u001b[43m_map_async\u001b[49m\u001b[43m(\u001b[49m\u001b[43mfunc\u001b[49m\u001b[43m,\u001b[49m\u001b[43m \u001b[49m\u001b[43miterable\u001b[49m\u001b[43m,\u001b[49m\u001b[43m \u001b[49m\u001b[43mmapstar\u001b[49m\u001b[43m,\u001b[49m\u001b[43m \u001b[49m\u001b[43mchunksize\u001b[49m\u001b[43m)\u001b[49m\u001b[38;5;241;43m.\u001b[39;49m\u001b[43mget\u001b[49m\u001b[43m(\u001b[49m\u001b[43m)\u001b[49m\n",
      "File \u001b[0;32m/usr/lib/python3.8/multiprocessing/pool.py:771\u001b[0m, in \u001b[0;36mApplyResult.get\u001b[0;34m(self, timeout)\u001b[0m\n\u001b[1;32m    769\u001b[0m     \u001b[38;5;28;01mreturn\u001b[39;00m \u001b[38;5;28mself\u001b[39m\u001b[38;5;241m.\u001b[39m_value\n\u001b[1;32m    770\u001b[0m \u001b[38;5;28;01melse\u001b[39;00m:\n\u001b[0;32m--> 771\u001b[0m     \u001b[38;5;28;01mraise\u001b[39;00m \u001b[38;5;28mself\u001b[39m\u001b[38;5;241m.\u001b[39m_value\n",
      "\u001b[0;31mTypeError\u001b[0m: 'NoneType' object is not subscriptable"
     ]
    }
   ],
   "source": [
    "\n",
    "def voltage_trace_residual_l1_norm(int_resp, ref_resp):\n",
    "    int_resp_func = scipy.interpolate.interp1d(int_resp['time'], int_resp['voltage'], kind='cubic')\n",
    "    ref_resp_func = scipy.interpolate.interp1d(ref_resp['time'], ref_resp['voltage'], kind='cubic')\n",
    "    abs_diff = lambda t: abs(int_resp_func(t)-ref_resp_func(t))\n",
    "    with warnings.catch_warnings():\n",
    "        warnings.filterwarnings(\"ignore\", category=scipy.integrate.IntegrationWarning)\n",
    "        return scipy.integrate.quad(abs_diff, ref_resp['time'][0], ref_resp['time'][-1], limit=400)\n",
    "\n",
    "\n",
    "def voltage_trace_residual_l1_norm_sweep_protocol(args):\n",
    "    arb_resp = args['arb_resp']\n",
    "    nrn_resp = args['nrn_resp']\n",
    "\n",
    "    residual_l1_norm, residual_error = voltage_trace_residual_l1_norm(\n",
    "        nrn_resp, arb_resp)\n",
    "\n",
    "    nrn_to_min_l1_norm, nrn_to_min_error = \\\n",
    "        voltage_trace_residual_l1_norm(\n",
    "            nrn_resp,\n",
    "            dict(time=nrn_resp['time'].values,\n",
    "                 voltage=numpy.full(nrn_resp['voltage'].shape,\n",
    "                                    numpy.min(nrn_resp['voltage']))))\n",
    "    return dict(\n",
    "        residual_rel_l1_norm=residual_l1_norm/nrn_to_min_l1_norm,\n",
    "        residual_rel_l1_error=residual_error/residual_l1_norm + \\\n",
    "                            nrn_to_min_error/nrn_to_min_l1_norm\n",
    "    )\n",
    "\n",
    "\n",
    "def analyze_voltage_traces_l1(arb_resp, nrn_resp):\n",
    "    indices = [(key,step) for key in arb_resp for step in arb_resp[key]]\n",
    "\n",
    "    # test_l5pc: insert if True:\n",
    "    with multiprocessing.Pool(multiprocessing.cpu_count()) as pool:\n",
    "        l1_task_results = pool.map(voltage_trace_residual_l1_norm_sweep_protocol,\n",
    "                                   [dict(arb_resp=arb_resp[key][step],\n",
    "                                         nrn_resp=nrn_resp[key][step])\n",
    "                                    for key, step in indices])\n",
    "\n",
    "    l1_results = []\n",
    "    for l1_task_result, (key, step) in zip(l1_task_results, indices):\n",
    "            l1_results.append(\n",
    "                dict(replace_axon=key[0],\n",
    "                     param_i=key[1],\n",
    "                     **params[key[1]],\n",
    "                     protocol=step,\n",
    "                     **l1_task_result))\n",
    "\n",
    "    return pandas.DataFrame(l1_results)\n",
    "\n",
    "\n",
    "l1_results = analyze_voltage_traces_l1(arb_responses, nrn_responses)\n",
    "pandas.options.display.float_format = '{:,.3g}'.format\n",
    "l1_results.sort_values(by='residual_rel_l1_norm', ascending=False).head(5)"
   ]
  },
  {
   "cell_type": "code",
   "execution_count": null,
   "id": "c6087d2e",
   "metadata": {
    "papermill": {
     "duration": null,
     "end_time": null,
     "exception": null,
     "start_time": null,
     "status": "pending"
    },
    "tags": []
   },
   "outputs": [],
   "source": [
    "def print_voltage_trace_l1_results(config_str, l1_results):\n",
    "    voltage_residual_rel_l1_error_tolerance = 1e-2 * voltage_residual_rel_l1_tolerance\n",
    "\n",
    "    mean_rel_l1_norm = l1_results['residual_rel_l1_norm'].mean()\n",
    "    mean_rel_l1_error = l1_results['residual_rel_l1_error'].mean()\n",
    "    # max_l1_norm_record = l1_results.loc[l1_results['residual_rel_l1_norm'].idxmax()]\n",
    "\n",
    "    message = '{}: test_l5pc %s! The mean relative Arbor-Neuron L1-deviation and error (tol in brackets) are {:,.3g} ({:,.3g}), {:,.3g} ({:,.3g}).'.format(\n",
    "        config_str, mean_rel_l1_norm, voltage_residual_rel_l1_tolerance, mean_rel_l1_error, voltage_residual_rel_l1_error_tolerance)\n",
    "    if mean_rel_l1_norm < voltage_residual_rel_l1_tolerance and mean_rel_l1_error < voltage_residual_rel_l1_error_tolerance:\n",
    "        print(message % 'OK')\n",
    "    else:\n",
    "        print(message % 'ERROR')\n",
    "\n",
    "\n",
    "print_voltage_trace_l1_results('Default dt ({:,.3g})'.format(default_dt), l1_results)"
   ]
  },
  {
   "cell_type": "code",
   "execution_count": null,
   "id": "5833b4f8",
   "metadata": {
    "papermill": {
     "duration": null,
     "end_time": null,
     "exception": null,
     "start_time": null,
     "status": "pending"
    },
    "tags": []
   },
   "outputs": [],
   "source": [
    "def compare_responses(arb_resp, nrn_resp, l1_results, *key):\n",
    "    if key in arb_resp:\n",
    "        plot_response_comparison(arb_resp[key], nrn_resp[key], 'replace_axon = %s, param_i = %s ' % (key[0], key[1]))\n",
    "        display(l1_results[(l1_results['replace_axon'] == key[0]) & (l1_results['param_i'] == key[1])])\n",
    "\n",
    "\n",
    "for param_i in range(len(params)):  # test_l5pc: skip\n",
    "    for do_replace_axon in replace_axon:  # test_l5pc: skip\n",
    "        compare_responses(arb_responses, nrn_responses, l1_results, do_replace_axon, param_i)  # test_l5pc: skip"
   ]
  },
  {
   "cell_type": "markdown",
   "id": "83c1cb9c",
   "metadata": {
    "papermill": {
     "duration": null,
     "end_time": null,
     "exception": null,
     "start_time": null,
     "status": "pending"
    },
    "tags": []
   },
   "source": [
    "The voltage traces look mostly similar between Arbor and Neuron. Under certain conditions, we can perform spike time analysis to understand this quantitatively. "
   ]
  },
  {
   "cell_type": "markdown",
   "id": "990aa21d",
   "metadata": {
    "papermill": {
     "duration": null,
     "end_time": null,
     "exception": null,
     "start_time": null,
     "status": "pending"
    },
    "tags": []
   },
   "source": [
    "### Spike time cross-validation\n",
    "\n",
    "To compare Arbor and Neuron voltage traces further, we analyze the spike counts and times with the eFEL library and Arbor's built-in spike detector. Note that while eFEL measures the `peak_time`, Arbor's spike detector as configured above will measure the time when the voltage passes a threshold of -10 mV."
   ]
  },
  {
   "cell_type": "code",
   "execution_count": null,
   "id": "d7cda77f",
   "metadata": {
    "papermill": {
     "duration": null,
     "end_time": null,
     "exception": null,
     "start_time": null,
     "status": "pending"
    },
    "tags": []
   },
   "outputs": [],
   "source": [
    "if run_spike_time_analysis:\n",
    "\n",
    "    efel_features = ['Spikecount',\n",
    "                    'time_to_first_spike',\n",
    "                    'time_to_second_spike',\n",
    "                    'time_to_last_spike']\n",
    "\n",
    "\n",
    "    # Extract spike observables from protocol simulation responses\n",
    "    def get_spike_data(protocols, do_replace_axon, param_values,\n",
    "                       arb_resp, nrn_resp):\n",
    "        spike_res = []\n",
    "\n",
    "        for step in protocols:\n",
    "            recording_name = step['recordings'][0]['name'] # use only first recording\n",
    "            stim_start = min([stim['delay'] for stim in step['stimuli']])\n",
    "            stim_end = max([stim['delay'] + stim['duration'] for stim in step['stimuli']])\n",
    "\n",
    "            for efel_feature_name in efel_features:\n",
    "                # Calculate spike observables with eFEL\n",
    "                feature_name = '%s.%s' % (step['name'], efel_feature_name)\n",
    "                feature = ephys.efeatures.eFELFeature(\n",
    "                            feature_name,\n",
    "                            efel_feature_name=efel_feature_name,\n",
    "                            recording_names={'': recording_name},\n",
    "                            stim_start=stim_start,\n",
    "                            stim_end=stim_end)\n",
    "\n",
    "                # Calculate spike observables with Arbor\n",
    "                try:\n",
    "                    if efel_feature_name == 'Spikecount':\n",
    "                        arbor_int = len(arb_resp[recording_name]['spikes'])\n",
    "                    elif efel_feature_name == 'time_to_first_spike':\n",
    "                        arbor_int = arb_resp[recording_name]['spikes'][0]-stim_start\n",
    "                    elif efel_feature_name == 'time_to_second_spike':\n",
    "                        arbor_int = arb_resp[recording_name]['spikes'][1]-stim_start\n",
    "                    elif efel_feature_name == 'time_to_last_spike':\n",
    "                        arbor_int = arb_resp[recording_name]['spikes'][-1]-stim_start\n",
    "                except Exception:\n",
    "                    arbor_int = numpy.nan\n",
    "\n",
    "                spike_res.append(dict(\n",
    "                    replace_axon=do_replace_axon,\n",
    "                    protocol=step['name'],\n",
    "                    **param_values,\n",
    "                    efel=efel_feature_name,\n",
    "                    Neuron=feature.calculate_feature(nrn_resp),\n",
    "                    Arbor=feature.calculate_feature(arb_resp),\n",
    "                    Arbor_int=arbor_int))\n",
    "        return spike_res\n",
    "\n",
    "\n",
    "    # Compare spike observables between Arbor and Neuron\n",
    "    def analyze_spikes(spike_res):\n",
    "        spike_res_df = pandas.DataFrame(spike_res)\n",
    "        spike_res_df.set_index(\n",
    "            ['replace_axon', 'protocol',\n",
    "             *param_names, 'efel'], inplace=True)\n",
    "        spike_res_df.dropna(how='all', inplace=True)  # drop all-NaN rows\n",
    "\n",
    "        # Arbor to Neuron cross-validation with eFEL\n",
    "        spike_res_df['abs_diff Arbor to Neuron'] = \\\n",
    "            spike_res_df.apply(\n",
    "                lambda r: abs(r['Arbor']-r['Neuron']), axis=1)\n",
    "        spike_res_df['rel_abs_diff Arbor to Neuron [%]'] = \\\n",
    "            spike_res_df.apply(\n",
    "                lambda r: 100.*abs(r['Arbor']-r['Neuron'])/r['Neuron']\n",
    "                          if r['Neuron'] != 0 else numpy.nan, axis=1)\n",
    "\n",
    "        # Cross-validation of eFEL's spike detection with Arbor's\n",
    "        spike_res_df['abs_diff eFEL to Arbor-internal'] = \\\n",
    "            spike_res_df.apply(\n",
    "                lambda r: abs(r['Arbor']-r['Arbor_int']), axis=1)\n",
    "        spike_res_df['rel_abs_diff eFEL to Arbor-internal [%]'] = \\\n",
    "            spike_res_df.apply(\n",
    "                lambda r: 100.*abs(r['Arbor']-r['Arbor_int'])/r['Arbor_int']\n",
    "                          if r['Arbor_int'] != 0 else numpy.nan, axis=1)\n",
    "        return spike_res_df\n",
    "\n",
    "\n",
    "    # Aggregate all simulations into a single data frame \n",
    "    def joint_spike_analysis(arb_resp, nrn_resp, replace_axon_policies, param_list):\n",
    "        return pandas.concat(\n",
    "            [analyze_spikes(get_spike_data(protocol_steps,\n",
    "                                           replace_axon_policies[key[0]],\n",
    "                                           param_list[key[1]],\n",
    "                                           arb_resp[key],\n",
    "                                           nrn_resp[key]))\n",
    "             for key in arb_resp], axis=0)\n",
    "\n",
    "\n",
    "    pandas.options.display.float_format = '{:,.3g}'.format\n",
    "    # pandas.options.display.max_rows = None  # uncomment for full view\n",
    "    spike_results = joint_spike_analysis(arb_responses, nrn_responses, replace_axon, params)\n",
    "    display(spike_results)"
   ]
  },
  {
   "cell_type": "markdown",
   "id": "da18ce92",
   "metadata": {
    "papermill": {
     "duration": null,
     "end_time": null,
     "exception": null,
     "start_time": null,
     "status": "pending"
    },
    "tags": []
   },
   "source": [
    "To understand the deviations over the entire parameter set and different axon replacement policies, we explore the per eFEL-observable statistics. Compare the `Spikecount`s that are usually fully consistent between Arbor and Neuron, whereas `time_to_last_spike` are the least consistent of these variables."
   ]
  },
  {
   "cell_type": "code",
   "execution_count": null,
   "id": "5e82ca8e",
   "metadata": {
    "papermill": {
     "duration": null,
     "end_time": null,
     "exception": null,
     "start_time": null,
     "status": "pending"
    },
    "tags": []
   },
   "outputs": [],
   "source": [
    "if run_spike_time_analysis:\n",
    "    display(spike_results[['abs_diff Arbor to Neuron',\n",
    "                           'rel_abs_diff Arbor to Neuron [%]']].groupby('efel').describe())"
   ]
  },
  {
   "cell_type": "markdown",
   "id": "70a92953",
   "metadata": {
    "papermill": {
     "duration": null,
     "end_time": null,
     "exception": null,
     "start_time": null,
     "status": "pending"
    },
    "tags": []
   },
   "source": [
    "We can inspect the traces with highest difference in `time_to_last_spike` to identify outliers."
   ]
  },
  {
   "cell_type": "code",
   "execution_count": null,
   "id": "8e2471a1",
   "metadata": {
    "papermill": {
     "duration": null,
     "end_time": null,
     "exception": null,
     "start_time": null,
     "status": "pending"
    },
    "tags": []
   },
   "outputs": [],
   "source": [
    "if run_spike_time_analysis:\n",
    "    display(spike_results[ [el[spike_results.index.names.index('efel')] == 'time_to_last_spike'\n",
    "                            for el in spike_results.index] ].sort_values(\n",
    "                            by='abs_diff Arbor to Neuron', ascending=False).head(5))"
   ]
  },
  {
   "cell_type": "markdown",
   "id": "871d0d29",
   "metadata": {
    "papermill": {
     "duration": null,
     "end_time": null,
     "exception": null,
     "start_time": null,
     "status": "pending"
    },
    "tags": []
   },
   "source": [
    "For the spike times, we find the anticipated bias between eFEL and Arbor's internal spike detector."
   ]
  },
  {
   "cell_type": "code",
   "execution_count": null,
   "id": "039d96f5",
   "metadata": {
    "papermill": {
     "duration": null,
     "end_time": null,
     "exception": null,
     "start_time": null,
     "status": "pending"
    },
    "tags": []
   },
   "outputs": [],
   "source": [
    "if run_spike_time_analysis:\n",
    "    display(spike_results[['abs_diff eFEL to Arbor-internal',\n",
    "                           'rel_abs_diff eFEL to Arbor-internal [%]']].groupby('efel').describe())"
   ]
  },
  {
   "cell_type": "markdown",
   "id": "d840f3f6",
   "metadata": {
    "papermill": {
     "duration": null,
     "end_time": null,
     "exception": null,
     "start_time": null,
     "status": "pending"
    },
    "tags": []
   },
   "source": [
    "### Running protocols with a finer time step\n",
    "\n",
    "To rule out the discretization as a possible source of the above error in `time_to_last_spike`, we can re-run the simulations at a smaller `dt` of 0.001 ms (default is 0.025 ms)."
   ]
  },
  {
   "cell_type": "code",
   "execution_count": null,
   "id": "a4ce4ac8",
   "metadata": {
    "papermill": {
     "duration": null,
     "end_time": null,
     "exception": null,
     "start_time": null,
     "status": "pending"
    },
    "tags": []
   },
   "outputs": [],
   "source": [
    "if run_fine_dt:\n",
    "    arb_responses_fine_dt, nrn_responses_fine_dt = simulation_runner.run_all(replace_axon, params, dt=fine_dt)\n",
    "\n",
    "    l1_results_fine_dt = analyze_voltage_traces_l1(arb_responses_fine_dt, nrn_responses_fine_dt)\n",
    "\n",
    "    display(l1_results_fine_dt.sort_values(by='residual_rel_l1_norm', ascending=False).head(5))"
   ]
  },
  {
   "cell_type": "code",
   "execution_count": null,
   "id": "5e3304cc",
   "metadata": {
    "papermill": {
     "duration": null,
     "end_time": null,
     "exception": null,
     "start_time": null,
     "status": "pending"
    },
    "tags": []
   },
   "outputs": [],
   "source": [
    "if run_fine_dt:\n",
    "    print_voltage_trace_l1_results('Fine dt ({:,.3g})'.format(fine_dt), l1_results_fine_dt)"
   ]
  },
  {
   "cell_type": "code",
   "execution_count": null,
   "id": "84481ef8",
   "metadata": {
    "papermill": {
     "duration": null,
     "end_time": null,
     "exception": null,
     "start_time": null,
     "status": "pending"
    },
    "tags": []
   },
   "outputs": [],
   "source": [
    "if run_fine_dt:\n",
    "    for param_i in range(len(params)):\n",
    "        for do_replace_axon in replace_axon:\n",
    "            compare_responses(arb_responses_fine_dt,\n",
    "                              nrn_responses_fine_dt,\n",
    "                              l1_results_fine_dt,\n",
    "                              do_replace_axon, param_i)"
   ]
  },
  {
   "cell_type": "code",
   "execution_count": null,
   "id": "35952b17",
   "metadata": {
    "papermill": {
     "duration": null,
     "end_time": null,
     "exception": null,
     "start_time": null,
     "status": "pending"
    },
    "tags": []
   },
   "outputs": [],
   "source": [
    "if run_spike_time_analysis and run_fine_dt:\n",
    "    spike_results_fine_dt = joint_spike_analysis(arb_responses_fine_dt, nrn_responses_fine_dt, replace_axon, params)\n",
    "    display(spike_results_fine_dt)"
   ]
  },
  {
   "cell_type": "code",
   "execution_count": null,
   "id": "d3d66643",
   "metadata": {
    "papermill": {
     "duration": null,
     "end_time": null,
     "exception": null,
     "start_time": null,
     "status": "pending"
    },
    "tags": []
   },
   "outputs": [],
   "source": [
    "if run_spike_time_analysis and run_fine_dt:\n",
    "    display(spike_results_fine_dt[['abs_diff Arbor to Neuron',\n",
    "                                   'rel_abs_diff Arbor to Neuron [%]']].groupby('efel').describe())"
   ]
  },
  {
   "cell_type": "markdown",
   "id": "2431d8ff",
   "metadata": {
    "papermill": {
     "duration": null,
     "end_time": null,
     "exception": null,
     "start_time": null,
     "status": "pending"
    },
    "tags": []
   },
   "source": [
    "The outlier in `time_to_last_spike` is gone now, both visually and quantitatively."
   ]
  },
  {
   "cell_type": "code",
   "execution_count": null,
   "id": "face20cc",
   "metadata": {
    "papermill": {
     "duration": null,
     "end_time": null,
     "exception": null,
     "start_time": null,
     "status": "pending"
    },
    "tags": []
   },
   "outputs": [],
   "source": [
    "if run_spike_time_analysis and run_fine_dt:\n",
    "    display(spike_results_fine_dt[ [el[spike_results_fine_dt.index.names.index('efel')] == 'time_to_last_spike'\n",
    "                                    for el in spike_results_fine_dt.index] ].sort_values(\n",
    "                                    by='abs_diff Arbor to Neuron', ascending=False).head(5))"
   ]
  },
  {
   "cell_type": "code",
   "execution_count": null,
   "id": "1dd3c47b",
   "metadata": {
    "papermill": {
     "duration": null,
     "end_time": null,
     "exception": null,
     "start_time": null,
     "status": "pending"
    },
    "tags": []
   },
   "outputs": [],
   "source": [
    "if run_spike_time_analysis and run_fine_dt:\n",
    "    display(spike_results_fine_dt[['abs_diff eFEL to Arbor-internal',\n",
    "                                   'rel_abs_diff eFEL to Arbor-internal [%]']].groupby('efel').describe())"
   ]
  },
  {
   "cell_type": "markdown",
   "id": "6bbdeec0",
   "metadata": {
    "papermill": {
     "duration": null,
     "end_time": null,
     "exception": null,
     "start_time": null,
     "status": "pending"
    },
    "tags": []
   },
   "source": [
    "Furthermore, the mean deviation between Arbor and Neuron for eFEL spike times is significantly reduced."
   ]
  },
  {
   "cell_type": "code",
   "execution_count": null,
   "id": "c4a07345",
   "metadata": {
    "papermill": {
     "duration": null,
     "end_time": null,
     "exception": null,
     "start_time": null,
     "status": "pending"
    },
    "tags": []
   },
   "outputs": [],
   "source": [
    "if run_spike_time_analysis and run_fine_dt:\n",
    "    display((spike_results_fine_dt[['abs_diff Arbor to Neuron']].groupby('efel').mean()/\n",
    "             spike_results[['abs_diff Arbor to Neuron']].groupby('efel').mean()).rename(\n",
    "                 columns={'abs_diff Arbor to Neuron': \n",
    "                         'ratio of mean abs_diff Arbor to Neuron for fine dt vs. default dt'}))\n"
   ]
  }
 ],
 "metadata": {
  "kernelspec": {
   "display_name": "Python 3 (ipykernel)",
   "language": "python",
   "name": "python3"
  },
  "language_info": {
   "codemirror_mode": {
    "name": "ipython",
    "version": 3
   },
   "file_extension": ".py",
   "mimetype": "text/x-python",
   "name": "python",
   "nbconvert_exporter": "python",
   "pygments_lexer": "ipython3",
   "version": "3.8.10"
  },
  "papermill": {
   "default_parameters": {},
   "duration": 14.236634,
   "end_time": "2022-08-11T19:56:01.456591",
   "environment_variables": {},
   "exception": true,
   "input_path": "l5pc_soma_arbor.ipynb",
   "output_path": "../../../BluePyOpt-utils/validation/all-regions/l5pc_soma_arbor_somatic_CaDynamics_E2_Ca_LVAst.ipynb",
   "parameters": {
    "default_dt": 0.025,
    "extra_params": {
     "Ra": [
      "all"
     ],
     "celsius": "global",
     "cm": [
      "all"
     ],
     "e_pas": [
      "all"
     ],
     "g_pas": [
      "all"
     ],
     "v_init": "global"
    },
    "mechanism_defs": {
     "all": [
      "pas"
     ],
     "somatic": [
      "CaDynamics_E2",
      "Ca_LVAst"
     ]
    },
    "param_values_json": "../../../BluePyOpt-utils/validation/all-regions/param_values.json",
    "run_fine_dt": true,
    "run_spike_time_analysis": false,
    "voltage_residual_rel_l1_tolerance": 0.05
   },
   "start_time": "2022-08-11T19:55:47.219957",
   "version": "2.3.4"
  },
  "vscode": {
   "interpreter": {
    "hash": "581988038cf9ce8838e7faf3da7c29f4ff88d898cd43cb17e0086e389d8deda2"
   }
  }
 },
 "nbformat": 4,
 "nbformat_minor": 5
}